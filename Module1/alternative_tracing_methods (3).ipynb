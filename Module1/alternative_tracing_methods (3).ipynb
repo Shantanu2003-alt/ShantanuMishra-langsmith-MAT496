{
  "cells": [
    {
      "cell_type": "markdown",
      "metadata": {
        "id": "koTp7O13w4P_"
      },
      "source": [
        "# Alternative Tracing Methods"
      ]
    },
    {
      "cell_type": "markdown",
      "metadata": {
        "id": "DVJq5E5uw4QA"
      },
      "source": [
        "![AWTT](../../images/alternative_ways_to_trace_0.png)"
      ]
    },
    {
      "cell_type": "markdown",
      "metadata": {
        "id": "t8-NMrOZw4QA"
      },
      "source": [
        "So far in this module, we've taken a look at the traceable decorator, and how we can use it to set up tracing.\n",
        "\n",
        "In this lesson, we're going to look at alternative ways in which we can set up tracing, and when you should think about using these different approaches."
      ]
    },
    {
      "cell_type": "markdown",
      "metadata": {
        "id": "8I0uMro0w4QB"
      },
      "source": [
        "## LangChain and LangGraph"
      ]
    },
    {
      "cell_type": "markdown",
      "metadata": {
        "id": "H806noa1w4QB"
      },
      "source": [
        "If we are using LangChain or LangGraph, all we need to do to set up tracing is to set a few environment variables"
      ]
    },
    {
      "cell_type": "markdown",
      "metadata": {
        "id": "DohEw2rUw4QB"
      },
      "source": [
        "![AWTT](../../images/alternative_ways_to_trace_1.png)"
      ]
    },
    {
      "cell_type": "code",
      "execution_count": 1,
      "metadata": {
        "id": "-cQHcZiow4QB"
      },
      "outputs": [],
      "source": [
        "# You can set them inline\n",
        "import os\n",
        "os.environ[\"OPENAI_API_KEY\"] = \"\" # API key is sensitive to share\n",
        "os.environ[\"LANGSMITH_API_KEY\"] = \"\" # API key is sensitive to share\n",
        "os.environ[\"LANGSMITH_TRACING\"] = \"true\"\n",
        "os.environ[\"LANGSMITH_PROJECT\"] = \"langsmith-academy\"  # If you don't set this, traces will go to the Default project"
      ]
    },
    {
      "cell_type": "code",
      "execution_count": 2,
      "metadata": {
        "colab": {
          "base_uri": "https://localhost:8080/"
        },
        "id": "L3jM_s0-w4QC",
        "outputId": "a69aae60-87dd-4a07-9cd1-00f8f73fec93"
      },
      "outputs": [
        {
          "output_type": "execute_result",
          "data": {
            "text/plain": [
              "False"
            ]
          },
          "metadata": {},
          "execution_count": 2
        }
      ],
      "source": [
        "# Or you can use a .env file\n",
        "from dotenv import load_dotenv\n",
        "load_dotenv(dotenv_path=\"../../.env\", override=True)"
      ]
    },
    {
      "cell_type": "code",
      "source": [
        "!pip install -q langchain_openai langgraph langchain"
      ],
      "metadata": {
        "id": "lluLp3IHE4bh"
      },
      "execution_count": 3,
      "outputs": []
    },
    {
      "cell_type": "code",
      "source": [
        "!pip install -q openai\n"
      ],
      "metadata": {
        "id": "DfI3NeS4E9N0"
      },
      "execution_count": 4,
      "outputs": []
    },
    {
      "cell_type": "code",
      "source": [
        "!pip install -q langchain-community\n"
      ],
      "metadata": {
        "id": "qUiglmw1GWC3"
      },
      "execution_count": 5,
      "outputs": []
    },
    {
      "cell_type": "code",
      "source": [
        "%pip install -U nest_asyncio langchain langchain-core langchain-openai langgraph typing-extensions"
      ],
      "metadata": {
        "colab": {
          "base_uri": "https://localhost:8080/"
        },
        "id": "qBA0Rj02hmA6",
        "outputId": "1dc9a1c2-1256-415f-cd36-feb6ad46d69f"
      },
      "execution_count": 6,
      "outputs": [
        {
          "output_type": "stream",
          "name": "stdout",
          "text": [
            "Requirement already satisfied: nest_asyncio in /usr/local/lib/python3.12/dist-packages (1.6.0)\n",
            "Requirement already satisfied: langchain in /usr/local/lib/python3.12/dist-packages (0.3.27)\n",
            "Requirement already satisfied: langchain-core in /usr/local/lib/python3.12/dist-packages (0.3.78)\n",
            "Requirement already satisfied: langchain-openai in /usr/local/lib/python3.12/dist-packages (0.3.34)\n",
            "Requirement already satisfied: langgraph in /usr/local/lib/python3.12/dist-packages (0.6.8)\n",
            "Requirement already satisfied: typing-extensions in /usr/local/lib/python3.12/dist-packages (4.15.0)\n",
            "Requirement already satisfied: langchain-text-splitters<1.0.0,>=0.3.9 in /usr/local/lib/python3.12/dist-packages (from langchain) (0.3.11)\n",
            "Requirement already satisfied: langsmith>=0.1.17 in /usr/local/lib/python3.12/dist-packages (from langchain) (0.4.31)\n",
            "Requirement already satisfied: pydantic<3.0.0,>=2.7.4 in /usr/local/lib/python3.12/dist-packages (from langchain) (2.11.9)\n",
            "Requirement already satisfied: SQLAlchemy<3,>=1.4 in /usr/local/lib/python3.12/dist-packages (from langchain) (2.0.43)\n",
            "Requirement already satisfied: requests<3,>=2 in /usr/local/lib/python3.12/dist-packages (from langchain) (2.32.5)\n",
            "Requirement already satisfied: PyYAML>=5.3 in /usr/local/lib/python3.12/dist-packages (from langchain) (6.0.3)\n",
            "Requirement already satisfied: tenacity!=8.4.0,<10.0.0,>=8.1.0 in /usr/local/lib/python3.12/dist-packages (from langchain-core) (8.5.0)\n",
            "Requirement already satisfied: jsonpatch<2.0.0,>=1.33.0 in /usr/local/lib/python3.12/dist-packages (from langchain-core) (1.33)\n",
            "Requirement already satisfied: packaging<26.0.0,>=23.2.0 in /usr/local/lib/python3.12/dist-packages (from langchain-core) (25.0)\n",
            "Requirement already satisfied: openai<3.0.0,>=1.104.2 in /usr/local/lib/python3.12/dist-packages (from langchain-openai) (1.109.1)\n",
            "Requirement already satisfied: tiktoken<1.0.0,>=0.7.0 in /usr/local/lib/python3.12/dist-packages (from langchain-openai) (0.11.0)\n",
            "Requirement already satisfied: langgraph-checkpoint<3.0.0,>=2.1.0 in /usr/local/lib/python3.12/dist-packages (from langgraph) (2.1.1)\n",
            "Requirement already satisfied: langgraph-prebuilt<0.7.0,>=0.6.0 in /usr/local/lib/python3.12/dist-packages (from langgraph) (0.6.4)\n",
            "Requirement already satisfied: langgraph-sdk<0.3.0,>=0.2.2 in /usr/local/lib/python3.12/dist-packages (from langgraph) (0.2.9)\n",
            "Requirement already satisfied: xxhash>=3.5.0 in /usr/local/lib/python3.12/dist-packages (from langgraph) (3.5.0)\n",
            "Requirement already satisfied: jsonpointer>=1.9 in /usr/local/lib/python3.12/dist-packages (from jsonpatch<2.0.0,>=1.33.0->langchain-core) (3.0.0)\n",
            "Requirement already satisfied: ormsgpack>=1.10.0 in /usr/local/lib/python3.12/dist-packages (from langgraph-checkpoint<3.0.0,>=2.1.0->langgraph) (1.10.0)\n",
            "Requirement already satisfied: httpx>=0.25.2 in /usr/local/lib/python3.12/dist-packages (from langgraph-sdk<0.3.0,>=0.2.2->langgraph) (0.28.1)\n",
            "Requirement already satisfied: orjson>=3.10.1 in /usr/local/lib/python3.12/dist-packages (from langgraph-sdk<0.3.0,>=0.2.2->langgraph) (3.11.3)\n",
            "Requirement already satisfied: requests-toolbelt>=1.0.0 in /usr/local/lib/python3.12/dist-packages (from langsmith>=0.1.17->langchain) (1.0.0)\n",
            "Requirement already satisfied: zstandard>=0.23.0 in /usr/local/lib/python3.12/dist-packages (from langsmith>=0.1.17->langchain) (0.25.0)\n",
            "Requirement already satisfied: anyio<5,>=3.5.0 in /usr/local/lib/python3.12/dist-packages (from openai<3.0.0,>=1.104.2->langchain-openai) (4.11.0)\n",
            "Requirement already satisfied: distro<2,>=1.7.0 in /usr/local/lib/python3.12/dist-packages (from openai<3.0.0,>=1.104.2->langchain-openai) (1.9.0)\n",
            "Requirement already satisfied: jiter<1,>=0.4.0 in /usr/local/lib/python3.12/dist-packages (from openai<3.0.0,>=1.104.2->langchain-openai) (0.11.0)\n",
            "Requirement already satisfied: sniffio in /usr/local/lib/python3.12/dist-packages (from openai<3.0.0,>=1.104.2->langchain-openai) (1.3.1)\n",
            "Requirement already satisfied: tqdm>4 in /usr/local/lib/python3.12/dist-packages (from openai<3.0.0,>=1.104.2->langchain-openai) (4.67.1)\n",
            "Requirement already satisfied: annotated-types>=0.6.0 in /usr/local/lib/python3.12/dist-packages (from pydantic<3.0.0,>=2.7.4->langchain) (0.7.0)\n",
            "Requirement already satisfied: pydantic-core==2.33.2 in /usr/local/lib/python3.12/dist-packages (from pydantic<3.0.0,>=2.7.4->langchain) (2.33.2)\n",
            "Requirement already satisfied: typing-inspection>=0.4.0 in /usr/local/lib/python3.12/dist-packages (from pydantic<3.0.0,>=2.7.4->langchain) (0.4.2)\n",
            "Requirement already satisfied: charset_normalizer<4,>=2 in /usr/local/lib/python3.12/dist-packages (from requests<3,>=2->langchain) (3.4.3)\n",
            "Requirement already satisfied: idna<4,>=2.5 in /usr/local/lib/python3.12/dist-packages (from requests<3,>=2->langchain) (3.10)\n",
            "Requirement already satisfied: urllib3<3,>=1.21.1 in /usr/local/lib/python3.12/dist-packages (from requests<3,>=2->langchain) (2.5.0)\n",
            "Requirement already satisfied: certifi>=2017.4.17 in /usr/local/lib/python3.12/dist-packages (from requests<3,>=2->langchain) (2025.8.3)\n",
            "Requirement already satisfied: greenlet>=1 in /usr/local/lib/python3.12/dist-packages (from SQLAlchemy<3,>=1.4->langchain) (3.2.4)\n",
            "Requirement already satisfied: regex>=2022.1.18 in /usr/local/lib/python3.12/dist-packages (from tiktoken<1.0.0,>=0.7.0->langchain-openai) (2024.11.6)\n",
            "Requirement already satisfied: httpcore==1.* in /usr/local/lib/python3.12/dist-packages (from httpx>=0.25.2->langgraph-sdk<0.3.0,>=0.2.2->langgraph) (1.0.9)\n",
            "Requirement already satisfied: h11>=0.16 in /usr/local/lib/python3.12/dist-packages (from httpcore==1.*->httpx>=0.25.2->langgraph-sdk<0.3.0,>=0.2.2->langgraph) (0.16.0)\n"
          ]
        }
      ]
    },
    {
      "cell_type": "markdown",
      "metadata": {
        "id": "rr_Vv3OOw4QC"
      },
      "source": [
        "Don't worry too much about our graph implementation here, you can learn more about LangGraph through our LangGraph Academy course!"
      ]
    },
    {
      "cell_type": "code",
      "execution_count": 8,
      "metadata": {
        "colab": {
          "base_uri": "https://localhost:8080/",
          "height": 388
        },
        "id": "CMRVHGqgw4QC",
        "outputId": "f319e0c9-8362-4be9-c520-f6275662a05b"
      },
      "outputs": [
        {
          "output_type": "stream",
          "name": "stderr",
          "text": [
            "WARNING:langchain_community.utils.user_agent:USER_AGENT environment variable not set, consider setting it to identify your requests.\n",
            "Fetching pages: 100%|##########| 197/197 [00:24<00:00,  8.16it/s]\n"
          ]
        },
        {
          "output_type": "display_data",
          "data": {
            "image/png": "[encoded data removed]",
            "text/plain": [
              "<IPython.core.display.Image object>"
            ]
          },
          "metadata": {}
        }
      ],
      "source": [
        "import nest_asyncio\n",
        "import operator\n",
        "from langchain.schema import Document\n",
        "from langchain_core.messages import HumanMessage, AnyMessage, get_buffer_string\n",
        "from langchain_openai import ChatOpenAI\n",
        "from langgraph.graph import StateGraph, START, END\n",
        "from IPython.display import Image, display\n",
        "from typing import List\n",
        "from typing_extensions import TypedDict, Annotated\n",
        "from utils import get_vector_db_retriever, RAG_PROMPT\n",
        "\n",
        "nest_asyncio.apply()\n",
        "\n",
        "retriever = get_vector_db_retriever()\n",
        "llm = ChatOpenAI(model_name=\"gpt-4o-mini\", temperature=0)\n",
        "\n",
        "# Define Graph state\n",
        "class GraphState(TypedDict):\n",
        "    question: str\n",
        "    messages: Annotated[List[AnyMessage], operator.add]\n",
        "    documents: List[Document]\n",
        "\n",
        "# Define Nodes\n",
        "def retrieve_documents(state: GraphState):\n",
        "    messages = state.get(\"messages\", [])\n",
        "    question = state[\"question\"]\n",
        "    documents = retriever.invoke(f\"{get_buffer_string(messages)} {question}\")\n",
        "    return {\"documents\": documents}\n",
        "\n",
        "def generate_response(state: GraphState):\n",
        "    question = state[\"question\"]\n",
        "    messages = state[\"messages\"]\n",
        "    documents = state[\"documents\"]\n",
        "    formatted_docs = \"\\n\\n\".join(doc.page_content for doc in documents)\n",
        "\n",
        "    rag_prompt_formatted = RAG_PROMPT.format(context=formatted_docs, conversation=messages, question=question)\n",
        "    generation = llm.invoke([HumanMessage(content=rag_prompt_formatted)])\n",
        "    return {\"documents\": documents, \"messages\": [HumanMessage(question), generation]}\n",
        "\n",
        "# Define Graph\n",
        "graph_builder = StateGraph(GraphState)\n",
        "graph_builder.add_node(\"retrieve_documents\", retrieve_documents)\n",
        "graph_builder.add_node(\"generate_response\", generate_response)\n",
        "graph_builder.add_edge(START, \"retrieve_documents\")\n",
        "graph_builder.add_edge(\"retrieve_documents\", \"generate_response\")\n",
        "graph_builder.add_edge(\"generate_response\", END)\n",
        "\n",
        "simple_rag_graph = graph_builder.compile()\n",
        "display(Image(simple_rag_graph.get_graph().draw_mermaid_png()))"
      ]
    },
    {
      "cell_type": "code",
      "source": [],
      "metadata": {
        "id": "dwzZ_jNLE2rw"
      },
      "execution_count": null,
      "outputs": []
    },
    {
      "cell_type": "markdown",
      "metadata": {
        "id": "G54MjckEw4QC"
      },
      "source": [
        "We're setting up a simple graph in LangGraph. If you want to learn more about LangGraph, I would highly recommend taking a look at our LangGraph Academy course.\n",
        "\n",
        "You can also pass in metadata or other fields through an optional config"
      ]
    },
    {
      "cell_type": "code",
      "execution_count": 9,
      "metadata": {
        "colab": {
          "base_uri": "https://localhost:8080/"
        },
        "id": "uMmu1e0Jw4QC",
        "outputId": "e6cb7ebc-d0a1-4b17-bffb-07ad6c686e21"
      },
      "outputs": [
        {
          "output_type": "execute_result",
          "data": {
            "text/plain": [
              "{'question': \"How do I set up tracing if I'm using LangChain?\",\n",
              " 'messages': [HumanMessage(content=\"How do I set up tracing if I'm using LangChain?\", additional_kwargs={}, response_metadata={}),\n",
              "  AIMessage(content='To set up tracing with LangChain, you need to configure your environment by setting a few environment variables. After that, you can log a trace by following the guidelines provided in the Trace With LangChain documentation. For detailed steps, refer to the specific setup instructions in the documentation.', additional_kwargs={'refusal': None}, response_metadata={'token_usage': {'completion_tokens': 56, 'prompt_tokens': 1398, 'total_tokens': 1454, 'completion_tokens_details': {'accepted_prediction_tokens': 0, 'audio_tokens': 0, 'reasoning_tokens': 0, 'rejected_prediction_tokens': 0}, 'prompt_tokens_details': {'audio_tokens': 0, 'cached_tokens': 0}}, 'model_name': 'gpt-4o-mini-2024-07-18', 'system_fingerprint': 'fp_51db84afab', 'id': 'chatcmpl-CMoRkOo55oSksUhCSOL2825rkHM0a', 'service_tier': 'default', 'finish_reason': 'stop', 'logprobs': None}, id='run--73a07590-6a66-455e-a029-a8a75f9e966f-0', usage_metadata={'input_tokens': 1398, 'output_tokens': 56, 'total_tokens': 1454, 'input_token_details': {'audio': 0, 'cache_read': 0}, 'output_token_details': {'audio': 0, 'reasoning': 0}})],\n",
              " 'documents': [Document(metadata={'id': '6754cb99-5c00-4990-99cc-6f6c200b62e8', 'source': 'https://docs.smith.langchain.com/observability/how_to_guides/trace_with_opentelemetry', 'loc': 'https://docs.smith.langchain.com/observability/how_to_guides/trace_with_opentelemetry', 'changefreq': 'weekly', 'priority': '0.5'}, page_content='Set up distributed tracing with LangChain\\u200b\\nTo enable distributed tracing across multiple services:'),\n",
              "  Document(metadata={'id': '42104196-71d3-4490-95c4-80142578bc64', 'source': 'https://docs.smith.langchain.com/observability/how_to_guides/trace_with_langgraph', 'loc': 'https://docs.smith.langchain.com/observability/how_to_guides/trace_with_langgraph', 'changefreq': 'weekly', 'priority': '0.5'}, page_content='Trace with LangGraph - Docs by LangChainSkip to main contentOur new LangChain Academy course on Deep Agents is now live! Enroll for free.Docs by LangChain home pagePythonSearch...⌘KLangSmithPlatform for LLM observability and evaluationOverviewConceptsTutorial - Trace a RAG applicationTracing setupIntegrationsOverviewLangChainLangGraphAnthropic (Python only)OpenAIAutoGenClaude CodeCrewAIGoogle ADKInstructor (Python only)OpenAI Agents SDKOpenTelemetrySemantic KernelVercel AI SDKManual instrumentationConfiguration & troubleshootingProject & environment settingsAdvanced tracing techniquesData & privacyTroubleshooting guidesViewing & managing tracesFilter tracesQuery traces (SDK)Compare tracesShare or unshare a trace publiclyView server logs for a traceBulk export trace dataAutomationsSet up automation rulesConfigure webhook notifications for rulesFeedback & evaluationLog user feedback using the SDKSet up online evaluatorsMonitoring & alertingMonitor projects with dashboardsAlertsConfigure webhook notifications for alertsInsights (Beta)Data type referenceRun (span) data formatFeedback data formatTrace query syntaxOur new LangChain Academy course on Deep Agents is now live! Enroll for free.Docs by LangChain home pagePythonSearch...⌘KGitHubForumForumSearch...NavigationIntegrationsTrace with LangGraphGet startedObservabilityEvaluationPrompt engineeringSelf-hostingAdministrationGet startedObservabilityEvaluationPrompt engineeringSelf-hostingAdministrationGitHubForumOn this pageWith LangChain1. Installation2. Configure your environment3. Log a traceWithout LangChain1. Installation2. Configure your environment3. Log a traceTracing setupIntegrationsTrace with LangGraphCopy pageCopy pageLangSmith smoothly integrates with LangGraph (Python and JS) to help you trace agentic workflows, whether you’re using LangChain modules or other SDKs.\\n\\u200bWith LangChain\\nIf you are using LangChain modules within LangGraph, you only need to set a few environment variables to enable tracing.\\nThis guide will walk through a basic example. For more detailed information on configuration, see the Trace With LangChain guide.\\n\\u200b1. Installation'),\n",
              "  Document(metadata={'id': 'b92bab75-b553-4ef2-bc13-4b6d34914d62', 'source': 'https://docs.smith.langchain.com/observability/how_to_guides/trace_with_langchain', 'loc': 'https://docs.smith.langchain.com/observability/how_to_guides/trace_with_langchain', 'changefreq': 'weekly', 'priority': '0.5'}, page_content='Trace with LangChain (Python and JS/TS) - Docs by LangChainSkip to main contentOur new LangChain Academy course on Deep Agents is now live! Enroll for free.Docs by LangChain home pagePythonSearch...⌘KLangSmithPlatform for LLM observability and evaluationOverviewConceptsTutorial - Trace a RAG applicationTracing setupIntegrationsOverviewLangChainLangGraphAnthropic (Python only)OpenAIAutoGenClaude CodeCrewAIGoogle ADKInstructor (Python only)OpenAI Agents SDKOpenTelemetrySemantic KernelVercel AI SDKManual instrumentationConfiguration & troubleshootingProject & environment settingsAdvanced tracing techniquesData & privacyTroubleshooting guidesViewing & managing tracesFilter tracesQuery traces (SDK)Compare tracesShare or unshare a trace publiclyView server logs for a traceBulk export trace dataAutomationsSet up automation rulesConfigure webhook notifications for rulesFeedback & evaluationLog user feedback using the SDKSet up online evaluatorsMonitoring & alertingMonitor projects with dashboardsAlertsConfigure webhook notifications for alertsInsights (Beta)Data type referenceRun (span) data formatFeedback data formatTrace query syntaxOur new LangChain Academy course on Deep Agents is now live! Enroll for free.Docs by LangChain home pagePythonSearch...⌘KGitHubForumForumSearch...NavigationIntegrationsTrace with LangChain (Python and JS/TS)Get startedObservabilityEvaluationPrompt engineeringSelf-hostingAdministrationGet startedObservabilityEvaluationPrompt engineeringSelf-hostingAdministrationGitHubForumOn this pageInstallationQuick start1. Configure your environment2. Log a trace3. View your traceTrace selectivelyLog to a specific projectStaticallyDynamicallyAdd metadata and tags to tracesCustomize run nameCustomize run IDAccess run (span) ID for LangChain invocationsEnsure all traces are submitted before exitingTrace without setting environment variablesDistributed tracing with LangChain (Python)Interoperability between LangChain (Python) and LangSmith SDKInteroperability between LangChain.JS and LangSmith SDKTracing LangChain objects inside traceable (JS only)Tracing LangChain child runs via traceable / RunTree API (JS only)Tracing setupIntegrationsTrace with LangChain'),\n",
              "  Document(metadata={'id': '3b41408a-1549-45a8-96d0-c09e20264ec1', 'source': 'https://docs.smith.langchain.com/observability/how_to_guides', 'loc': 'https://docs.smith.langchain.com/observability/how_to_guides', 'changefreq': 'weekly', 'priority': '0.5'}, page_content='Trace with LangChain (Python and JS/TS) - Docs by LangChainSkip to main contentOur new LangChain Academy course on Deep Agents is now live! Enroll for free.Docs by LangChain home pagePythonSearch...⌘KLangSmithPlatform for LLM observability and evaluationOverviewConceptsTutorial - Trace a RAG applicationTracing setupIntegrationsOverviewLangChainLangGraphAnthropic (Python only)OpenAIAutoGenClaude CodeCrewAIGoogle ADKInstructor (Python only)OpenAI Agents SDKOpenTelemetrySemantic KernelVercel AI SDKManual instrumentationConfiguration & troubleshootingProject & environment settingsAdvanced tracing techniquesData & privacyTroubleshooting guidesViewing & managing tracesFilter tracesQuery traces (SDK)Compare tracesShare or unshare a trace publiclyView server logs for a traceBulk export trace dataAutomationsSet up automation rulesConfigure webhook notifications for rulesFeedback & evaluationLog user feedback using the SDKSet up online evaluatorsMonitoring & alertingMonitor projects with dashboardsAlertsConfigure webhook notifications for alertsInsights (Beta)Data type referenceRun (span) data formatFeedback data formatTrace query syntaxOur new LangChain Academy course on Deep Agents is now live! Enroll for free.Docs by LangChain home pagePythonSearch...⌘KGitHubForumForumSearch...NavigationIntegrationsTrace with LangChain (Python and JS/TS)Get startedObservabilityEvaluationPrompt engineeringSelf-hostingAdministrationGet startedObservabilityEvaluationPrompt engineeringSelf-hostingAdministrationGitHubForumOn this pageInstallationQuick start1. Configure your environment2. Log a trace3. View your traceTrace selectivelyLog to a specific projectStaticallyDynamicallyAdd metadata and tags to tracesCustomize run nameCustomize run IDAccess run (span) ID for LangChain invocationsEnsure all traces are submitted before exitingTrace without setting environment variablesDistributed tracing with LangChain (Python)Interoperability between LangChain (Python) and LangSmith SDKInteroperability between LangChain.JS and LangSmith SDKTracing LangChain objects inside traceable (JS only)Tracing LangChain child runs via traceable / RunTree API (JS only)Tracing setupIntegrationsTrace with LangChain')]}"
            ]
          },
          "metadata": {},
          "execution_count": 9
        }
      ],
      "source": [
        "question = \"How do I set up tracing if I'm using LangChain?\"\n",
        "simple_rag_graph.invoke({\"question\": question}, config={\"metadata\": {\"foo\": \"bar\"}})"
      ]
    },
    {
      "cell_type": "markdown",
      "metadata": {
        "id": "W0DqrUSrw4QC"
      },
      "source": [
        "##### Let's take a look in LangSmith!"
      ]
    },
    {
      "cell_type": "markdown",
      "metadata": {
        "id": "rwQZ_r0_w4QC"
      },
      "source": [
        "## Tracing Context Manager"
      ]
    },
    {
      "cell_type": "markdown",
      "metadata": {
        "id": "ymYKAga_w4QC"
      },
      "source": [
        "In Python, you can use the trace context manager to log traces to LangSmith. This is useful in situations where:\n",
        "\n",
        "You want to log traces for a specific block of code.\n",
        "You want control over the inputs, outputs, and other attributes of the trace.\n",
        "It is not feasible to use a decorator or wrapper.\n",
        "Any or all of the above.\n",
        "The context manager integrates seamlessly with the traceable decorator and wrap_openai wrapper, so you can use them together in the same application.\n",
        "\n",
        "You still need to set your `LANGSMITH_API_KEY` and `LANGSMITH_TRACING`"
      ]
    },
    {
      "cell_type": "markdown",
      "metadata": {
        "id": "WHCoBLBcw4QD"
      },
      "source": [
        "![AWTT](../../images/alternative_ways_to_trace_2.png)"
      ]
    },
    {
      "cell_type": "code",
      "execution_count": 10,
      "metadata": {
        "id": "9S1OLysnw4QD"
      },
      "outputs": [],
      "source": [
        "from langsmith import traceable, trace\n",
        "from openai import OpenAI\n",
        "from typing import List\n",
        "import nest_asyncio\n",
        "from utils import get_vector_db_retriever\n",
        "\n",
        "MODEL_PROVIDER = \"openai\"\n",
        "MODEL_NAME = \"gpt-4o-mini\"\n",
        "APP_VERSION = 1.0\n",
        "RAG_SYSTEM_PROMPT = \"\"\"You are an assistant for question-answering tasks.\n",
        "Use the following pieces of retrieved context to answer the latest question in the conversation.\n",
        "If you don't know the answer, just say that you don't know.\n",
        "Use three sentences maximum and keep the answer concise.\n",
        "\"\"\"\n",
        "\n",
        "openai_client = OpenAI()\n",
        "nest_asyncio.apply()\n",
        "retriever = get_vector_db_retriever()\n",
        "\n",
        "\"\"\"\n",
        "retrieve_documents\n",
        "- Returns documents fetched from a vectorstore based on the user's question\n",
        "\"\"\"\n",
        "@traceable\n",
        "def retrieve_documents(question: str):\n",
        "    documents = retriever.invoke(question)\n",
        "    return documents\n",
        "\n",
        "\"\"\"\n",
        "generate_response\n",
        "- Calls `call_openai` to generate a model response after formatting inputs\n",
        "\"\"\"\n",
        "# TODO: Remove traceable, and use with trace()\n",
        "@traceable\n",
        "def generate_response(question: str, documents):\n",
        "    # NOTE: Our documents came in as a list of objects, but we just want to log a string\n",
        "    formatted_docs = \"\\n\\n\".join(doc.page_content for doc in documents)\n",
        "\n",
        "    # TODO: Use with trace()\n",
        "    # with trace(\n",
        "    #     name=\"Generate Response\",\n",
        "    #     run_type=\"chain\",\n",
        "    #     inputs={\"question\": question, \"formatted_docs\": formatted_docs},\n",
        "    #     metadata={\"foo\": \"bar\"},\n",
        "    # ) as ls_trace:\n",
        "    messages = [\n",
        "        {\n",
        "            \"role\": \"system\",\n",
        "            \"content\": RAG_SYSTEM_PROMPT\n",
        "        },\n",
        "        {\n",
        "            \"role\": \"user\",\n",
        "            \"content\": f\"Context: {formatted_docs} \\n\\n Question: {question}\"\n",
        "        }\n",
        "    ]\n",
        "    response = call_openai(messages)\n",
        "    # TODO: End your trace and write outputs to LangSmith\n",
        "    # ls_trace.end(outputs={\"output\": response})\n",
        "    return response\n",
        "\n",
        "\"\"\"\n",
        "call_openai\n",
        "- Returns the chat completion output from OpenAI\n",
        "\"\"\"\n",
        "@traceable\n",
        "def call_openai(\n",
        "    messages: List[dict], model: str = MODEL_NAME, temperature: float = 0.0\n",
        ") -> str:\n",
        "    response = openai_client.chat.completions.create(\n",
        "        model=model,\n",
        "        messages=messages,\n",
        "        temperature=temperature,\n",
        "    )\n",
        "    return response\n",
        "\n",
        "\"\"\"\n",
        "langsmith_rag\n",
        "- Calls `retrieve_documents` to fetch documents\n",
        "- Calls `generate_response` to generate a response based on the fetched documents\n",
        "- Returns the model response\n",
        "\"\"\"\n",
        "@traceable\n",
        "def langsmith_rag(question: str):\n",
        "    documents = retrieve_documents(question)\n",
        "    response = generate_response(question, documents)\n",
        "    return response.choices[0].message.content\n"
      ]
    },
    {
      "cell_type": "code",
      "execution_count": 11,
      "metadata": {
        "colab": {
          "base_uri": "https://localhost:8080/"
        },
        "id": "69EKjhSzw4QD",
        "outputId": "a00d9582-ceb2-42bf-e054-29932b1b0bb8"
      },
      "outputs": [
        {
          "output_type": "stream",
          "name": "stdout",
          "text": [
            "To trace with the tracing context in Python, you can use the `tracing_context` context manager from the LangSmith SDK. Wrap your code that you want to trace within the `with ls.tracing_context(enabled=True):` block, which will enable tracing for that specific invocation. If you want to disable tracing for certain parts, you can set `enabled=False` within another `tracing_context` block.\n"
          ]
        }
      ],
      "source": [
        "question = \"How do I trace with tracing context?\"\n",
        "ai_answer = langsmith_rag(question)\n",
        "print(ai_answer)"
      ]
    },
    {
      "cell_type": "markdown",
      "metadata": {
        "id": "QDcTfmYuw4QD"
      },
      "source": [
        "## wrap_openai"
      ]
    },
    {
      "cell_type": "markdown",
      "metadata": {
        "id": "fN8K5KfSw4QD"
      },
      "source": [
        "The wrap_openai/wrapOpenAI methods in Python/TypeScript allow you to wrap your OpenAI client in order to automatically log traces -- no decorator or function wrapping required! The wrapper works seamlessly with the @traceable decorator or traceable function and you can use both in the same application.\n",
        "\n",
        "You still need to set your `LANGSMITH_API_KEY` and `LANGSMITH_TRACING`"
      ]
    },
    {
      "cell_type": "markdown",
      "metadata": {
        "id": "sgGaSFU_w4QD"
      },
      "source": [
        "![AWTT](../../images/alternative_ways_to_trace_3.png)"
      ]
    },
    {
      "cell_type": "code",
      "execution_count": 12,
      "metadata": {
        "id": "-exNxyshw4QD"
      },
      "outputs": [],
      "source": [
        "# TODO: Import wrap_openai\n",
        "# from langsmith.wrappers import wrap_openai\n",
        "import openai\n",
        "from typing import List\n",
        "import nest_asyncio\n",
        "from utils import get_vector_db_retriever\n",
        "\n",
        "MODEL_PROVIDER = \"openai\"\n",
        "MODEL_NAME = \"gpt-4o-mini\"\n",
        "APP_VERSION = 1.0\n",
        "RAG_SYSTEM_PROMPT = \"\"\"You are an assistant for question-answering tasks.\n",
        "Use the following pieces of retrieved context to answer the latest question in the conversation.\n",
        "If you don't know the answer, just say that you don't know.\n",
        "Use three sentences maximum and keep the answer concise.\n",
        "\"\"\"\n",
        "\n",
        "# TODO: Wrap the OpenAI Client\n",
        "openai_client = openai.Client()\n",
        "\n",
        "nest_asyncio.apply()\n",
        "retriever = get_vector_db_retriever()\n",
        "\n",
        "@traceable(run_type=\"chain\")\n",
        "def retrieve_documents(question: str):\n",
        "    return retriever.invoke(question)\n",
        "\n",
        "@traceable(run_type=\"chain\")\n",
        "def generate_response(question: str, documents):\n",
        "    formatted_docs = \"\\n\\n\".join(doc.page_content for doc in documents)\n",
        "    messages = [\n",
        "        {\n",
        "            \"role\": \"system\",\n",
        "            \"content\": RAG_SYSTEM_PROMPT\n",
        "        },\n",
        "        {\n",
        "            \"role\": \"user\",\n",
        "            \"content\": f\"Context: {formatted_docs} \\n\\n Question: {question}\"\n",
        "        }\n",
        "    ]\n",
        "    # TODO: We don't need to use @traceable on a nested function call anymore,\n",
        "    # wrap_openai takes care of this for us\n",
        "    return call_openai(messages)\n",
        "\n",
        "@traceable\n",
        "def call_openai(\n",
        "    messages: List[dict],\n",
        ") -> str:\n",
        "    return openai_client.chat.completions.create(\n",
        "        model=MODEL_NAME,\n",
        "        messages=messages,\n",
        "    )\n",
        "\n",
        "@traceable(run_type=\"chain\")\n",
        "def langsmith_rag_with_wrap_openai(question: str):\n",
        "    documents = retrieve_documents(question)\n",
        "    response = generate_response(question, documents)\n",
        "    return response.choices[0].message.content\n"
      ]
    },
    {
      "cell_type": "code",
      "execution_count": 14,
      "metadata": {
        "colab": {
          "base_uri": "https://localhost:8080/"
        },
        "id": "2YWTmWgBw4QD",
        "outputId": "b3be7c67-1005-4f48-f5f8-1d20d70129b3"
      },
      "outputs": [
        {
          "output_type": "stream",
          "name": "stdout",
          "text": [
            "To trace with `wrap_openai`, you need to first ensure that the `LANGSMITH_TRACING` environment variable is set to 'true' and set your `LANGSMITH_API_KEY`. Then, use the `wrap_openai` method to wrap your OpenAI client; this will automatically log traces without needing decorators or function wrapping. Make sure you also specify the workspace using the `LANGSMITH_WORKSPACE_ID` variable if your API key is linked to multiple workspaces.\n"
          ]
        }
      ],
      "source": [
        "question = \"How do I trace with wrap_openai?\"\n",
        "ai_answer = langsmith_rag_with_wrap_openai(question)\n",
        "print(ai_answer)"
      ]
    },
    {
      "cell_type": "markdown",
      "metadata": {
        "id": "Rh5yoR_3w4QD"
      },
      "source": [
        "The wrapped OpenAI client accepts all the same langsmith_extra parameters as @traceable decorated functions"
      ]
    },
    {
      "cell_type": "code",
      "execution_count": 13,
      "metadata": {
        "colab": {
          "base_uri": "https://localhost:8080/"
        },
        "id": "7FhHejupw4QD",
        "outputId": "cc87a251-aaf3-440c-9dcd-de1688587e09"
      },
      "outputs": [
        {
          "output_type": "stream",
          "name": "stdout",
          "text": [
            "Clouds are formed through a process called condensation, which involves several key steps:\n",
            "\n",
            "1. **Evaporation**: Water from the Earth's surface (oceans, lakes, rivers, and moist ground) evaporates into the atmosphere as water vapor due to heating by the sun.\n",
            "\n",
            "2. **Rising Air**: This warm, moist air rises because it is less dense than the surrounding cooler air. As the air rises, it expands due to lower atmospheric pressure at higher altitudes.\n",
            "\n",
            "3. **Cooling**: As the moist air rises, it cools. When air cools, its capacity to hold moisture decreases. The cooling occurs because of adiabatic expansion—when air expands, it cools.\n",
            "\n",
            "4. **Condensation**: When the air cools to its dew point (the temperature at which air becomes saturated), the water vapor begins to condense into tiny water droplets or ice crystals, depending on the temperature. This process often occurs around small particles in the air, such as dust or pollen, which act as condensation nuclei.\n",
            "\n",
            "5. **Cloud Formation**: As more water vapor condenses, the tiny droplets or crystals aggregate to form visible clouds. If enough water droplets coalesce, they can become large enough to fall as precipitation (rain, snow, etc.).\n",
            "\n",
            "There are different types of clouds formed based on factors such as altitude, temperature, and moisture content, including cumulus, stratus, cirrus, and nimbus clouds. Each type plays a unique role in weather patterns and the Earth's climate system.\n"
          ]
        }
      ],
      "source": [
        "messages = [\n",
        "    {\n",
        "        \"role\": \"user\",\n",
        "        \"content\": \"How are the clouds formed?\"\n",
        "    }\n",
        "]\n",
        "\n",
        "response = openai_client.chat.completions.create(\n",
        "    model=MODEL_NAME,\n",
        "    messages=messages\n",
        ")\n",
        "\n",
        "print(response.choices[0].message.content)"
      ]
    },
    {
      "cell_type": "markdown",
      "metadata": {
        "jp-MarkdownHeadingCollapsed": true,
        "id": "jAuqTWfdw4QE"
      },
      "source": [
        "## [Advanced] RunTree"
      ]
    },
    {
      "cell_type": "markdown",
      "metadata": {
        "id": "6LTEmtwzw4QE"
      },
      "source": [
        "Another, more explicit way to log traces to LangSmith is via the RunTree API. This API allows you more control over your tracing - you can manually create runs and children runs to assemble your trace. You still need to set your `LANGSMITH_API_KEY`, but `LANGSMITH_TRACING` is not necessary for this method."
      ]
    },
    {
      "cell_type": "markdown",
      "metadata": {
        "id": "5yk4ZTKNw4QE"
      },
      "source": [
        "![AWTT](../../images/alternative_ways_to_trace_4.png)"
      ]
    },
    {
      "cell_type": "code",
      "execution_count": 15,
      "metadata": {
        "id": "ja5ogSfgw4QE"
      },
      "outputs": [],
      "source": [
        "import os\n",
        "os.environ[\"OPENAI_API_KEY\"] = \"\" # API key is sensitive to share\n",
        "os.environ[\"LANGSMITH_API_KEY\"] = \"\" # API key is sensitive to share\n",
        "os.environ[\"LANGSMITH_PROJECT\"] = \"langsmith-academy\""
      ]
    },
    {
      "cell_type": "code",
      "execution_count": 16,
      "metadata": {
        "colab": {
          "base_uri": "https://localhost:8080/"
        },
        "id": "w6aZZ_LQw4QE",
        "outputId": "f7655ae2-5358-429f-d1fb-9a6f663d6487"
      },
      "outputs": [
        {
          "output_type": "execute_result",
          "data": {
            "text/plain": [
              "False"
            ]
          },
          "metadata": {},
          "execution_count": 16
        }
      ],
      "source": [
        "from dotenv import load_dotenv\n",
        "# I have my env variables defined in a .env file\n",
        "load_dotenv(dotenv_path=\"../../.env\", override=True)"
      ]
    },
    {
      "cell_type": "markdown",
      "metadata": {
        "id": "uemxpLFnw4QE"
      },
      "source": [
        "Let's go ahead and set `LANGSMITH_TRACING` to false, as we are using RunTree to manually create runs in this case."
      ]
    },
    {
      "cell_type": "code",
      "execution_count": 17,
      "metadata": {
        "colab": {
          "base_uri": "https://localhost:8080/"
        },
        "id": "eQ4bX5cew4QE",
        "outputId": "b1d04def-792f-467c-e03e-b75761f3ad87"
      },
      "outputs": [
        {
          "output_type": "execute_result",
          "data": {
            "text/plain": [
              "True"
            ]
          },
          "metadata": {},
          "execution_count": 17
        }
      ],
      "source": [
        "import os\n",
        "os.environ[\"LANGSMITH_TRACING\"] = \"false\"\n",
        "\n",
        "from langsmith import utils\n",
        "utils.tracing_is_enabled() # This should return false"
      ]
    },
    {
      "cell_type": "markdown",
      "metadata": {
        "id": "TesQNgw6w4QE"
      },
      "source": [
        "We have rewritten our RAG application, except this time we pass a RunTree argument through our function calls, and create child runs at each layer. This gives our RunTree the same hierarchy that we were automatically able to establish with @traceable"
      ]
    },
    {
      "cell_type": "code",
      "execution_count": 18,
      "metadata": {
        "id": "gpD0R4y6w4QE"
      },
      "outputs": [],
      "source": [
        "from langsmith import RunTree\n",
        "from openai import OpenAI\n",
        "from typing import List\n",
        "import nest_asyncio\n",
        "from utils import get_vector_db_retriever\n",
        "\n",
        "openai_client = OpenAI()\n",
        "nest_asyncio.apply()\n",
        "retriever = get_vector_db_retriever()\n",
        "\n",
        "def retrieve_documents(parent_run: RunTree, question: str):\n",
        "    # Create a child run\n",
        "    child_run = parent_run.create_child(\n",
        "        name=\"Retrieve Documents\",\n",
        "        run_type=\"retriever\",\n",
        "        inputs={\"question\": question},\n",
        "    )\n",
        "    documents = retriever.invoke(question)\n",
        "    # Post the output of our child run\n",
        "    child_run.end(outputs={\"documents\": documents})\n",
        "    child_run.post()\n",
        "    return documents\n",
        "\n",
        "def generate_response(parent_run: RunTree, question: str, documents):\n",
        "    formatted_docs = \"\\n\\n\".join(doc.page_content for doc in documents)\n",
        "    rag_system_prompt = \"\"\"You are an assistant for question-answering tasks.\n",
        "    Use the following pieces of retrieved context to answer the latest question in the conversation.\n",
        "    If you don't know the answer, just say that you don't know.\n",
        "    Use three sentences maximum and keep the answer concise.\n",
        "    \"\"\"\n",
        "    # Create a child run\n",
        "    child_run = parent_run.create_child(\n",
        "        name=\"Generate Response\",\n",
        "        run_type=\"chain\",\n",
        "        inputs={\"question\": question, \"documents\": documents},\n",
        "    )\n",
        "    messages = [\n",
        "        {\n",
        "            \"role\": \"system\",\n",
        "            \"content\": rag_system_prompt\n",
        "        },\n",
        "        {\n",
        "            \"role\": \"user\",\n",
        "            \"content\": f\"Context: {formatted_docs} \\n\\n Question: {question}\"\n",
        "        }\n",
        "    ]\n",
        "    openai_response = call_openai(child_run, messages)\n",
        "    # Post the output of our child run\n",
        "    child_run.end(outputs={\"openai_response\": openai_response})\n",
        "    child_run.post()\n",
        "    return openai_response\n",
        "\n",
        "def call_openai(\n",
        "    parent_run: RunTree, messages: List[dict], model: str = \"gpt-4o-mini\", temperature: float = 0.0\n",
        ") -> str:\n",
        "    # Create a child run\n",
        "    child_run = parent_run.create_child(\n",
        "        name=\"OpenAI Call\",\n",
        "        run_type=\"llm\",\n",
        "        inputs={\"messages\": messages},\n",
        "    )\n",
        "    openai_response = openai_client.chat.completions.create(\n",
        "        model=model,\n",
        "        messages=messages,\n",
        "        temperature=temperature,\n",
        "    )\n",
        "    # Post the output of our child run\n",
        "    child_run.end(outputs={\"openai_response\": openai_response})\n",
        "    child_run.post()\n",
        "    return openai_response\n",
        "\n",
        "def langsmith_rag(question: str):\n",
        "    # Create a root RunTree\n",
        "    root_run_tree = RunTree(\n",
        "        name=\"Chat Pipeline\",\n",
        "        run_type=\"chain\",\n",
        "        inputs={\"question\": question}\n",
        "    )\n",
        "\n",
        "    # Pass our RunTree into the nested function calls\n",
        "    documents = retrieve_documents(root_run_tree, question)\n",
        "    response = generate_response(root_run_tree, question, documents)\n",
        "    output = response.choices[0].message.content\n",
        "\n",
        "    # Post our final output\n",
        "    root_run_tree.end(outputs={\"generation\": output})\n",
        "    root_run_tree.post()\n",
        "    return output\n",
        "\n"
      ]
    },
    {
      "cell_type": "code",
      "execution_count": 19,
      "metadata": {
        "colab": {
          "base_uri": "https://localhost:8080/"
        },
        "id": "Fuzc1hSvw4QF",
        "outputId": "bc1bc217-e7fc-4932-e60d-013c8c7cc81f"
      },
      "outputs": [
        {
          "output_type": "stream",
          "name": "stdout",
          "text": [
            "To trace with RunTree, you can use the `RunTree.fromHeaders` method to create a run tree from the request headers. Then, utilize the `withRunTree` helper to ensure the run tree is propagated within traceable invocations. This allows you to maintain the context of the trace throughout your application's operations.\n"
          ]
        }
      ],
      "source": [
        "question = \"How can I trace with RunTree?\"\n",
        "ai_answer = langsmith_rag(question)\n",
        "print(ai_answer)"
      ]
    }
  ],
  "metadata": {
    "kernelspec": {
      "display_name": "ls-academy",
      "language": "python",
      "name": "python3"
    },
    "language_info": {
      "codemirror_mode": {
        "name": "ipython",
        "version": 3
      },
      "file_extension": ".py",
      "mimetype": "text/x-python",
      "name": "python",
      "nbconvert_exporter": "python",
      "pygments_lexer": "ipython3",
      "version": "3.9.6"
    },
    "colab": {
      "provenance": []
    }
  },
  "nbformat": 4,
  "nbformat_minor": 0
}