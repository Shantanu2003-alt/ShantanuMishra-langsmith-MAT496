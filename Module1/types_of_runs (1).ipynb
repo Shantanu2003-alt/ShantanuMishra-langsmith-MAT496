{
  "cells": [
    {
      "cell_type": "markdown",
      "metadata": {
        "id": "wzvPX27g2CsI"
      },
      "source": [
        "# Tracing for Different Types of Runs"
      ]
    },
    {
      "cell_type": "markdown",
      "metadata": {
        "id": "jjIPAHul2CsK"
      },
      "source": [
        "### Types of Runs"
      ]
    },
    {
      "cell_type": "markdown",
      "metadata": {
        "id": "XLXQHCXh2CsK"
      },
      "source": [
        "LangSmith supports many different types of Runs - you can specify what type your Run is in the @traceable decorator. The types of runs are:\n",
        "\n",
        "- LLM: Invokes an LLM\n",
        "- Retriever: Retrieves documents from databases or other sources\n",
        "- Tool: Executes actions with function calls\n",
        "- Chain: Default type; combines multiple Runs into a larger process\n",
        "- Prompt: Hydrates a prompt to be used with an LLM\n",
        "- Parser: Extracts structured data"
      ]
    },
    {
      "cell_type": "markdown",
      "metadata": {
        "id": "sd0ko-qj2CsL"
      },
      "source": [
        "### Setup"
      ]
    },
    {
      "cell_type": "code",
      "execution_count": 3,
      "metadata": {
        "id": "KXrJf31y2CsL"
      },
      "outputs": [],
      "source": [
        "# You can set them inline!\n",
        "import os\n",
        "os.environ[\"OPENAI_API_KEY\"] = \"\"  # API key is sensitive to share\n",
        "os.environ[\"LANGSMITH_API_KEY\"] = \"\"  # API key is sensitive to share\n",
        "os.environ[\"LANGSMITH_TRACING\"] = \"true\"\n",
        "os.environ[\"LANGSMITH_PROJECT\"] = \"langsmith-academy\""
      ]
    },
    {
      "cell_type": "code",
      "execution_count": 4,
      "metadata": {
        "colab": {
          "base_uri": "https://localhost:8080/"
        },
        "id": "tscb8j5f2CsN",
        "outputId": "aa653df7-bbfb-46d8-e466-67c453c073a1"
      },
      "outputs": [
        {
          "output_type": "execute_result",
          "data": {
            "text/plain": [
              "False"
            ]
          },
          "metadata": {},
          "execution_count": 4
        }
      ],
      "source": [
        "# Or you can use a .env file\n",
        "from dotenv import load_dotenv\n",
        "load_dotenv(dotenv_path=\"../../.env\", override=True)"
      ]
    },
    {
      "cell_type": "markdown",
      "metadata": {
        "id": "WnZQnq5d2CsN"
      },
      "source": [
        "### LLM Runs for Chat Models"
      ]
    },
    {
      "cell_type": "markdown",
      "metadata": {
        "id": "Ukw5nO1I2CsN"
      },
      "source": [
        "LangSmith provides special rendering and processing for LLM traces. In order to make the most of this feature, you must log your LLM traces in a specific format."
      ]
    },
    {
      "cell_type": "markdown",
      "metadata": {
        "id": "pZ25oElO2CsO"
      },
      "source": [
        "For chat-style models, inputs must be a list of messages in OpenAI-compatible format, represented as Python dictionaries or TypeScript object. Each message must contain the key role and content.\n",
        "\n",
        "The output is accepted in any of the following formats:\n",
        "\n",
        "- A dictionary/object that contains the key choices with a value that is a list of dictionaries/objects. Each dictionary/object must contain the key message, which maps to a message object with the keys role and content.\n",
        "- A dictionary/object that contains the key message with a value that is a message object with the keys role and content.\n",
        "- A tuple/array of two elements, where the first element is the role and the second element is the content.\n",
        "- A dictionary/object that contains the key role and content.\n",
        "The input to your function should be named messages.\n",
        "\n",
        "You can also provide the following metadata fields to help LangSmith identify the model and calculate costs. If using LangChain or OpenAI wrapper, these fields will be automatically populated correctly.\n",
        "- ls_provider: The provider of the model, eg \"openai\", \"anthropic\", etc.\n",
        "- ls_model_name: The name of the model, eg \"gpt-4o-mini\", \"claude-3-opus-20240307\", etc."
      ]
    },
    {
      "cell_type": "code",
      "execution_count": 5,
      "metadata": {
        "colab": {
          "base_uri": "https://localhost:8080/"
        },
        "id": "O-vmWaId2CsO",
        "outputId": "0b3dea4a-94cb-41a6-c1fd-eb909927c0e1"
      },
      "outputs": [
        {
          "output_type": "execute_result",
          "data": {
            "text/plain": [
              "{'choices': [{'message': {'role': 'assistant',\n",
              "    'content': 'Sure, what time would you like to book the table for?'}}]}"
            ]
          },
          "metadata": {},
          "execution_count": 5
        }
      ],
      "source": [
        "from langsmith import traceable\n",
        "\n",
        "inputs = [\n",
        "  {\"role\": \"system\", \"content\": \"You are a helpful assistant.\"},\n",
        "  {\"role\": \"user\", \"content\": \"I'd like to book a table for two.\"},\n",
        "]\n",
        "\n",
        "output = {\n",
        "  \"choices\": [\n",
        "      {\n",
        "          \"message\": {\n",
        "              \"role\": \"assistant\",\n",
        "              \"content\": \"Sure, what time would you like to book the table for?\"\n",
        "          }\n",
        "      }\n",
        "  ]\n",
        "}\n",
        "\n",
        "@traceable(\n",
        "  run_type=\"llm\",\n",
        "  metadata={\"ls_provider\":\"anthropic\",\"ls_model_name\":\"claude-35-sonnet\"}\n",
        ")\n",
        "def chat_model(messages: list):\n",
        "  return output\n",
        "\n",
        "chat_model(inputs)"
      ]
    },
    {
      "cell_type": "markdown",
      "metadata": {
        "id": "87q5Scoh2CsP"
      },
      "source": [
        "### Handling Streaming LLM Runs"
      ]
    },
    {
      "cell_type": "markdown",
      "metadata": {
        "id": "a2zFSFlS2CsP"
      },
      "source": [
        "For streaming, you can \"reduce\" the outputs into the same format as the non-streaming version. This is currently only supported in Python."
      ]
    },
    {
      "cell_type": "code",
      "execution_count": 6,
      "metadata": {
        "colab": {
          "base_uri": "https://localhost:8080/"
        },
        "id": "eDxonrQ-2CsP",
        "outputId": "77b35f5d-74c9-450e-c8f0-42b5ede421bd"
      },
      "outputs": [
        {
          "output_type": "execute_result",
          "data": {
            "text/plain": [
              "[{'choices': [{'message': {'content': 'Goodnight, polly the parrot!',\n",
              "     'role': 'assistant'}}]}]"
            ]
          },
          "metadata": {},
          "execution_count": 6
        }
      ],
      "source": [
        "def _reduce_chunks(chunks: list):\n",
        "    all_text = \"\".join([chunk[\"choices\"][0][\"message\"][\"content\"] for chunk in chunks])\n",
        "    return {\"choices\": [{\"message\": {\"content\": all_text, \"role\": \"assistant\"}}]}\n",
        "\n",
        "@traceable(\n",
        "    run_type=\"llm\",\n",
        "    metadata={\"ls_provider\": \"my_provider\", \"ls_model_name\": \"my_model\"},\n",
        "    reduce_fn=_reduce_chunks\n",
        ")\n",
        "def my_streaming_goodnight_model(messages: list):\n",
        "    user_name = messages[1][\"content\"]\n",
        "    for chunk in [f\"Goodnight, {user_name}!\"]:\n",
        "        yield {\n",
        "            \"choices\": [\n",
        "                {\n",
        "                    \"message\": {\n",
        "                        \"content\": chunk,\n",
        "                        \"role\": \"assistant\",\n",
        "                    }\n",
        "                }\n",
        "            ]\n",
        "        }\n",
        "\n",
        "list(\n",
        "    my_streaming_goodnight_model(\n",
        "        [\n",
        "            {\"role\": \"system\", \"content\": \"You are a helpful assistant. Please say goodnight to the user.\"},\n",
        "            {\"role\": \"user\", \"content\": \"polly the parrot\"},\n",
        "        ]\n",
        "    )\n",
        ")"
      ]
    },
    {
      "cell_type": "markdown",
      "metadata": {
        "id": "HzrPeQNo2CsP"
      },
      "source": [
        "### Retriever Runs + Documents"
      ]
    },
    {
      "cell_type": "markdown",
      "metadata": {
        "id": "knSMbDvx2CsP"
      },
      "source": [
        "Many LLM applications require looking up documents from vector databases, knowledge graphs, or other types of indexes. Retriever traces are a way to log the documents that are retrieved by the retriever. LangSmith provides special rendering for retrieval steps in traces to make it easier to understand and diagnose retrieval issues. In order for retrieval steps to be rendered correctly, a few small steps need to be taken.\n",
        "\n",
        "1. Annotate the retriever step with run_type=\"retriever\".\n",
        "2. Return a list of Python dictionaries or TypeScript objects from the retriever step. Each dictionary should contain the following keys:\n",
        "    - page_content: The text of the document.\n",
        "    - type: This should always be \"Document\".\n",
        "    - metadata: A python dictionary or TypeScript object containing metadata about the document. This metadata will be displayed in the trace."
      ]
    },
    {
      "cell_type": "code",
      "execution_count": 7,
      "metadata": {
        "colab": {
          "base_uri": "https://localhost:8080/"
        },
        "id": "mve_D4S72CsP",
        "outputId": "39710fac-7b3f-481d-d827-72c3f8673b39"
      },
      "outputs": [
        {
          "output_type": "execute_result",
          "data": {
            "text/plain": [
              "[{'page_content': 'Document contents 1',\n",
              "  'type': 'Document',\n",
              "  'metadata': {'foo': 'bar'}},\n",
              " {'page_content': 'Document contents 2',\n",
              "  'type': 'Document',\n",
              "  'metadata': {'foo': 'bar'}},\n",
              " {'page_content': 'Document contents 3',\n",
              "  'type': 'Document',\n",
              "  'metadata': {'foo': 'bar'}}]"
            ]
          },
          "metadata": {},
          "execution_count": 7
        }
      ],
      "source": [
        "from langsmith import traceable\n",
        "\n",
        "def _convert_docs(results):\n",
        "  return [\n",
        "      {\n",
        "          \"page_content\": r,\n",
        "          \"type\": \"Document\", # This is the wrong format! The key should be type\n",
        "          \"metadata\": {\"foo\": \"bar\"}\n",
        "      }\n",
        "      for r in results\n",
        "  ]\n",
        "\n",
        "@traceable(\n",
        "    # TODO: Add an run_type=\"retriever\"\n",
        ")\n",
        "def retrieve_docs(query):\n",
        "  # Retriever returning hardcoded dummy documents.\n",
        "  # In production, this could be a real vector datatabase or other document index.\n",
        "  contents = [\"Document contents 1\", \"Document contents 2\", \"Document contents 3\"]\n",
        "  return _convert_docs(contents)\n",
        "\n",
        "retrieve_docs(\"User query\")"
      ]
    },
    {
      "cell_type": "markdown",
      "metadata": {
        "id": "md2Sh_hc2CsP"
      },
      "source": [
        "### Tool Calling"
      ]
    },
    {
      "cell_type": "markdown",
      "metadata": {
        "id": "GzCu8PST2CsQ"
      },
      "source": [
        "LangSmith has custom rendering for Tool Calls made by the model to make it clear when provided tools are being used."
      ]
    },
    {
      "cell_type": "code",
      "execution_count": 8,
      "metadata": {
        "colab": {
          "base_uri": "https://localhost:8080/"
        },
        "id": "pclCnN042CsQ",
        "outputId": "cb386ffe-5cff-4af7-a358-1da77e802aab"
      },
      "outputs": [
        {
          "output_type": "execute_result",
          "data": {
            "text/plain": [
              "ChatCompletion(id='chatcmpl-CMh8lyU03iuvPSwU54EbXaGi1kKJ4', choices=[Choice(finish_reason='stop', index=0, logprobs=None, message=ChatCompletionMessage(content='The current temperature in New York City is 65°F. If you need more detailed weather information, feel free to ask!', refusal=None, role='assistant', annotations=[], audio=None, function_call=None, tool_calls=None))], created=1759525083, model='gpt-4o-mini-2024-07-18', object='chat.completion', service_tier='default', system_fingerprint='fp_560af6e559', usage=CompletionUsage(completion_tokens=25, prompt_tokens=83, total_tokens=108, completion_tokens_details=CompletionTokensDetails(accepted_prediction_tokens=0, audio_tokens=0, reasoning_tokens=0, rejected_prediction_tokens=0), prompt_tokens_details=PromptTokensDetails(audio_tokens=0, cached_tokens=0)))"
            ]
          },
          "metadata": {},
          "execution_count": 8
        }
      ],
      "source": [
        "from langsmith import traceable\n",
        "from openai import OpenAI\n",
        "from typing import List, Optional\n",
        "import json\n",
        "\n",
        "openai_client = OpenAI()\n",
        "\n",
        "@traceable(\n",
        "  # TODO: Add an run_type=\"tool\"\n",
        ")\n",
        "def get_current_temperature(location: str, unit: str):\n",
        "    return 65 if unit == \"Fahrenheit\" else 17\n",
        "\n",
        "@traceable(run_type=\"llm\")\n",
        "def call_openai(\n",
        "    messages: List[dict], tools: Optional[List[dict]]\n",
        ") -> str:\n",
        "  return openai_client.chat.completions.create(\n",
        "    model=\"gpt-4o-mini\",\n",
        "    messages=messages,\n",
        "    temperature=0,\n",
        "    tools=tools\n",
        "  )\n",
        "\n",
        "@traceable(run_type=\"chain\")\n",
        "def ask_about_the_weather(inputs, tools):\n",
        "  response = call_openai(inputs, tools)\n",
        "  tool_call_args = json.loads(response.choices[0].message.tool_calls[0].function.arguments)\n",
        "  location = tool_call_args[\"location\"]\n",
        "  unit = tool_call_args[\"unit\"]\n",
        "  tool_response_message = {\n",
        "    \"role\": \"tool\",\n",
        "    \"content\": json.dumps({\n",
        "        \"location\": location,\n",
        "        \"unit\": unit,\n",
        "        \"temperature\": get_current_temperature(location, unit),\n",
        "    }),\n",
        "    \"tool_call_id\": response.choices[0].message.tool_calls[0].id\n",
        "  }\n",
        "  inputs.append(response.choices[0].message)\n",
        "  inputs.append(tool_response_message)\n",
        "  output = call_openai(inputs, None)\n",
        "  return output\n",
        "\n",
        "tools = [\n",
        "    {\n",
        "      \"type\": \"function\",\n",
        "      \"function\": {\n",
        "        \"name\": \"get_current_temperature\",\n",
        "        \"description\": \"Get the current temperature for a specific location\",\n",
        "        \"parameters\": {\n",
        "          \"type\": \"object\",\n",
        "          \"properties\": {\n",
        "            \"location\": {\n",
        "              \"type\": \"string\",\n",
        "              \"description\": \"The city and state, e.g., San Francisco, CA\"\n",
        "            },\n",
        "            \"unit\": {\n",
        "              \"type\": \"string\",\n",
        "              \"enum\": [\"Celsius\", \"Fahrenheit\"],\n",
        "              \"description\": \"The temperature unit to use. Infer this from the user's location.\"\n",
        "            }\n",
        "          },\n",
        "          \"required\": [\"location\", \"unit\"]\n",
        "        }\n",
        "      }\n",
        "    }\n",
        "]\n",
        "inputs = [\n",
        "  {\"role\": \"system\", \"content\": \"You are a helpful assistant.\"},\n",
        "  {\"role\": \"user\", \"content\": \"What is the weather today in New York City?\"},\n",
        "]\n",
        "\n",
        "ask_about_the_weather(inputs, tools)"
      ]
    }
  ],
  "metadata": {
    "kernelspec": {
      "display_name": "ls-academy",
      "language": "python",
      "name": "python3"
    },
    "language_info": {
      "codemirror_mode": {
        "name": "ipython",
        "version": 3
      },
      "file_extension": ".py",
      "mimetype": "text/x-python",
      "name": "python",
      "nbconvert_exporter": "python",
      "pygments_lexer": "ipython3",
      "version": "3.9.6"
    },
    "colab": {
      "provenance": []
    }
  },
  "nbformat": 4,
  "nbformat_minor": 0
}