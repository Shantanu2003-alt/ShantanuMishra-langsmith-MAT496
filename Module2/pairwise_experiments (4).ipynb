{
  "cells": [
    {
      "cell_type": "markdown",
      "metadata": {
        "id": "6dNHzlVHpde5"
      },
      "source": [
        "# Pairwise Experiments"
      ]
    },
    {
      "cell_type": "markdown",
      "metadata": {
        "id": "KAWG4VEapde8"
      },
      "source": [
        "### Setup"
      ]
    },
    {
      "cell_type": "code",
      "execution_count": 1,
      "metadata": {
        "id": "eQfnafmbpde8"
      },
      "outputs": [],
      "source": [
        "# You can set them inline\n",
        "import os\n",
        "os.environ[\"OPENAI_API_KEY\"] = \"\" # API key is sensitive to share\n",
        "os.environ[\"LANGSMITH_API_KEY\"] = \"\" # API key is sensitive to share\n",
        "os.environ[\"LANGSMITH_TRACING\"] = \"true\"\n",
        "os.environ[\"LANGSMITH_PROJECT\"] = \"langsmith-academy\""
      ]
    },
    {
      "cell_type": "code",
      "execution_count": 2,
      "metadata": {
        "colab": {
          "base_uri": "https://localhost:8080/"
        },
        "id": "-0Uh1NFnpde9",
        "outputId": "a0dced60-7db6-4431-e503-99ab104ad0b3"
      },
      "outputs": [
        {
          "output_type": "execute_result",
          "data": {
            "text/plain": [
              "False"
            ]
          },
          "metadata": {},
          "execution_count": 2
        }
      ],
      "source": [
        "# Or you can use a .env file\n",
        "from dotenv import load_dotenv\n",
        "load_dotenv(dotenv_path=\"../../.env\", override=True)"
      ]
    },
    {
      "cell_type": "markdown",
      "metadata": {
        "id": "_jbBj8hMpde9"
      },
      "source": [
        "### Task"
      ]
    },
    {
      "cell_type": "markdown",
      "metadata": {
        "id": "HUj1hJj_pde-"
      },
      "source": [
        "Let's set up a new task! Here, we have a salesperson named Bob. Bob has a lot of deals, so he wants to summarize what happened in this deals based off of some meeting transcripts.\n",
        "\n",
        "Bob is iterating on a few different prompts, that will give him nice, concise transcripts for his deals.\n",
        "\n",
        "Bob has curated a dataset of his deal transcripts, let's go ahead and load that in. You can take a look at the dataset as well if you're curious! Note that this is not a golden dataset, there is no reference output here."
      ]
    },
    {
      "cell_type": "code",
      "execution_count": 3,
      "metadata": {
        "id": "W8lT5YnXpde-"
      },
      "outputs": [],
      "source": [
        "from langsmith import Client\n",
        "\n",
        "client = Client()\n",
        "dataset = client.clone_public_dataset(\n",
        "  \"https://smith.langchain.com/public/9078d2f1-7bef-4ba7-b795-210a17682ef9/d\"\n",
        ")"
      ]
    },
    {
      "cell_type": "markdown",
      "metadata": {
        "id": "DXTcjnpnpde-"
      },
      "source": [
        "### Experiments"
      ]
    },
    {
      "cell_type": "markdown",
      "metadata": {
        "id": "vkd-5T7Spde-"
      },
      "source": [
        "Now, let's run some experiments on this dataset using two different prompts. Let's add an evaluator that tries to score how good our summaries are!"
      ]
    },
    {
      "cell_type": "code",
      "execution_count": 4,
      "metadata": {
        "id": "yQgWS7yWpde-"
      },
      "outputs": [],
      "source": [
        "from pydantic import BaseModel, Field\n",
        "from openai import OpenAI\n",
        "\n",
        "openai_client = OpenAI()\n",
        "\n",
        "SUMMARIZATION_SYSTEM_PROMPT = \"\"\"You are a judge, aiming to score how well a summary summarizes the content of a transcript\"\"\"\n",
        "\n",
        "SUMMARIZATION_HUMAN_PROMPT = \"\"\"\n",
        "[The Meeting Transcript] {transcript}\n",
        "[The Start of Summarization] {summary} [The End of Summarization]\"\"\"\n",
        "\n",
        "class SummarizationScore(BaseModel):\n",
        "    score: int = Field(description=\"\"\"A score from 1-5 ranking how good the summarization is for the provided transcript, with 1 being a bad summary, and 5 being a great summary\"\"\")\n",
        "\n",
        "def summary_score_evaluator(inputs: dict, outputs: dict) -> list:\n",
        "    completion = openai_client.beta.chat.completions.parse(\n",
        "        model=\"gpt-4o\",\n",
        "        messages=[\n",
        "            {\n",
        "                \"role\": \"system\",\n",
        "                \"content\": SUMMARIZATION_SYSTEM_PROMPT,\n",
        "            },\n",
        "            {\n",
        "                \"role\": \"user\",\n",
        "                \"content\": SUMMARIZATION_HUMAN_PROMPT.format(\n",
        "                    transcript=inputs[\"transcript\"],\n",
        "                    summary=outputs.get(\"output\", \"N/A\"),\n",
        "                )}\n",
        "        ],\n",
        "        response_format=SummarizationScore,\n",
        "    )\n",
        "\n",
        "    summary_score = completion.choices[0].message.parsed.score\n",
        "    return {\"key\": \"summary_score\", \"score\": summary_score}"
      ]
    },
    {
      "cell_type": "markdown",
      "metadata": {
        "id": "eK6C583Vpde_"
      },
      "source": [
        "First, we'll run our experiment with a good version of our prompt!"
      ]
    },
    {
      "cell_type": "code",
      "execution_count": 5,
      "metadata": {
        "colab": {
          "base_uri": "https://localhost:8080/",
          "height": 400,
          "referenced_widgets": [
            "0df5660f8790463ab65973ebb7713ace",
            "9324f3e2bb954908a4315c562b42f47f",
            "62a1f1e632f64acf886bee7e4ee9e54d",
            "b080a661c81a4e629b95e80248ea31cf",
            "8db4a589bedc44a982c370cf94db0682",
            "e9993dc467384d5eb57e7bb7052555d9",
            "b3444c95f23243d480f8b5fde4d72a75",
            "236861a4fe914dd7be74228bc34f2e31",
            "7901a93fe14e4deba2d5149c7b22eee4",
            "efffbd47665c4f9aac2637769c208215",
            "70553309a4044f9487799b920f1f4484"
          ]
        },
        "id": "O9R1EYUrpde_",
        "outputId": "2878a76e-8f99-4d90-df5e-354785540b31"
      },
      "outputs": [
        {
          "output_type": "stream",
          "name": "stdout",
          "text": [
            "View the evaluation results for experiment: 'Good Summarizer-533c6be7' at:\n",
            "https://smith.langchain.com/o/c1b67c13-bec2-4f98-8bbf-502c78449186/datasets/5925bc48-4e25-427a-9231-dfdbd04387ec/compare?selectedSessions=4fe0a5c1-4cf8-4483-84e6-4d9673a2ae3a\n",
            "\n",
            "\n"
          ]
        },
        {
          "output_type": "display_data",
          "data": {
            "text/plain": [
              "0it [00:00, ?it/s]"
            ],
            "application/vnd.jupyter.widget-view+json": {
              "version_major": 2,
              "version_minor": 0,
              "model_id": "0df5660f8790463ab65973ebb7713ace"
            }
          },
          "metadata": {}
        },
        {
          "output_type": "execute_result",
          "data": {
            "text/plain": [
              "<ExperimentResults Good Summarizer-533c6be7>"
            ],
            "text/html": [
              "<div>\n",
              "<style scoped>\n",
              "    .dataframe tbody tr th:only-of-type {\n",
              "        vertical-align: middle;\n",
              "    }\n",
              "\n",
              "    .dataframe tbody tr th {\n",
              "        vertical-align: top;\n",
              "    }\n",
              "\n",
              "    .dataframe thead th {\n",
              "        text-align: right;\n",
              "    }\n",
              "</style>\n",
              "<table border=\"1\" class=\"dataframe\">\n",
              "  <thead>\n",
              "    <tr style=\"text-align: right;\">\n",
              "      <th></th>\n",
              "      <th>inputs.transcript</th>\n",
              "      <th>outputs.output</th>\n",
              "      <th>error</th>\n",
              "      <th>feedback.summary_score</th>\n",
              "      <th>execution_time</th>\n",
              "      <th>example_id</th>\n",
              "      <th>id</th>\n",
              "    </tr>\n",
              "  </thead>\n",
              "  <tbody>\n",
              "    <tr>\n",
              "      <th>0</th>\n",
              "      <td>Bob and Mr. Patel (CLOSED DEAL): Bob: Hello, M...</td>\n",
              "      <td>Bob successfully closed a deal with Mr. Patel ...</td>\n",
              "      <td>None</td>\n",
              "      <td>5</td>\n",
              "      <td>6.439287</td>\n",
              "      <td>4f803b9f-c605-4e41-99fc-3cb062d00587</td>\n",
              "      <td>9435432b-46d4-4084-a363-c4b1067eee80</td>\n",
              "    </tr>\n",
              "    <tr>\n",
              "      <th>1</th>\n",
              "      <td>Bob and Ms. Thompson (NO DEAL): Bob: Hi, Ms. T...</td>\n",
              "      <td>In the meeting, Bob welcomed Ms. Thompson to F...</td>\n",
              "      <td>None</td>\n",
              "      <td>5</td>\n",
              "      <td>2.305715</td>\n",
              "      <td>55dc1cad-8516-4d80-b16c-634d8cacf72b</td>\n",
              "      <td>fd54edde-a7f2-4c70-b241-af9b7a135b9a</td>\n",
              "    </tr>\n",
              "    <tr>\n",
              "      <th>2</th>\n",
              "      <td>Bob and Mr. Johnson (CLOSED DEAL): Bob: Good m...</td>\n",
              "      <td>Bob warmly welcomed Mr. Johnson at Ford Motors...</td>\n",
              "      <td>None</td>\n",
              "      <td>5</td>\n",
              "      <td>2.571181</td>\n",
              "      <td>6211725a-f93b-4d98-8b09-a6c89e421078</td>\n",
              "      <td>2a855bd2-4bdb-4051-b33a-363e5ffd29ce</td>\n",
              "    </tr>\n",
              "    <tr>\n",
              "      <th>3</th>\n",
              "      <td>Bob and Mr. Carter (CLOSED DEAL): Bob: Welcome...</td>\n",
              "      <td>In the meeting, Mr. Carter visited Bob to trad...</td>\n",
              "      <td>None</td>\n",
              "      <td>5</td>\n",
              "      <td>1.537278</td>\n",
              "      <td>6efb2329-d624-4468-beba-e41134069113</td>\n",
              "      <td>f71f6ef7-346e-41a4-a093-0dcae818641c</td>\n",
              "    </tr>\n",
              "    <tr>\n",
              "      <th>4</th>\n",
              "      <td>Bob and Ms. Nguyen (NO DEAL): Bob: Good aftern...</td>\n",
              "      <td>Bob and Ms. Nguyen discussed her interest in a...</td>\n",
              "      <td>None</td>\n",
              "      <td>5</td>\n",
              "      <td>1.350372</td>\n",
              "      <td>8d1c7d5f-ff17-4fc9-acf6-94bcdfce9fee</td>\n",
              "      <td>8d683ca3-cb57-4987-ac5a-cde2c4ca39ca</td>\n",
              "    </tr>\n",
              "  </tbody>\n",
              "</table>\n",
              "</div>"
            ]
          },
          "metadata": {},
          "execution_count": 5
        }
      ],
      "source": [
        "# Prompt One: Good Prompt!\n",
        "def good_summarizer(inputs: dict):\n",
        "    response = openai_client.chat.completions.create(\n",
        "        model=\"gpt-4o\",\n",
        "        messages=[\n",
        "            {\n",
        "                \"role\": \"user\",\n",
        "                \"content\": f\"Concisely summarize this meeting in 3 sentences. Make sure to include all of the important events. Meeting: {inputs['transcript']}\"\n",
        "            }\n",
        "        ],\n",
        "    )\n",
        "    return response.choices[0].message.content\n",
        "\n",
        "client.evaluate(\n",
        "    good_summarizer,\n",
        "    data=dataset,\n",
        "    evaluators=[summary_score_evaluator],\n",
        "    experiment_prefix=\"Good Summarizer\"\n",
        ")"
      ]
    },
    {
      "cell_type": "markdown",
      "metadata": {
        "id": "WV2sf2JTpde_"
      },
      "source": [
        "Now, we'll run an experiment with a worse version of our prompt, to highlight the difference."
      ]
    },
    {
      "cell_type": "code",
      "execution_count": 6,
      "metadata": {
        "colab": {
          "base_uri": "https://localhost:8080/",
          "height": 400,
          "referenced_widgets": [
            "485af79ad06248c58608f62f70606e0e",
            "bcbe51bf274a4767b81496f511164ccd",
            "53750195fc14435591a7c6d47b6807d6",
            "cb6238e30d9e43e6bf7351676bc75c39",
            "da057888f4ad465e90e6245970ef331b",
            "c1849b7d3b424c7497b5e3610f1b1bc1",
            "2d527aaa9e694dcb8c3ea386ef39ecee",
            "9e0c6b8a0ff44d479c07ece5653e7e50",
            "e96a422310a74faf8118afe3f2b0d2b3",
            "c12c6ae8bde941a2b9c05c14e46b8296",
            "d8b314733eb34cd28f82f8aa579198a5"
          ]
        },
        "id": "F4ExfsMNpde_",
        "outputId": "f41f5c9b-c07d-4738-836c-968e7c540254"
      },
      "outputs": [
        {
          "output_type": "stream",
          "name": "stdout",
          "text": [
            "View the evaluation results for experiment: 'Bad Summarizer-aca042f5' at:\n",
            "https://smith.langchain.com/o/c1b67c13-bec2-4f98-8bbf-502c78449186/datasets/5925bc48-4e25-427a-9231-dfdbd04387ec/compare?selectedSessions=74874f86-9efa-4759-b4ae-db3f3a9ba9c2\n",
            "\n",
            "\n"
          ]
        },
        {
          "output_type": "display_data",
          "data": {
            "text/plain": [
              "0it [00:00, ?it/s]"
            ],
            "application/vnd.jupyter.widget-view+json": {
              "version_major": 2,
              "version_minor": 0,
              "model_id": "485af79ad06248c58608f62f70606e0e"
            }
          },
          "metadata": {}
        },
        {
          "output_type": "execute_result",
          "data": {
            "text/plain": [
              "<ExperimentResults Bad Summarizer-aca042f5>"
            ],
            "text/html": [
              "<div>\n",
              "<style scoped>\n",
              "    .dataframe tbody tr th:only-of-type {\n",
              "        vertical-align: middle;\n",
              "    }\n",
              "\n",
              "    .dataframe tbody tr th {\n",
              "        vertical-align: top;\n",
              "    }\n",
              "\n",
              "    .dataframe thead th {\n",
              "        text-align: right;\n",
              "    }\n",
              "</style>\n",
              "<table border=\"1\" class=\"dataframe\">\n",
              "  <thead>\n",
              "    <tr style=\"text-align: right;\">\n",
              "      <th></th>\n",
              "      <th>inputs.transcript</th>\n",
              "      <th>outputs.output</th>\n",
              "      <th>error</th>\n",
              "      <th>feedback.summary_score</th>\n",
              "      <th>execution_time</th>\n",
              "      <th>example_id</th>\n",
              "      <th>id</th>\n",
              "    </tr>\n",
              "  </thead>\n",
              "  <tbody>\n",
              "    <tr>\n",
              "      <th>0</th>\n",
              "      <td>Bob and Mr. Patel (CLOSED DEAL): Bob: Hello, M...</td>\n",
              "      <td>Bob successfully closed a deal with Mr. Patel ...</td>\n",
              "      <td>None</td>\n",
              "      <td>5</td>\n",
              "      <td>1.049266</td>\n",
              "      <td>4f803b9f-c605-4e41-99fc-3cb062d00587</td>\n",
              "      <td>eaf1b928-46de-418e-a5bc-40cd4e01739e</td>\n",
              "    </tr>\n",
              "    <tr>\n",
              "      <th>1</th>\n",
              "      <td>Bob and Ms. Thompson (NO DEAL): Bob: Hi, Ms. T...</td>\n",
              "      <td>Bob introduces Ms. Thompson to Ford's SUV opti...</td>\n",
              "      <td>None</td>\n",
              "      <td>5</td>\n",
              "      <td>1.085982</td>\n",
              "      <td>55dc1cad-8516-4d80-b16c-634d8cacf72b</td>\n",
              "      <td>dfc0ee08-df7e-49ec-ade0-74e0db651030</td>\n",
              "    </tr>\n",
              "    <tr>\n",
              "      <th>2</th>\n",
              "      <td>Bob and Mr. Johnson (CLOSED DEAL): Bob: Good m...</td>\n",
              "      <td>Bob successfully sold Mr. Johnson a Ford Explo...</td>\n",
              "      <td>None</td>\n",
              "      <td>5</td>\n",
              "      <td>1.401505</td>\n",
              "      <td>6211725a-f93b-4d98-8b09-a6c89e421078</td>\n",
              "      <td>ae4ec784-24b3-4637-8ef8-fb4e47537f46</td>\n",
              "    </tr>\n",
              "    <tr>\n",
              "      <th>3</th>\n",
              "      <td>Bob and Mr. Carter (CLOSED DEAL): Bob: Welcome...</td>\n",
              "      <td>Bob successfully facilitated a trade-in deal w...</td>\n",
              "      <td>None</td>\n",
              "      <td>5</td>\n",
              "      <td>1.403068</td>\n",
              "      <td>6efb2329-d624-4468-beba-e41134069113</td>\n",
              "      <td>e8fcb5d6-c7c6-4b51-9ff8-c6ff15d7f3a2</td>\n",
              "    </tr>\n",
              "    <tr>\n",
              "      <th>4</th>\n",
              "      <td>Bob and Ms. Nguyen (NO DEAL): Bob: Good aftern...</td>\n",
              "      <td>Bob unsuccessfully attempts to persuade Ms. Ng...</td>\n",
              "      <td>None</td>\n",
              "      <td>5</td>\n",
              "      <td>1.228144</td>\n",
              "      <td>8d1c7d5f-ff17-4fc9-acf6-94bcdfce9fee</td>\n",
              "      <td>3c3e5b40-dae4-40d6-ab46-022eeb14355e</td>\n",
              "    </tr>\n",
              "  </tbody>\n",
              "</table>\n",
              "</div>"
            ]
          },
          "metadata": {},
          "execution_count": 6
        }
      ],
      "source": [
        "# Prompt Two: Worse Prompt!\n",
        "def bad_summarizer(inputs: dict):\n",
        "    response = openai_client.chat.completions.create(\n",
        "        model=\"gpt-4o\",\n",
        "        messages=[\n",
        "            {\n",
        "                \"role\": \"user\",\n",
        "                \"content\": f\"Summarize this in one sentence. {inputs['transcript']}\"\n",
        "            }\n",
        "        ],\n",
        "    )\n",
        "    return response.choices[0].message.content\n",
        "\n",
        "client.evaluate(\n",
        "    bad_summarizer,\n",
        "    data=dataset,\n",
        "    evaluators=[summary_score_evaluator],\n",
        "    experiment_prefix=\"Bad Summarizer\"\n",
        ")"
      ]
    },
    {
      "cell_type": "markdown",
      "metadata": {
        "id": "a2PYivKOpde_"
      },
      "source": [
        "### Pairwise Experiment"
      ]
    },
    {
      "cell_type": "markdown",
      "metadata": {
        "id": "d7B0uRH6pde_"
      },
      "source": [
        "Let's define a function that will compare our two experiments. These are the fields that pairwise evaluator functions get access to:\n",
        "- `inputs: dict`: A dictionary of the inputs corresponding to a single example in a dataset.\n",
        "- `outputs: list[dict]`: A list of the dict outputs produced by each experiment on the given inputs.\n",
        "- `reference_outputs: dict`: A dictionary of the reference outputs associated with the example, if available.\n",
        "- `runs: list[Run]`: A list of the full Run objects generated by the experiments on the given example. Use this if you need access to intermediate steps or metadata about each run.\n",
        "- `example: Example`: The full dataset Example, including the example inputs, outputs (if available), and metdata (if available)."
      ]
    },
    {
      "cell_type": "markdown",
      "metadata": {
        "id": "2mIQVR_opde_"
      },
      "source": [
        "First, let's give our LLM-as-Judge some instructions. In our case, we're just going to directly use LLM-as-judge to grade which of the summarizers is the most helpful.\n",
        "\n",
        "It might be hard to grade our summarizers without a ground truth reference, but here, comparing different prompts head to head will give us a sense of which is better!"
      ]
    },
    {
      "cell_type": "code",
      "execution_count": 7,
      "metadata": {
        "id": "GSuko2HVpde_"
      },
      "outputs": [],
      "source": [
        "JUDGE_SYSTEM_PROMPT = \"\"\"\n",
        "Please act as an impartial judge and evaluate the quality of the summarizations provided by two AI summarizers to the meeting transcript below.\n",
        "Your evaluation should consider factors such as the helpfulness, relevance, accuracy, depth, creativity, and level of detail of their summarizations.\n",
        "Begin your evaluation by comparing the two summarizations and provide a short explanation.\n",
        "Avoid any position biases and ensure that the order in which the responses were presented does not influence your decision.\n",
        "Do not favor certain names of the assistants.\n",
        "Be as objective as possible. \"\"\"\n",
        "\n",
        "JUDGE_HUMAN_PROMPT = \"\"\"\n",
        "[The Meeting Transcript] {transcript}\n",
        "\n",
        "[The Start of Assistant A's Summarization] {answer_a} [The End of Assistant A's Summarization]\n",
        "\n",
        "[The Start of Assistant B's Summarization] {answer_b} [The End of Assistant B's Summarization]\"\"\""
      ]
    },
    {
      "cell_type": "markdown",
      "metadata": {
        "id": "OCdXdpropdfA"
      },
      "source": [
        "Our function will take in an `inputs` dictionary, and a list of `outputs` dictionaries for the different experiments that we want to compare."
      ]
    },
    {
      "cell_type": "code",
      "execution_count": 8,
      "metadata": {
        "id": "bR8t2u_updfA"
      },
      "outputs": [],
      "source": [
        "from pydantic import BaseModel, Field\n",
        "\n",
        "class Preference(BaseModel):\n",
        "    preference: int = Field(description=\"\"\"1 if Assistant A answer is better based upon the factors above.\n",
        "2 if Assistant B answer is better based upon the factors above.\n",
        "Output 0 if it is a tie.\"\"\")\n",
        "\n",
        "def ranked_preference(inputs: dict, outputs: list[dict]) -> list:\n",
        "    completion = openai_client.beta.chat.completions.parse(\n",
        "        model=\"gpt-4o\",\n",
        "        messages=[\n",
        "            {\n",
        "                \"role\": \"system\",\n",
        "                \"content\": JUDGE_SYSTEM_PROMPT,\n",
        "            },\n",
        "            {\n",
        "                \"role\": \"user\",\n",
        "                \"content\": JUDGE_HUMAN_PROMPT.format(\n",
        "                    transcript=inputs[\"transcript\"],\n",
        "                    answer_a=outputs[0].get(\"output\", \"N/A\"),\n",
        "                    answer_b=outputs[1].get(\"output\", \"N/A\")\n",
        "                )}\n",
        "        ],\n",
        "        response_format=Preference,\n",
        "    )\n",
        "\n",
        "    preference_score = completion.choices[0].message.parsed.preference\n",
        "\n",
        "    if preference_score == 1:\n",
        "        scores = [1, 0]\n",
        "    elif preference_score == 2:\n",
        "        scores = [0, 1]\n",
        "    else:\n",
        "        scores = [0, 0]\n",
        "    return scores"
      ]
    },
    {
      "cell_type": "markdown",
      "metadata": {
        "id": "Cq548pxVpdfA"
      },
      "source": [
        "Now let's run our pairwise experiment with `evaluate()`"
      ]
    },
    {
      "cell_type": "code",
      "execution_count": 10,
      "metadata": {
        "colab": {
          "base_uri": "https://localhost:8080/",
          "height": 163,
          "referenced_widgets": [
            "ec0676fd563f4e168ddcc84d2dc0a669",
            "0d3099c21dc84892ad883c36a58c6c61",
            "6b8275ba49ca4e35bc5068dc25c07409",
            "4ffd9e65eb4f44a6b792d4e6cad66b6a",
            "d89fa0be014644b19d5c8b7abbf743ae",
            "24620c0d928f4532b76e46181ce19ff5",
            "0539161d072948e9b840112fdaffdd89",
            "3e67bee13d4e45ffa3c76ec38c1586b5",
            "48e3d8f12edb41ae9f464d46a0258ba5",
            "c8dc764483734341914d4b43b2fd10c3",
            "220c4f4c4cf14e06b7b8c7a35df2f5ae"
          ]
        },
        "id": "6zpXPhl6pdfA",
        "outputId": "13644ff6-12f1-4483-ed6a-6208b207c9d5"
      },
      "outputs": [
        {
          "output_type": "stream",
          "name": "stdout",
          "text": [
            "View the pairwise evaluation results at:\n",
            "https://smith.langchain.com/o/c1b67c13-bec2-4f98-8bbf-502c78449186/datasets/5925bc48-4e25-427a-9231-dfdbd04387ec/compare?selectedSessions=4fe0a5c1-4cf8-4483-84e6-4d9673a2ae3a%2C74874f86-9efa-4759-b4ae-db3f3a9ba9c2&comparativeExperiment=b6c07dc5-76c0-45d9-bb97-b100889a693c\n",
            "\n",
            "\n"
          ]
        },
        {
          "output_type": "display_data",
          "data": {
            "text/plain": [
              "  0%|          | 0/5 [00:00<?, ?it/s]"
            ],
            "application/vnd.jupyter.widget-view+json": {
              "version_major": 2,
              "version_minor": 0,
              "model_id": "ec0676fd563f4e168ddcc84d2dc0a669"
            }
          },
          "metadata": {}
        },
        {
          "output_type": "execute_result",
          "data": {
            "text/plain": [
              "<langsmith.evaluation._runner.ComparativeExperimentResults at 0x7ecb9659da60>"
            ]
          },
          "metadata": {},
          "execution_count": 10
        }
      ],
      "source": [
        "from langsmith import evaluate\n",
        "\n",
        "evaluate(\n",
        "    (\"Good Summarizer-533c6be7\", \"Bad Summarizer-aca042f5\"),  # TODO: Replace with the names/IDs of your experiments\n",
        "    evaluators=[ranked_preference]\n",
        ")"
      ]
    }
  ],
  "metadata": {
    "kernelspec": {
      "display_name": "ls-academy",
      "language": "python",
      "name": "python3"
    },
    "language_info": {
      "codemirror_mode": {
        "name": "ipython",
        "version": 3
      },
      "file_extension": ".py",
      "mimetype": "text/x-python",
      "name": "python",
      "nbconvert_exporter": "python",
      "pygments_lexer": "ipython3",
      "version": "3.9.6"
    },
    "colab": {
      "provenance": []
    },
    "widgets": {
      "application/vnd.jupyter.widget-state+json": {
        "0df5660f8790463ab65973ebb7713ace": {
          "model_module": "@jupyter-widgets/controls",
          "model_name": "HBoxModel",
          "model_module_version": "1.5.0",
          "state": {
            "_dom_classes": [],
            "_model_module": "@jupyter-widgets/controls",
            "_model_module_version": "1.5.0",
            "_model_name": "HBoxModel",
            "_view_count": null,
            "_view_module": "@jupyter-widgets/controls",
            "_view_module_version": "1.5.0",
            "_view_name": "HBoxView",
            "box_style": "",
            "children": [
              "IPY_MODEL_9324f3e2bb954908a4315c562b42f47f",
              "IPY_MODEL_62a1f1e632f64acf886bee7e4ee9e54d",
              "IPY_MODEL_b080a661c81a4e629b95e80248ea31cf"
            ],
            "layout": "IPY_MODEL_8db4a589bedc44a982c370cf94db0682"
          }
        },
        "9324f3e2bb954908a4315c562b42f47f": {
          "model_module": "@jupyter-widgets/controls",
          "model_name": "HTMLModel",
          "model_module_version": "1.5.0",
          "state": {
            "_dom_classes": [],
            "_model_module": "@jupyter-widgets/controls",
            "_model_module_version": "1.5.0",
            "_model_name": "HTMLModel",
            "_view_count": null,
            "_view_module": "@jupyter-widgets/controls",
            "_view_module_version": "1.5.0",
            "_view_name": "HTMLView",
            "description": "",
            "description_tooltip": null,
            "layout": "IPY_MODEL_e9993dc467384d5eb57e7bb7052555d9",
            "placeholder": "​",
            "style": "IPY_MODEL_b3444c95f23243d480f8b5fde4d72a75",
            "value": ""
          }
        },
        "62a1f1e632f64acf886bee7e4ee9e54d": {
          "model_module": "@jupyter-widgets/controls",
          "model_name": "FloatProgressModel",
          "model_module_version": "1.5.0",
          "state": {
            "_dom_classes": [],
            "_model_module": "@jupyter-widgets/controls",
            "_model_module_version": "1.5.0",
            "_model_name": "FloatProgressModel",
            "_view_count": null,
            "_view_module": "@jupyter-widgets/controls",
            "_view_module_version": "1.5.0",
            "_view_name": "ProgressView",
            "bar_style": "success",
            "description": "",
            "description_tooltip": null,
            "layout": "IPY_MODEL_236861a4fe914dd7be74228bc34f2e31",
            "max": 1,
            "min": 0,
            "orientation": "horizontal",
            "style": "IPY_MODEL_7901a93fe14e4deba2d5149c7b22eee4",
            "value": 1
          }
        },
        "b080a661c81a4e629b95e80248ea31cf": {
          "model_module": "@jupyter-widgets/controls",
          "model_name": "HTMLModel",
          "model_module_version": "1.5.0",
          "state": {
            "_dom_classes": [],
            "_model_module": "@jupyter-widgets/controls",
            "_model_module_version": "1.5.0",
            "_model_name": "HTMLModel",
            "_view_count": null,
            "_view_module": "@jupyter-widgets/controls",
            "_view_module_version": "1.5.0",
            "_view_name": "HTMLView",
            "description": "",
            "description_tooltip": null,
            "layout": "IPY_MODEL_efffbd47665c4f9aac2637769c208215",
            "placeholder": "​",
            "style": "IPY_MODEL_70553309a4044f9487799b920f1f4484",
            "value": " 5/? [00:17&lt;00:00,  2.83s/it]"
          }
        },
        "8db4a589bedc44a982c370cf94db0682": {
          "model_module": "@jupyter-widgets/base",
          "model_name": "LayoutModel",
          "model_module_version": "1.2.0",
          "state": {
            "_model_module": "@jupyter-widgets/base",
            "_model_module_version": "1.2.0",
            "_model_name": "LayoutModel",
            "_view_count": null,
            "_view_module": "@jupyter-widgets/base",
            "_view_module_version": "1.2.0",
            "_view_name": "LayoutView",
            "align_content": null,
            "align_items": null,
            "align_self": null,
            "border": null,
            "bottom": null,
            "display": null,
            "flex": null,
            "flex_flow": null,
            "grid_area": null,
            "grid_auto_columns": null,
            "grid_auto_flow": null,
            "grid_auto_rows": null,
            "grid_column": null,
            "grid_gap": null,
            "grid_row": null,
            "grid_template_areas": null,
            "grid_template_columns": null,
            "grid_template_rows": null,
            "height": null,
            "justify_content": null,
            "justify_items": null,
            "left": null,
            "margin": null,
            "max_height": null,
            "max_width": null,
            "min_height": null,
            "min_width": null,
            "object_fit": null,
            "object_position": null,
            "order": null,
            "overflow": null,
            "overflow_x": null,
            "overflow_y": null,
            "padding": null,
            "right": null,
            "top": null,
            "visibility": null,
            "width": null
          }
        },
        "e9993dc467384d5eb57e7bb7052555d9": {
          "model_module": "@jupyter-widgets/base",
          "model_name": "LayoutModel",
          "model_module_version": "1.2.0",
          "state": {
            "_model_module": "@jupyter-widgets/base",
            "_model_module_version": "1.2.0",
            "_model_name": "LayoutModel",
            "_view_count": null,
            "_view_module": "@jupyter-widgets/base",
            "_view_module_version": "1.2.0",
            "_view_name": "LayoutView",
            "align_content": null,
            "align_items": null,
            "align_self": null,
            "border": null,
            "bottom": null,
            "display": null,
            "flex": null,
            "flex_flow": null,
            "grid_area": null,
            "grid_auto_columns": null,
            "grid_auto_flow": null,
            "grid_auto_rows": null,
            "grid_column": null,
            "grid_gap": null,
            "grid_row": null,
            "grid_template_areas": null,
            "grid_template_columns": null,
            "grid_template_rows": null,
            "height": null,
            "justify_content": null,
            "justify_items": null,
            "left": null,
            "margin": null,
            "max_height": null,
            "max_width": null,
            "min_height": null,
            "min_width": null,
            "object_fit": null,
            "object_position": null,
            "order": null,
            "overflow": null,
            "overflow_x": null,
            "overflow_y": null,
            "padding": null,
            "right": null,
            "top": null,
            "visibility": null,
            "width": null
          }
        },
        "b3444c95f23243d480f8b5fde4d72a75": {
          "model_module": "@jupyter-widgets/controls",
          "model_name": "DescriptionStyleModel",
          "model_module_version": "1.5.0",
          "state": {
            "_model_module": "@jupyter-widgets/controls",
            "_model_module_version": "1.5.0",
            "_model_name": "DescriptionStyleModel",
            "_view_count": null,
            "_view_module": "@jupyter-widgets/base",
            "_view_module_version": "1.2.0",
            "_view_name": "StyleView",
            "description_width": ""
          }
        },
        "236861a4fe914dd7be74228bc34f2e31": {
          "model_module": "@jupyter-widgets/base",
          "model_name": "LayoutModel",
          "model_module_version": "1.2.0",
          "state": {
            "_model_module": "@jupyter-widgets/base",
            "_model_module_version": "1.2.0",
            "_model_name": "LayoutModel",
            "_view_count": null,
            "_view_module": "@jupyter-widgets/base",
            "_view_module_version": "1.2.0",
            "_view_name": "LayoutView",
            "align_content": null,
            "align_items": null,
            "align_self": null,
            "border": null,
            "bottom": null,
            "display": null,
            "flex": null,
            "flex_flow": null,
            "grid_area": null,
            "grid_auto_columns": null,
            "grid_auto_flow": null,
            "grid_auto_rows": null,
            "grid_column": null,
            "grid_gap": null,
            "grid_row": null,
            "grid_template_areas": null,
            "grid_template_columns": null,
            "grid_template_rows": null,
            "height": null,
            "justify_content": null,
            "justify_items": null,
            "left": null,
            "margin": null,
            "max_height": null,
            "max_width": null,
            "min_height": null,
            "min_width": null,
            "object_fit": null,
            "object_position": null,
            "order": null,
            "overflow": null,
            "overflow_x": null,
            "overflow_y": null,
            "padding": null,
            "right": null,
            "top": null,
            "visibility": null,
            "width": "20px"
          }
        },
        "7901a93fe14e4deba2d5149c7b22eee4": {
          "model_module": "@jupyter-widgets/controls",
          "model_name": "ProgressStyleModel",
          "model_module_version": "1.5.0",
          "state": {
            "_model_module": "@jupyter-widgets/controls",
            "_model_module_version": "1.5.0",
            "_model_name": "ProgressStyleModel",
            "_view_count": null,
            "_view_module": "@jupyter-widgets/base",
            "_view_module_version": "1.2.0",
            "_view_name": "StyleView",
            "bar_color": null,
            "description_width": ""
          }
        },
        "efffbd47665c4f9aac2637769c208215": {
          "model_module": "@jupyter-widgets/base",
          "model_name": "LayoutModel",
          "model_module_version": "1.2.0",
          "state": {
            "_model_module": "@jupyter-widgets/base",
            "_model_module_version": "1.2.0",
            "_model_name": "LayoutModel",
            "_view_count": null,
            "_view_module": "@jupyter-widgets/base",
            "_view_module_version": "1.2.0",
            "_view_name": "LayoutView",
            "align_content": null,
            "align_items": null,
            "align_self": null,
            "border": null,
            "bottom": null,
            "display": null,
            "flex": null,
            "flex_flow": null,
            "grid_area": null,
            "grid_auto_columns": null,
            "grid_auto_flow": null,
            "grid_auto_rows": null,
            "grid_column": null,
            "grid_gap": null,
            "grid_row": null,
            "grid_template_areas": null,
            "grid_template_columns": null,
            "grid_template_rows": null,
            "height": null,
            "justify_content": null,
            "justify_items": null,
            "left": null,
            "margin": null,
            "max_height": null,
            "max_width": null,
            "min_height": null,
            "min_width": null,
            "object_fit": null,
            "object_position": null,
            "order": null,
            "overflow": null,
            "overflow_x": null,
            "overflow_y": null,
            "padding": null,
            "right": null,
            "top": null,
            "visibility": null,
            "width": null
          }
        },
        "70553309a4044f9487799b920f1f4484": {
          "model_module": "@jupyter-widgets/controls",
          "model_name": "DescriptionStyleModel",
          "model_module_version": "1.5.0",
          "state": {
            "_model_module": "@jupyter-widgets/controls",
            "_model_module_version": "1.5.0",
            "_model_name": "DescriptionStyleModel",
            "_view_count": null,
            "_view_module": "@jupyter-widgets/base",
            "_view_module_version": "1.2.0",
            "_view_name": "StyleView",
            "description_width": ""
          }
        },
        "485af79ad06248c58608f62f70606e0e": {
          "model_module": "@jupyter-widgets/controls",
          "model_name": "HBoxModel",
          "model_module_version": "1.5.0",
          "state": {
            "_dom_classes": [],
            "_model_module": "@jupyter-widgets/controls",
            "_model_module_version": "1.5.0",
            "_model_name": "HBoxModel",
            "_view_count": null,
            "_view_module": "@jupyter-widgets/controls",
            "_view_module_version": "1.5.0",
            "_view_name": "HBoxView",
            "box_style": "",
            "children": [
              "IPY_MODEL_bcbe51bf274a4767b81496f511164ccd",
              "IPY_MODEL_53750195fc14435591a7c6d47b6807d6",
              "IPY_MODEL_cb6238e30d9e43e6bf7351676bc75c39"
            ],
            "layout": "IPY_MODEL_da057888f4ad465e90e6245970ef331b"
          }
        },
        "bcbe51bf274a4767b81496f511164ccd": {
          "model_module": "@jupyter-widgets/controls",
          "model_name": "HTMLModel",
          "model_module_version": "1.5.0",
          "state": {
            "_dom_classes": [],
            "_model_module": "@jupyter-widgets/controls",
            "_model_module_version": "1.5.0",
            "_model_name": "HTMLModel",
            "_view_count": null,
            "_view_module": "@jupyter-widgets/controls",
            "_view_module_version": "1.5.0",
            "_view_name": "HTMLView",
            "description": "",
            "description_tooltip": null,
            "layout": "IPY_MODEL_c1849b7d3b424c7497b5e3610f1b1bc1",
            "placeholder": "​",
            "style": "IPY_MODEL_2d527aaa9e694dcb8c3ea386ef39ecee",
            "value": ""
          }
        },
        "53750195fc14435591a7c6d47b6807d6": {
          "model_module": "@jupyter-widgets/controls",
          "model_name": "FloatProgressModel",
          "model_module_version": "1.5.0",
          "state": {
            "_dom_classes": [],
            "_model_module": "@jupyter-widgets/controls",
            "_model_module_version": "1.5.0",
            "_model_name": "FloatProgressModel",
            "_view_count": null,
            "_view_module": "@jupyter-widgets/controls",
            "_view_module_version": "1.5.0",
            "_view_name": "ProgressView",
            "bar_style": "success",
            "description": "",
            "description_tooltip": null,
            "layout": "IPY_MODEL_9e0c6b8a0ff44d479c07ece5653e7e50",
            "max": 1,
            "min": 0,
            "orientation": "horizontal",
            "style": "IPY_MODEL_e96a422310a74faf8118afe3f2b0d2b3",
            "value": 1
          }
        },
        "cb6238e30d9e43e6bf7351676bc75c39": {
          "model_module": "@jupyter-widgets/controls",
          "model_name": "HTMLModel",
          "model_module_version": "1.5.0",
          "state": {
            "_dom_classes": [],
            "_model_module": "@jupyter-widgets/controls",
            "_model_module_version": "1.5.0",
            "_model_name": "HTMLModel",
            "_view_count": null,
            "_view_module": "@jupyter-widgets/controls",
            "_view_module_version": "1.5.0",
            "_view_name": "HTMLView",
            "description": "",
            "description_tooltip": null,
            "layout": "IPY_MODEL_c12c6ae8bde941a2b9c05c14e46b8296",
            "placeholder": "​",
            "style": "IPY_MODEL_d8b314733eb34cd28f82f8aa579198a5",
            "value": " 5/? [00:09&lt;00:00,  1.82s/it]"
          }
        },
        "da057888f4ad465e90e6245970ef331b": {
          "model_module": "@jupyter-widgets/base",
          "model_name": "LayoutModel",
          "model_module_version": "1.2.0",
          "state": {
            "_model_module": "@jupyter-widgets/base",
            "_model_module_version": "1.2.0",
            "_model_name": "LayoutModel",
            "_view_count": null,
            "_view_module": "@jupyter-widgets/base",
            "_view_module_version": "1.2.0",
            "_view_name": "LayoutView",
            "align_content": null,
            "align_items": null,
            "align_self": null,
            "border": null,
            "bottom": null,
            "display": null,
            "flex": null,
            "flex_flow": null,
            "grid_area": null,
            "grid_auto_columns": null,
            "grid_auto_flow": null,
            "grid_auto_rows": null,
            "grid_column": null,
            "grid_gap": null,
            "grid_row": null,
            "grid_template_areas": null,
            "grid_template_columns": null,
            "grid_template_rows": null,
            "height": null,
            "justify_content": null,
            "justify_items": null,
            "left": null,
            "margin": null,
            "max_height": null,
            "max_width": null,
            "min_height": null,
            "min_width": null,
            "object_fit": null,
            "object_position": null,
            "order": null,
            "overflow": null,
            "overflow_x": null,
            "overflow_y": null,
            "padding": null,
            "right": null,
            "top": null,
            "visibility": null,
            "width": null
          }
        },
        "c1849b7d3b424c7497b5e3610f1b1bc1": {
          "model_module": "@jupyter-widgets/base",
          "model_name": "LayoutModel",
          "model_module_version": "1.2.0",
          "state": {
            "_model_module": "@jupyter-widgets/base",
            "_model_module_version": "1.2.0",
            "_model_name": "LayoutModel",
            "_view_count": null,
            "_view_module": "@jupyter-widgets/base",
            "_view_module_version": "1.2.0",
            "_view_name": "LayoutView",
            "align_content": null,
            "align_items": null,
            "align_self": null,
            "border": null,
            "bottom": null,
            "display": null,
            "flex": null,
            "flex_flow": null,
            "grid_area": null,
            "grid_auto_columns": null,
            "grid_auto_flow": null,
            "grid_auto_rows": null,
            "grid_column": null,
            "grid_gap": null,
            "grid_row": null,
            "grid_template_areas": null,
            "grid_template_columns": null,
            "grid_template_rows": null,
            "height": null,
            "justify_content": null,
            "justify_items": null,
            "left": null,
            "margin": null,
            "max_height": null,
            "max_width": null,
            "min_height": null,
            "min_width": null,
            "object_fit": null,
            "object_position": null,
            "order": null,
            "overflow": null,
            "overflow_x": null,
            "overflow_y": null,
            "padding": null,
            "right": null,
            "top": null,
            "visibility": null,
            "width": null
          }
        },
        "2d527aaa9e694dcb8c3ea386ef39ecee": {
          "model_module": "@jupyter-widgets/controls",
          "model_name": "DescriptionStyleModel",
          "model_module_version": "1.5.0",
          "state": {
            "_model_module": "@jupyter-widgets/controls",
            "_model_module_version": "1.5.0",
            "_model_name": "DescriptionStyleModel",
            "_view_count": null,
            "_view_module": "@jupyter-widgets/base",
            "_view_module_version": "1.2.0",
            "_view_name": "StyleView",
            "description_width": ""
          }
        },
        "9e0c6b8a0ff44d479c07ece5653e7e50": {
          "model_module": "@jupyter-widgets/base",
          "model_name": "LayoutModel",
          "model_module_version": "1.2.0",
          "state": {
            "_model_module": "@jupyter-widgets/base",
            "_model_module_version": "1.2.0",
            "_model_name": "LayoutModel",
            "_view_count": null,
            "_view_module": "@jupyter-widgets/base",
            "_view_module_version": "1.2.0",
            "_view_name": "LayoutView",
            "align_content": null,
            "align_items": null,
            "align_self": null,
            "border": null,
            "bottom": null,
            "display": null,
            "flex": null,
            "flex_flow": null,
            "grid_area": null,
            "grid_auto_columns": null,
            "grid_auto_flow": null,
            "grid_auto_rows": null,
            "grid_column": null,
            "grid_gap": null,
            "grid_row": null,
            "grid_template_areas": null,
            "grid_template_columns": null,
            "grid_template_rows": null,
            "height": null,
            "justify_content": null,
            "justify_items": null,
            "left": null,
            "margin": null,
            "max_height": null,
            "max_width": null,
            "min_height": null,
            "min_width": null,
            "object_fit": null,
            "object_position": null,
            "order": null,
            "overflow": null,
            "overflow_x": null,
            "overflow_y": null,
            "padding": null,
            "right": null,
            "top": null,
            "visibility": null,
            "width": "20px"
          }
        },
        "e96a422310a74faf8118afe3f2b0d2b3": {
          "model_module": "@jupyter-widgets/controls",
          "model_name": "ProgressStyleModel",
          "model_module_version": "1.5.0",
          "state": {
            "_model_module": "@jupyter-widgets/controls",
            "_model_module_version": "1.5.0",
            "_model_name": "ProgressStyleModel",
            "_view_count": null,
            "_view_module": "@jupyter-widgets/base",
            "_view_module_version": "1.2.0",
            "_view_name": "StyleView",
            "bar_color": null,
            "description_width": ""
          }
        },
        "c12c6ae8bde941a2b9c05c14e46b8296": {
          "model_module": "@jupyter-widgets/base",
          "model_name": "LayoutModel",
          "model_module_version": "1.2.0",
          "state": {
            "_model_module": "@jupyter-widgets/base",
            "_model_module_version": "1.2.0",
            "_model_name": "LayoutModel",
            "_view_count": null,
            "_view_module": "@jupyter-widgets/base",
            "_view_module_version": "1.2.0",
            "_view_name": "LayoutView",
            "align_content": null,
            "align_items": null,
            "align_self": null,
            "border": null,
            "bottom": null,
            "display": null,
            "flex": null,
            "flex_flow": null,
            "grid_area": null,
            "grid_auto_columns": null,
            "grid_auto_flow": null,
            "grid_auto_rows": null,
            "grid_column": null,
            "grid_gap": null,
            "grid_row": null,
            "grid_template_areas": null,
            "grid_template_columns": null,
            "grid_template_rows": null,
            "height": null,
            "justify_content": null,
            "justify_items": null,
            "left": null,
            "margin": null,
            "max_height": null,
            "max_width": null,
            "min_height": null,
            "min_width": null,
            "object_fit": null,
            "object_position": null,
            "order": null,
            "overflow": null,
            "overflow_x": null,
            "overflow_y": null,
            "padding": null,
            "right": null,
            "top": null,
            "visibility": null,
            "width": null
          }
        },
        "d8b314733eb34cd28f82f8aa579198a5": {
          "model_module": "@jupyter-widgets/controls",
          "model_name": "DescriptionStyleModel",
          "model_module_version": "1.5.0",
          "state": {
            "_model_module": "@jupyter-widgets/controls",
            "_model_module_version": "1.5.0",
            "_model_name": "DescriptionStyleModel",
            "_view_count": null,
            "_view_module": "@jupyter-widgets/base",
            "_view_module_version": "1.2.0",
            "_view_name": "StyleView",
            "description_width": ""
          }
        },
        "ec0676fd563f4e168ddcc84d2dc0a669": {
          "model_module": "@jupyter-widgets/controls",
          "model_name": "HBoxModel",
          "model_module_version": "1.5.0",
          "state": {
            "_dom_classes": [],
            "_model_module": "@jupyter-widgets/controls",
            "_model_module_version": "1.5.0",
            "_model_name": "HBoxModel",
            "_view_count": null,
            "_view_module": "@jupyter-widgets/controls",
            "_view_module_version": "1.5.0",
            "_view_name": "HBoxView",
            "box_style": "",
            "children": [
              "IPY_MODEL_0d3099c21dc84892ad883c36a58c6c61",
              "IPY_MODEL_6b8275ba49ca4e35bc5068dc25c07409",
              "IPY_MODEL_4ffd9e65eb4f44a6b792d4e6cad66b6a"
            ],
            "layout": "IPY_MODEL_d89fa0be014644b19d5c8b7abbf743ae"
          }
        },
        "0d3099c21dc84892ad883c36a58c6c61": {
          "model_module": "@jupyter-widgets/controls",
          "model_name": "HTMLModel",
          "model_module_version": "1.5.0",
          "state": {
            "_dom_classes": [],
            "_model_module": "@jupyter-widgets/controls",
            "_model_module_version": "1.5.0",
            "_model_name": "HTMLModel",
            "_view_count": null,
            "_view_module": "@jupyter-widgets/controls",
            "_view_module_version": "1.5.0",
            "_view_name": "HTMLView",
            "description": "",
            "description_tooltip": null,
            "layout": "IPY_MODEL_24620c0d928f4532b76e46181ce19ff5",
            "placeholder": "​",
            "style": "IPY_MODEL_0539161d072948e9b840112fdaffdd89",
            "value": "100%"
          }
        },
        "6b8275ba49ca4e35bc5068dc25c07409": {
          "model_module": "@jupyter-widgets/controls",
          "model_name": "FloatProgressModel",
          "model_module_version": "1.5.0",
          "state": {
            "_dom_classes": [],
            "_model_module": "@jupyter-widgets/controls",
            "_model_module_version": "1.5.0",
            "_model_name": "FloatProgressModel",
            "_view_count": null,
            "_view_module": "@jupyter-widgets/controls",
            "_view_module_version": "1.5.0",
            "_view_name": "ProgressView",
            "bar_style": "success",
            "description": "",
            "description_tooltip": null,
            "layout": "IPY_MODEL_3e67bee13d4e45ffa3c76ec38c1586b5",
            "max": 5,
            "min": 0,
            "orientation": "horizontal",
            "style": "IPY_MODEL_48e3d8f12edb41ae9f464d46a0258ba5",
            "value": 5
          }
        },
        "4ffd9e65eb4f44a6b792d4e6cad66b6a": {
          "model_module": "@jupyter-widgets/controls",
          "model_name": "HTMLModel",
          "model_module_version": "1.5.0",
          "state": {
            "_dom_classes": [],
            "_model_module": "@jupyter-widgets/controls",
            "_model_module_version": "1.5.0",
            "_model_name": "HTMLModel",
            "_view_count": null,
            "_view_module": "@jupyter-widgets/controls",
            "_view_module_version": "1.5.0",
            "_view_name": "HTMLView",
            "description": "",
            "description_tooltip": null,
            "layout": "IPY_MODEL_c8dc764483734341914d4b43b2fd10c3",
            "placeholder": "​",
            "style": "IPY_MODEL_220c4f4c4cf14e06b7b8c7a35df2f5ae",
            "value": " 5/5 [00:03&lt;00:00,  1.69it/s]"
          }
        },
        "d89fa0be014644b19d5c8b7abbf743ae": {
          "model_module": "@jupyter-widgets/base",
          "model_name": "LayoutModel",
          "model_module_version": "1.2.0",
          "state": {
            "_model_module": "@jupyter-widgets/base",
            "_model_module_version": "1.2.0",
            "_model_name": "LayoutModel",
            "_view_count": null,
            "_view_module": "@jupyter-widgets/base",
            "_view_module_version": "1.2.0",
            "_view_name": "LayoutView",
            "align_content": null,
            "align_items": null,
            "align_self": null,
            "border": null,
            "bottom": null,
            "display": null,
            "flex": null,
            "flex_flow": null,
            "grid_area": null,
            "grid_auto_columns": null,
            "grid_auto_flow": null,
            "grid_auto_rows": null,
            "grid_column": null,
            "grid_gap": null,
            "grid_row": null,
            "grid_template_areas": null,
            "grid_template_columns": null,
            "grid_template_rows": null,
            "height": null,
            "justify_content": null,
            "justify_items": null,
            "left": null,
            "margin": null,
            "max_height": null,
            "max_width": null,
            "min_height": null,
            "min_width": null,
            "object_fit": null,
            "object_position": null,
            "order": null,
            "overflow": null,
            "overflow_x": null,
            "overflow_y": null,
            "padding": null,
            "right": null,
            "top": null,
            "visibility": null,
            "width": null
          }
        },
        "24620c0d928f4532b76e46181ce19ff5": {
          "model_module": "@jupyter-widgets/base",
          "model_name": "LayoutModel",
          "model_module_version": "1.2.0",
          "state": {
            "_model_module": "@jupyter-widgets/base",
            "_model_module_version": "1.2.0",
            "_model_name": "LayoutModel",
            "_view_count": null,
            "_view_module": "@jupyter-widgets/base",
            "_view_module_version": "1.2.0",
            "_view_name": "LayoutView",
            "align_content": null,
            "align_items": null,
            "align_self": null,
            "border": null,
            "bottom": null,
            "display": null,
            "flex": null,
            "flex_flow": null,
            "grid_area": null,
            "grid_auto_columns": null,
            "grid_auto_flow": null,
            "grid_auto_rows": null,
            "grid_column": null,
            "grid_gap": null,
            "grid_row": null,
            "grid_template_areas": null,
            "grid_template_columns": null,
            "grid_template_rows": null,
            "height": null,
            "justify_content": null,
            "justify_items": null,
            "left": null,
            "margin": null,
            "max_height": null,
            "max_width": null,
            "min_height": null,
            "min_width": null,
            "object_fit": null,
            "object_position": null,
            "order": null,
            "overflow": null,
            "overflow_x": null,
            "overflow_y": null,
            "padding": null,
            "right": null,
            "top": null,
            "visibility": null,
            "width": null
          }
        },
        "0539161d072948e9b840112fdaffdd89": {
          "model_module": "@jupyter-widgets/controls",
          "model_name": "DescriptionStyleModel",
          "model_module_version": "1.5.0",
          "state": {
            "_model_module": "@jupyter-widgets/controls",
            "_model_module_version": "1.5.0",
            "_model_name": "DescriptionStyleModel",
            "_view_count": null,
            "_view_module": "@jupyter-widgets/base",
            "_view_module_version": "1.2.0",
            "_view_name": "StyleView",
            "description_width": ""
          }
        },
        "3e67bee13d4e45ffa3c76ec38c1586b5": {
          "model_module": "@jupyter-widgets/base",
          "model_name": "LayoutModel",
          "model_module_version": "1.2.0",
          "state": {
            "_model_module": "@jupyter-widgets/base",
            "_model_module_version": "1.2.0",
            "_model_name": "LayoutModel",
            "_view_count": null,
            "_view_module": "@jupyter-widgets/base",
            "_view_module_version": "1.2.0",
            "_view_name": "LayoutView",
            "align_content": null,
            "align_items": null,
            "align_self": null,
            "border": null,
            "bottom": null,
            "display": null,
            "flex": null,
            "flex_flow": null,
            "grid_area": null,
            "grid_auto_columns": null,
            "grid_auto_flow": null,
            "grid_auto_rows": null,
            "grid_column": null,
            "grid_gap": null,
            "grid_row": null,
            "grid_template_areas": null,
            "grid_template_columns": null,
            "grid_template_rows": null,
            "height": null,
            "justify_content": null,
            "justify_items": null,
            "left": null,
            "margin": null,
            "max_height": null,
            "max_width": null,
            "min_height": null,
            "min_width": null,
            "object_fit": null,
            "object_position": null,
            "order": null,
            "overflow": null,
            "overflow_x": null,
            "overflow_y": null,
            "padding": null,
            "right": null,
            "top": null,
            "visibility": null,
            "width": null
          }
        },
        "48e3d8f12edb41ae9f464d46a0258ba5": {
          "model_module": "@jupyter-widgets/controls",
          "model_name": "ProgressStyleModel",
          "model_module_version": "1.5.0",
          "state": {
            "_model_module": "@jupyter-widgets/controls",
            "_model_module_version": "1.5.0",
            "_model_name": "ProgressStyleModel",
            "_view_count": null,
            "_view_module": "@jupyter-widgets/base",
            "_view_module_version": "1.2.0",
            "_view_name": "StyleView",
            "bar_color": null,
            "description_width": ""
          }
        },
        "c8dc764483734341914d4b43b2fd10c3": {
          "model_module": "@jupyter-widgets/base",
          "model_name": "LayoutModel",
          "model_module_version": "1.2.0",
          "state": {
            "_model_module": "@jupyter-widgets/base",
            "_model_module_version": "1.2.0",
            "_model_name": "LayoutModel",
            "_view_count": null,
            "_view_module": "@jupyter-widgets/base",
            "_view_module_version": "1.2.0",
            "_view_name": "LayoutView",
            "align_content": null,
            "align_items": null,
            "align_self": null,
            "border": null,
            "bottom": null,
            "display": null,
            "flex": null,
            "flex_flow": null,
            "grid_area": null,
            "grid_auto_columns": null,
            "grid_auto_flow": null,
            "grid_auto_rows": null,
            "grid_column": null,
            "grid_gap": null,
            "grid_row": null,
            "grid_template_areas": null,
            "grid_template_columns": null,
            "grid_template_rows": null,
            "height": null,
            "justify_content": null,
            "justify_items": null,
            "left": null,
            "margin": null,
            "max_height": null,
            "max_width": null,
            "min_height": null,
            "min_width": null,
            "object_fit": null,
            "object_position": null,
            "order": null,
            "overflow": null,
            "overflow_x": null,
            "overflow_y": null,
            "padding": null,
            "right": null,
            "top": null,
            "visibility": null,
            "width": null
          }
        },
        "220c4f4c4cf14e06b7b8c7a35df2f5ae": {
          "model_module": "@jupyter-widgets/controls",
          "model_name": "DescriptionStyleModel",
          "model_module_version": "1.5.0",
          "state": {
            "_model_module": "@jupyter-widgets/controls",
            "_model_module_version": "1.5.0",
            "_model_name": "DescriptionStyleModel",
            "_view_count": null,
            "_view_module": "@jupyter-widgets/base",
            "_view_module_version": "1.2.0",
            "_view_name": "StyleView",
            "description_width": ""
          }
        }
      }
    }
  },
  "nbformat": 4,
  "nbformat_minor": 0
}