{
  "cells": [
    {
      "cell_type": "markdown",
      "metadata": {
        "id": "Nw19D2Y38LQK"
      },
      "source": [
        "# Evaluators"
      ]
    },
    {
      "cell_type": "markdown",
      "metadata": {
        "id": "Sk6mP0fr8LQO"
      },
      "source": [
        "At a high-level, an evaluator judges an invocation of your LLM application against a reference example, and returns an evaluation score.\n",
        "\n",
        "In LangSmith evaluators, we represent this process as a function that takes in a Run (representing the LLM app invocation) and an Example (representing the data point to evaluate), and returns Feedback (representing the evaluator's score of the LLM app invocation)."
      ]
    },
    {
      "cell_type": "markdown",
      "metadata": {
        "id": "eP1oAoMN8LQO"
      },
      "source": [
        "![Evaluator](../../images/evaluator.png)"
      ]
    },
    {
      "cell_type": "markdown",
      "metadata": {
        "id": "ACdZajBy8LQP"
      },
      "source": [
        "Here is an example of a very simple custom evaluator that compares the output of a model to the expected output in the dataset:"
      ]
    },
    {
      "cell_type": "code",
      "execution_count": 1,
      "metadata": {
        "id": "mPTNCvTD8LQP"
      },
      "outputs": [],
      "source": [
        "from langsmith.schemas import Example, Run\n",
        "\n",
        "def correct_label(inputs: dict, reference_outputs: dict, outputs: dict) -> dict:\n",
        "  score = outputs.get(\"output\") == reference_outputs.get(\"label\")\n",
        "  return {\"score\": int(score), \"key\": \"correct_label\"}"
      ]
    },
    {
      "cell_type": "markdown",
      "metadata": {
        "id": "-Li-P2Vr8LQQ"
      },
      "source": [
        "### LLM-as-Judge Evaluation"
      ]
    },
    {
      "cell_type": "markdown",
      "metadata": {
        "id": "C8Ki8L6J8LQR"
      },
      "source": [
        "LLM-as-judge evaluators use LLMs to score system output. To use them, you typically encode the grading rules / criteria in the LLM prompt. They can be reference-free (e.g., check if system output contains offensive content or adheres to specific criteria). Or, they can compare task output to a reference (e.g., check if the output is factually accurate relative to the reference).\n",
        "\n",
        "Here is an example of how you might define an LLM-as-judge evaluator with structured output"
      ]
    },
    {
      "cell_type": "code",
      "execution_count": 2,
      "metadata": {
        "id": "hPtnoHv88LQR"
      },
      "outputs": [],
      "source": [
        "# You can set them inline\n",
        "import os\n",
        "os.environ[\"OPENAI_API_KEY\"] = \"\" # API key is sensitive to share"
      ]
    },
    {
      "cell_type": "code",
      "execution_count": 3,
      "metadata": {
        "colab": {
          "base_uri": "https://localhost:8080/"
        },
        "id": "GRU9LDF98LQR",
        "outputId": "436f2906-7a8f-4a9d-963a-2c8433f93408"
      },
      "outputs": [
        {
          "output_type": "execute_result",
          "data": {
            "text/plain": [
              "False"
            ]
          },
          "metadata": {},
          "execution_count": 3
        }
      ],
      "source": [
        "# Or you can use a .env file\n",
        "from dotenv import load_dotenv\n",
        "load_dotenv(dotenv_path=\"../../.env\", override=True)"
      ]
    },
    {
      "cell_type": "code",
      "execution_count": 4,
      "metadata": {
        "id": "2KDevtGf8LQS"
      },
      "outputs": [],
      "source": [
        "from openai import OpenAI\n",
        "from pydantic import BaseModel, Field\n",
        "\n",
        "client = OpenAI()\n",
        "\n",
        "class Similarity_Score(BaseModel):\n",
        "    similarity_score: int = Field(description=\"Semantic similarity score between 1 and 10, where 1 means unrelated and 10 means identical.\")\n",
        "\n",
        "# NOTE: This is our evaluator\n",
        "def compare_semantic_similarity(inputs: dict, reference_outputs: dict, outputs: dict):\n",
        "    input_question = inputs[\"question\"]\n",
        "    reference_response = reference_outputs[\"output\"]\n",
        "    run_response = outputs[\"output\"]\n",
        "\n",
        "    completion = client.beta.chat.completions.parse(\n",
        "        model=\"gpt-4o\",\n",
        "        messages=[\n",
        "            {\n",
        "                \"role\": \"system\",\n",
        "                \"content\": (\n",
        "                    \"You are a semantic similarity evaluator. Compare the meanings of two responses to a question, \"\n",
        "                    \"Reference Response and New Response, where the reference is the correct answer, and we are trying to judge if the new response is similar. \"\n",
        "                    \"Provide a score between 1 and 10, where 1 means completely unrelated, and 10 means identical in meaning.\"\n",
        "                ),\n",
        "            },\n",
        "            {\"role\": \"user\", \"content\": f\"Question: {input_question}\\n Reference Response: {reference_response}\\n Run Response: {run_response}\"}\n",
        "        ],\n",
        "        response_format=Similarity_Score,\n",
        "    )\n",
        "\n",
        "    similarity_score = completion.choices[0].message.parsed\n",
        "    return {\"score\": similarity_score.similarity_score, \"key\": \"similarity\"}\n"
      ]
    },
    {
      "cell_type": "markdown",
      "metadata": {
        "id": "adFwAO8v8LQS"
      },
      "source": [
        "Let's try this out!\n",
        "\n",
        "NOTE: We purposely made this answer wrong, so we expect to see a low score."
      ]
    },
    {
      "cell_type": "code",
      "execution_count": 5,
      "metadata": {
        "colab": {
          "base_uri": "https://localhost:8080/"
        },
        "id": "MCTZ8wkx8LQS",
        "outputId": "b057da99-7fb0-482f-b771-21c5050dec30"
      },
      "outputs": [
        {
          "output_type": "stream",
          "name": "stdout",
          "text": [
            "Semantic similarity score: {'score': 2, 'key': 'similarity'}\n"
          ]
        }
      ],
      "source": [
        "# From Dataset Example\n",
        "inputs = {\n",
        "  \"question\": \"Is LangSmith natively integrated with LangChain?\"\n",
        "}\n",
        "reference_outputs = {\n",
        "  \"output\": \"Yes, LangSmith is natively integrated with LangChain, as well as LangGraph.\"\n",
        "}\n",
        "\n",
        "\n",
        "# From Run\n",
        "outputs = {\n",
        "  \"output\": \"No, LangSmith is NOT integrated with LangChain.\"\n",
        "}\n",
        "\n",
        "similarity_score = compare_semantic_similarity(inputs, reference_outputs, outputs)\n",
        "print(f\"Semantic similarity score: {similarity_score}\")"
      ]
    },
    {
      "cell_type": "markdown",
      "metadata": {
        "id": "YIX2Bj4j8LQT"
      },
      "source": [
        "You can also define evaluators using Run and Example directly!"
      ]
    },
    {
      "cell_type": "code",
      "execution_count": 6,
      "metadata": {
        "id": "n7-dJKfY8LQT"
      },
      "outputs": [],
      "source": [
        "from langsmith.schemas import Run, Example\n",
        "\n",
        "def compare_semantic_similarity_v2(root_run: Run, example: Example):\n",
        "    input_question = example[\"inputs\"][\"question\"]\n",
        "    reference_response = example[\"outputs\"][\"output\"]\n",
        "    run_response = root_run[\"outputs\"][\"output\"]\n",
        "\n",
        "    completion = client.beta.chat.completions.parse(\n",
        "        model=\"gpt-4o\",\n",
        "        messages=[\n",
        "            {\n",
        "                \"role\": \"system\",\n",
        "                \"content\": (\n",
        "                    \"You are a semantic similarity evaluator. Compare the meanings of two responses to a question, \"\n",
        "                    \"Reference Response and New Response, where the reference is the correct answer, and we are trying to judge if the new response is similar. \"\n",
        "                    \"Provide a score between 1 and 10, where 1 means completely unrelated, and 10 means identical in meaning.\"\n",
        "                ),\n",
        "            },\n",
        "            {\"role\": \"user\", \"content\": f\"Question: {input_question}\\n Reference Response: {reference_response}\\n Run Response: {run_response}\"}\n",
        "        ],\n",
        "        response_format=Similarity_Score,\n",
        "    )\n",
        "\n",
        "    similarity_score = completion.choices[0].message.parsed\n",
        "    return {\"score\": similarity_score.similarity_score, \"key\": \"similarity\"}"
      ]
    },
    {
      "cell_type": "code",
      "execution_count": 7,
      "metadata": {
        "colab": {
          "base_uri": "https://localhost:8080/"
        },
        "id": "_XUDhU0W8LQT",
        "outputId": "1237cf8e-1f6b-4529-902f-2cbd84098a32"
      },
      "outputs": [
        {
          "output_type": "stream",
          "name": "stdout",
          "text": [
            "Semantic similarity score: {'score': 1, 'key': 'similarity'}\n"
          ]
        }
      ],
      "source": [
        "sample_run = {\n",
        "  \"name\": \"Sample Run\",\n",
        "  \"inputs\": {\n",
        "    \"question\": \"Is LangSmith natively integrated with LangChain?\"\n",
        "  },\n",
        "  \"outputs\": {\n",
        "    \"output\": \"No, LangSmith is NOT integrated with LangChain.\"\n",
        "  },\n",
        "  \"is_root\": True,\n",
        "  \"status\": \"success\",\n",
        "  \"extra\": {\n",
        "    \"metadata\": {\n",
        "      \"key\": \"value\"\n",
        "    }\n",
        "  }\n",
        "}\n",
        "\n",
        "sample_example = {\n",
        "  \"inputs\": {\n",
        "    \"question\": \"Is LangSmith natively integrated with LangChain?\"\n",
        "  },\n",
        "  \"outputs\": {\n",
        "    \"output\": \"Yes, LangSmith is natively integrated with LangChain, as well as LangGraph.\"\n",
        "  },\n",
        "  \"metadata\": {\n",
        "    \"dataset_split\": [\n",
        "      \"AI generated\",\n",
        "      \"base\"\n",
        "    ]\n",
        "  }\n",
        "}\n",
        "\n",
        "similarity_score = compare_semantic_similarity_v2(sample_run, sample_example)\n",
        "print(f\"Semantic similarity score: {similarity_score}\")"
      ]
    },
    {
      "cell_type": "code",
      "source": [
        "# Another Dataset Example\n",
        "inputs = {\n",
        "    \"question\": \"Can LangSmith evaluate LLM outputs automatically?\"\n",
        "}\n",
        "reference_outputs = {\n",
        "    \"output\": \"Yes, LangSmith can automatically evaluate LLM outputs using datasets and traces.\"\n",
        "}\n",
        "\n",
        "# From Run (simulated output from your model or another LLM)\n",
        "outputs = {\n",
        "    \"output\": \"LangSmith provides features to assess LLM responses automatically, including comparison with reference datasets.\"\n",
        "}\n",
        "\n",
        "similarity_score = compare_semantic_similarity(inputs, reference_outputs, outputs)\n",
        "print(f\"Semantic similarity score: {similarity_score}\")"
      ],
      "metadata": {
        "colab": {
          "base_uri": "https://localhost:8080/"
        },
        "id": "8xglafOG-zAj",
        "outputId": "c1126865-b164-426e-9d29-8278d73e4ee4"
      },
      "execution_count": 8,
      "outputs": [
        {
          "output_type": "stream",
          "name": "stdout",
          "text": [
            "Semantic similarity score: {'score': 9, 'key': 'similarity'}\n"
          ]
        }
      ]
    }
  ],
  "metadata": {
    "kernelspec": {
      "display_name": "ls-academy",
      "language": "python",
      "name": "python3"
    },
    "language_info": {
      "codemirror_mode": {
        "name": "ipython",
        "version": 3
      },
      "file_extension": ".py",
      "mimetype": "text/x-python",
      "name": "python",
      "nbconvert_exporter": "python",
      "pygments_lexer": "ipython3",
      "version": "3.9.6"
    },
    "colab": {
      "provenance": []
    }
  },
  "nbformat": 4,
  "nbformat_minor": 0
}