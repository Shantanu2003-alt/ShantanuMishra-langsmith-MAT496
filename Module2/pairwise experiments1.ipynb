{
 "cells": [
  {
   "metadata": {},
   "cell_type": "markdown",
   "source": "# Pairwise Experiments",
   "id": "ff364957b2360a4"
  },
  {
   "metadata": {},
   "cell_type": "markdown",
   "source": "### Setup",
   "id": "20e3fe363f34d21e"
  },
  {
   "metadata": {
    "ExecuteTime": {
     "end_time": "2025-10-04T15:56:13.327964Z",
     "start_time": "2025-10-04T15:56:13.312609Z"
    }
   },
   "cell_type": "code",
   "source": [
    "# You can set them inline\n",
    "import os\n",
    "os.environ[\"OPENAI_API_KEY\"] = \"\" # API key is sensitive to share\n",
    "os.environ[\"LANGSMITH_API_KEY\"] = \"\" # API key is sensitive to share\n",
    "os.environ[\"LANGSMITH_TRACING\"] = \"true\"\n",
    "os.environ[\"LANGSMITH_PROJECT\"] = \"langsmith-academy\""
   ],
   "id": "d6dc137881d7b311",
   "outputs": [],
   "execution_count": 36
  },
  {
   "metadata": {},
   "cell_type": "markdown",
   "source": "### Task",
   "id": "3ef2f31072b37cc"
  },
  {
   "metadata": {},
   "cell_type": "markdown",
   "source": [
    "Let's set up a new task! Here, we have a salesperson named Bob. Bob has a lot of deals, so he wants to summarize what happened in this deals based off of some meeting transcripts.\n",
    "\n",
    "Bob is iterating on a few different prompts, that will give him nice, concise transcripts for his deals.\n",
    "\n",
    "Bob has curated a dataset of his deal transcripts, let's go ahead and load that in. You can take a look at the dataset as well if you're curious! Note that this is not a golden dataset, there is no reference output here."
   ],
   "id": "d0b1df8873525705"
  },
  {
   "metadata": {
    "ExecuteTime": {
     "end_time": "2025-10-04T15:56:15.408814Z",
     "start_time": "2025-10-04T15:56:13.354198Z"
    }
   },
   "cell_type": "code",
   "source": [
    "from langsmith import Client\n",
    "\n",
    "client = Client()\n",
    "dataset = client.clone_public_dataset(\n",
    "  \"https://smith.langchain.com/public/9078d2f1-7bef-4ba7-b795-210a17682ef9/d\"\n",
    ")"
   ],
   "id": "cc0fc9ec0a917a56",
   "outputs": [],
   "execution_count": 38
  },
  {
   "metadata": {},
   "cell_type": "markdown",
   "source": "### Experiments",
   "id": "d3f95c64153ada37"
  },
  {
   "metadata": {},
   "cell_type": "markdown",
   "source": "Now, let's run some experiments on this dataset using two different prompts. Let's add an evaluator that tries to score how good our summaries are!",
   "id": "3df5db5476ad22d6"
  },
  {
   "metadata": {
    "ExecuteTime": {
     "end_time": "2025-10-04T15:56:15.785391Z",
     "start_time": "2025-10-04T15:56:15.417931Z"
    }
   },
   "cell_type": "code",
   "source": [
    "from pydantic import BaseModel, Field\n",
    "from openai import OpenAI\n",
    "\n",
    "openai_client = OpenAI()\n",
    "\n",
    "SUMMARIZATION_SYSTEM_PROMPT = \"\"\"You are a judge, aiming to score how well a summary summarizes the content of a transcript\"\"\"\n",
    "\n",
    "SUMMARIZATION_HUMAN_PROMPT = \"\"\"\n",
    "[The Meeting Transcript] {transcript}\n",
    "[The Start of Summarization] {summary} [The End of Summarization]\"\"\"\n",
    "\n",
    "class SummarizationScore(BaseModel):\n",
    "    score: int = Field(description=\"\"\"A score from 1-5 ranking how good the summarization is for the provided transcript, with 1 being a bad summary, and 5 being a great summary\"\"\")\n",
    "    \n",
    "def summary_score_evaluator(inputs: dict, outputs: dict) -> list:\n",
    "    completion = openai_client.beta.chat.completions.parse(\n",
    "        model=\"gpt-4o\",\n",
    "        messages=[\n",
    "            {   \n",
    "                \"role\": \"system\",\n",
    "                \"content\": SUMMARIZATION_SYSTEM_PROMPT,\n",
    "            },\n",
    "            {\n",
    "                \"role\": \"user\",\n",
    "                \"content\": SUMMARIZATION_HUMAN_PROMPT.format(\n",
    "                    transcript=inputs[\"transcript\"],\n",
    "                    summary=outputs.get(\"output\", \"N/A\"),\n",
    "                )}\n",
    "        ],\n",
    "        response_format=SummarizationScore,\n",
    "    )\n",
    "\n",
    "    summary_score = completion.choices[0].message.parsed.score\n",
    "    return {\"key\": \"summary_score\", \"score\": summary_score}"
   ],
   "id": "71ff8b1762e89bd8",
   "outputs": [],
   "execution_count": 39
  },
  {
   "metadata": {},
   "cell_type": "markdown",
   "source": "First, we'll run our experiment with a good version of our prompt!",
   "id": "2344ae9717737afb"
  },
  {
   "metadata": {
    "ExecuteTime": {
     "end_time": "2025-10-04T15:56:37.146816Z",
     "start_time": "2025-10-04T15:56:15.794320Z"
    }
   },
   "cell_type": "code",
   "source": [
    "# Prompt One: Good Prompt!\n",
    "def good_summarizer(inputs: dict):\n",
    "    response = openai_client.chat.completions.create(\n",
    "        model=\"gpt-4o\",\n",
    "        messages=[\n",
    "            {\n",
    "                \"role\": \"user\",\n",
    "                \"content\": f\"Concisely summarize this meeting in 3 sentences. Make sure to include all of the important events. Meeting: {inputs['transcript']}\"\n",
    "            }\n",
    "        ],\n",
    "    )\n",
    "    return response.choices[0].message.content\n",
    "\n",
    "client.evaluate(\n",
    "    good_summarizer,\n",
    "    data=dataset,\n",
    "    evaluators=[summary_score_evaluator],\n",
    "    experiment_prefix=\"Good Summarizer\"\n",
    ")"
   ],
   "id": "8c6c139adb0b5019",
   "outputs": [
    {
     "name": "stdout",
     "output_type": "stream",
     "text": [
      "View the evaluation results for experiment: 'Good Summarizer-dbc41f5a' at:\n",
      "https://smith.langchain.com/o/bf0fc575-5ea9-4d25-adae-f03518e40c65/datasets/f8d994fd-dcff-48b1-a75e-1b5c008af3aa/compare?selectedSessions=f451fc6f-579c-4853-ac3a-7f741a2bbcb6\n",
      "\n",
      "\n"
     ]
    },
    {
     "name": "stderr",
     "output_type": "stream",
     "text": [
      "5it [00:20,  4.05s/it]\n"
     ]
    },
    {
     "data": {
      "text/plain": [
       "<ExperimentResults Good Summarizer-dbc41f5a>"
      ],
      "text/html": [
       "<div>\n",
       "<style scoped>\n",
       "    .dataframe tbody tr th:only-of-type {\n",
       "        vertical-align: middle;\n",
       "    }\n",
       "\n",
       "    .dataframe tbody tr th {\n",
       "        vertical-align: top;\n",
       "    }\n",
       "\n",
       "    .dataframe thead th {\n",
       "        text-align: right;\n",
       "    }\n",
       "</style>\n",
       "<table border=\"1\" class=\"dataframe\">\n",
       "  <thead>\n",
       "    <tr style=\"text-align: right;\">\n",
       "      <th></th>\n",
       "      <th>inputs.transcript</th>\n",
       "      <th>outputs.output</th>\n",
       "      <th>error</th>\n",
       "      <th>feedback.summary_score</th>\n",
       "      <th>execution_time</th>\n",
       "      <th>example_id</th>\n",
       "      <th>id</th>\n",
       "    </tr>\n",
       "  </thead>\n",
       "  <tbody>\n",
       "    <tr>\n",
       "      <th>0</th>\n",
       "      <td>Bob and Mr. Carter (CLOSED DEAL): Bob: Welcome...</td>\n",
       "      <td>In the meeting, Bob helped Mr. Carter trade in...</td>\n",
       "      <td>None</td>\n",
       "      <td>5</td>\n",
       "      <td>2.502986</td>\n",
       "      <td>5953aca8-761c-4f26-b369-cf03fa7326dd</td>\n",
       "      <td>9ac750c2-65cb-4278-b98c-606fe204c012</td>\n",
       "    </tr>\n",
       "    <tr>\n",
       "      <th>1</th>\n",
       "      <td>Bob and Mr. Patel (CLOSED DEAL): Bob: Hello, M...</td>\n",
       "      <td>In the meeting, Bob and Mr. Patel discussed Mr...</td>\n",
       "      <td>None</td>\n",
       "      <td>5</td>\n",
       "      <td>2.308744</td>\n",
       "      <td>785602c6-5cde-4ed1-b4bb-4cefaf65cd8c</td>\n",
       "      <td>6140583d-6ba7-4c06-b8c6-0cb405077140</td>\n",
       "    </tr>\n",
       "    <tr>\n",
       "      <th>2</th>\n",
       "      <td>Bob and Ms. Nguyen (NO DEAL): Bob: Good aftern...</td>\n",
       "      <td>Bob and Ms. Nguyen discussed various vehicle o...</td>\n",
       "      <td>None</td>\n",
       "      <td>5</td>\n",
       "      <td>1.623067</td>\n",
       "      <td>ad184b7d-a374-4308-b2e8-716399fc4f9d</td>\n",
       "      <td>0fbcfa29-12dd-43d4-ad65-33dfa07edd4c</td>\n",
       "    </tr>\n",
       "    <tr>\n",
       "      <th>3</th>\n",
       "      <td>Bob and Ms. Thompson (NO DEAL): Bob: Hi, Ms. T...</td>\n",
       "      <td>Bob welcomed Ms. Thompson to Ford Motors, wher...</td>\n",
       "      <td>None</td>\n",
       "      <td>4</td>\n",
       "      <td>5.568518</td>\n",
       "      <td>d9e766ec-c7c6-4662-ad9d-6bb6f242d119</td>\n",
       "      <td>ecbd8f43-56da-48b3-a3ec-e282b61d6431</td>\n",
       "    </tr>\n",
       "    <tr>\n",
       "      <th>4</th>\n",
       "      <td>Bob and Mr. Johnson (CLOSED DEAL): Bob: Good m...</td>\n",
       "      <td>In the meeting, Bob introduced Mr. Johnson to ...</td>\n",
       "      <td>None</td>\n",
       "      <td>5</td>\n",
       "      <td>3.350533</td>\n",
       "      <td>e04c630e-bca6-472a-8edd-b2e21e98cab9</td>\n",
       "      <td>9cb33f9d-40f8-4a10-8b44-700849ffe0be</td>\n",
       "    </tr>\n",
       "  </tbody>\n",
       "</table>\n",
       "</div>"
      ]
     },
     "execution_count": 40,
     "metadata": {},
     "output_type": "execute_result"
    }
   ],
   "execution_count": 40
  },
  {
   "metadata": {},
   "cell_type": "markdown",
   "source": "Now, we'll run an experiment with a worse version of our prompt, to highlight the difference.",
   "id": "b793bde59c3498d5"
  },
  {
   "metadata": {
    "ExecuteTime": {
     "end_time": "2025-10-04T15:56:49.771985Z",
     "start_time": "2025-10-04T15:56:37.188804Z"
    }
   },
   "cell_type": "code",
   "source": [
    "# Prompt Two: Worse Prompt!\n",
    "def bad_summarizer(inputs: dict):\n",
    "    response = openai_client.chat.completions.create(\n",
    "        model=\"gpt-4o\",\n",
    "        messages=[\n",
    "            {\n",
    "                \"role\": \"user\",\n",
    "                \"content\": f\"Summarize this in one sentence. {inputs['transcript']}\"\n",
    "            }\n",
    "        ],\n",
    "    )\n",
    "    return response.choices[0].message.content\n",
    "\n",
    "client.evaluate(\n",
    "    bad_summarizer,\n",
    "    data=dataset,\n",
    "    evaluators=[summary_score_evaluator],\n",
    "    experiment_prefix=\"Bad Summarizer\"\n",
    ")"
   ],
   "id": "9aa4506c1e35826c",
   "outputs": [
    {
     "name": "stdout",
     "output_type": "stream",
     "text": [
      "View the evaluation results for experiment: 'Bad Summarizer-e01acc11' at:\n",
      "https://smith.langchain.com/o/bf0fc575-5ea9-4d25-adae-f03518e40c65/datasets/f8d994fd-dcff-48b1-a75e-1b5c008af3aa/compare?selectedSessions=c1692da9-c825-4c21-baa3-11a4021f0198\n",
      "\n",
      "\n"
     ]
    },
    {
     "name": "stderr",
     "output_type": "stream",
     "text": [
      "5it [00:11,  2.21s/it]\n"
     ]
    },
    {
     "data": {
      "text/plain": [
       "<ExperimentResults Bad Summarizer-e01acc11>"
      ],
      "text/html": [
       "<div>\n",
       "<style scoped>\n",
       "    .dataframe tbody tr th:only-of-type {\n",
       "        vertical-align: middle;\n",
       "    }\n",
       "\n",
       "    .dataframe tbody tr th {\n",
       "        vertical-align: top;\n",
       "    }\n",
       "\n",
       "    .dataframe thead th {\n",
       "        text-align: right;\n",
       "    }\n",
       "</style>\n",
       "<table border=\"1\" class=\"dataframe\">\n",
       "  <thead>\n",
       "    <tr style=\"text-align: right;\">\n",
       "      <th></th>\n",
       "      <th>inputs.transcript</th>\n",
       "      <th>outputs.output</th>\n",
       "      <th>error</th>\n",
       "      <th>feedback.summary_score</th>\n",
       "      <th>execution_time</th>\n",
       "      <th>example_id</th>\n",
       "      <th>id</th>\n",
       "    </tr>\n",
       "  </thead>\n",
       "  <tbody>\n",
       "    <tr>\n",
       "      <th>0</th>\n",
       "      <td>Bob and Mr. Carter (CLOSED DEAL): Bob: Welcome...</td>\n",
       "      <td>Bob successfully facilitated the trade-in of M...</td>\n",
       "      <td>None</td>\n",
       "      <td>5</td>\n",
       "      <td>1.123416</td>\n",
       "      <td>5953aca8-761c-4f26-b369-cf03fa7326dd</td>\n",
       "      <td>041fbc83-5c38-4e7b-930b-a2e7eca0b342</td>\n",
       "    </tr>\n",
       "    <tr>\n",
       "      <th>1</th>\n",
       "      <td>Bob and Mr. Patel (CLOSED DEAL): Bob: Hello, M...</td>\n",
       "      <td>Bob assisted Mr. Patel in selecting and purcha...</td>\n",
       "      <td>None</td>\n",
       "      <td>5</td>\n",
       "      <td>1.022288</td>\n",
       "      <td>785602c6-5cde-4ed1-b4bb-4cefaf65cd8c</td>\n",
       "      <td>516f41a5-24eb-43d1-9736-952b5f5a1063</td>\n",
       "    </tr>\n",
       "    <tr>\n",
       "      <th>2</th>\n",
       "      <td>Bob and Ms. Nguyen (NO DEAL): Bob: Good aftern...</td>\n",
       "      <td>Bob and Ms. Nguyen discussed various car optio...</td>\n",
       "      <td>None</td>\n",
       "      <td>5</td>\n",
       "      <td>1.929725</td>\n",
       "      <td>ad184b7d-a374-4308-b2e8-716399fc4f9d</td>\n",
       "      <td>befc3df6-4cf5-48b8-8e95-4c2102e2e245</td>\n",
       "    </tr>\n",
       "    <tr>\n",
       "      <th>3</th>\n",
       "      <td>Bob and Ms. Thompson (NO DEAL): Bob: Hi, Ms. T...</td>\n",
       "      <td>Ms. Thompson visits Ford Motors to browse and ...</td>\n",
       "      <td>None</td>\n",
       "      <td>5</td>\n",
       "      <td>1.457343</td>\n",
       "      <td>d9e766ec-c7c6-4662-ad9d-6bb6f242d119</td>\n",
       "      <td>0a0878c5-5687-4ac6-becd-d60cbcbb2648</td>\n",
       "    </tr>\n",
       "    <tr>\n",
       "      <th>4</th>\n",
       "      <td>Bob and Mr. Johnson (CLOSED DEAL): Bob: Good m...</td>\n",
       "      <td>Bob successfully closed a deal with Mr. Johnso...</td>\n",
       "      <td>None</td>\n",
       "      <td>5</td>\n",
       "      <td>1.427298</td>\n",
       "      <td>e04c630e-bca6-472a-8edd-b2e21e98cab9</td>\n",
       "      <td>4333ada8-6ebf-449c-bec7-9ad98e6cbe12</td>\n",
       "    </tr>\n",
       "  </tbody>\n",
       "</table>\n",
       "</div>"
      ]
     },
     "execution_count": 41,
     "metadata": {},
     "output_type": "execute_result"
    }
   ],
   "execution_count": 41
  },
  {
   "metadata": {},
   "cell_type": "markdown",
   "source": "### Pairwise Experiment",
   "id": "a5d1367a5e7f703"
  },
  {
   "metadata": {},
   "cell_type": "markdown",
   "source": [
    "Let's define a function that will compare our two experiments. These are the fields that pairwise evaluator functions get access to:\n",
    "- `inputs: dict`: A dictionary of the inputs corresponding to a single example in a dataset.\n",
    "- `outputs: list[dict]`: A list of the dict outputs produced by each experiment on the given inputs.\n",
    "- `reference_outputs: dict`: A dictionary of the reference outputs associated with the example, if available.\n",
    "- `runs: list[Run]`: A list of the full Run objects generated by the experiments on the given example. Use this if you need access to intermediate steps or metadata about each run.\n",
    "- `example: Example`: The full dataset Example, including the example inputs, outputs (if available), and metdata (if available)."
   ],
   "id": "4bd55f93bdbb0bbe"
  },
  {
   "metadata": {},
   "cell_type": "markdown",
   "source": [
    "First, let's give our LLM-as-Judge some instructions. In our case, we're just going to directly use LLM-as-judge to grade which of the summarizers is the most helpful.\n",
    "\n",
    "It might be hard to grade our summarizers without a ground truth reference, but here, comparing different prompts head to head will give us a sense of which is better!"
   ],
   "id": "973acbf1ade74824"
  },
  {
   "metadata": {
    "ExecuteTime": {
     "end_time": "2025-10-04T15:56:49.827928Z",
     "start_time": "2025-10-04T15:56:49.807851Z"
    }
   },
   "cell_type": "code",
   "source": [
    "JUDGE_SYSTEM_PROMPT = \"\"\"\n",
    "Please act as an impartial judge and evaluate the quality of the summarizations provided by two AI summarizers to the meeting transcript below.\n",
    "Your evaluation should consider factors such as the helpfulness, relevance, accuracy, depth, creativity, and level of detail of their summarizations. \n",
    "Begin your evaluation by comparing the two summarizations and provide a short explanation. \n",
    "Avoid any position biases and ensure that the order in which the responses were presented does not influence your decision. \n",
    "Do not favor certain names of the assistants. \n",
    "Be as objective as possible. \"\"\"\n",
    "\n",
    "JUDGE_HUMAN_PROMPT = \"\"\"\n",
    "[The Meeting Transcript] {transcript}\n",
    "\n",
    "[The Start of Assistant A's Summarization] {answer_a} [The End of Assistant A's Summarization]\n",
    "\n",
    "[The Start of Assistant B's Summarization] {answer_b} [The End of Assistant B's Summarization]\"\"\""
   ],
   "id": "d23104d630947909",
   "outputs": [],
   "execution_count": 42
  },
  {
   "metadata": {},
   "cell_type": "markdown",
   "source": "Our function will take in an `inputs` dictionary, and a list of `outputs` dictionaries for the different experiments that we want to compare.",
   "id": "1e91140ce8560e3f"
  },
  {
   "metadata": {
    "ExecuteTime": {
     "end_time": "2025-10-04T15:56:49.860239Z",
     "start_time": "2025-10-04T15:56:49.846917Z"
    }
   },
   "cell_type": "code",
   "source": [
    "from pydantic import BaseModel, Field\n",
    "\n",
    "class Preference(BaseModel):\n",
    "    preference: int = Field(description=\"\"\"1 if Assistant A answer is better based upon the factors above.\n",
    "2 if Assistant B answer is better based upon the factors above.\n",
    "Output 0 if it is a tie.\"\"\")\n",
    "    \n",
    "def ranked_preference(inputs: dict, outputs: list[dict]) -> list:\n",
    "    completion = openai_client.beta.chat.completions.parse(\n",
    "        model=\"gpt-4o\",\n",
    "        messages=[\n",
    "            {   \n",
    "                \"role\": \"system\",\n",
    "                \"content\": JUDGE_SYSTEM_PROMPT,\n",
    "            },\n",
    "            {\n",
    "                \"role\": \"user\",\n",
    "                \"content\": JUDGE_HUMAN_PROMPT.format(\n",
    "                    transcript=inputs[\"transcript\"],\n",
    "                    answer_a=outputs[0].get(\"output\", \"N/A\"),\n",
    "                    answer_b=outputs[1].get(\"output\", \"N/A\")\n",
    "                )}\n",
    "        ],\n",
    "        response_format=Preference,\n",
    "    )\n",
    "\n",
    "    preference_score = completion.choices[0].message.parsed.preference\n",
    "\n",
    "    if preference_score == 1:\n",
    "        scores = [1, 0]\n",
    "    elif preference_score == 2:\n",
    "        scores = [0, 1]\n",
    "    else:\n",
    "        scores = [0, 0]\n",
    "    return scores"
   ],
   "id": "d83552a3f5d1d659",
   "outputs": [],
   "execution_count": 43
  },
  {
   "metadata": {},
   "cell_type": "markdown",
   "source": "Now let's run our pairwise experiment with `evaluate()`",
   "id": "dbc3ef968970ec2c"
  },
  {
   "metadata": {
    "ExecuteTime": {
     "end_time": "2025-10-04T15:58:23.696506Z",
     "start_time": "2025-10-04T15:58:09.362436Z"
    }
   },
   "cell_type": "code",
   "source": [
    "from langsmith import evaluate\n",
    "\n",
    "evaluate(\n",
    "    (\"Good Summarizer-dbc41f5a\", \"Bad Summarizer-e01acc11\"),\n",
    "    evaluators=[ranked_preference]\n",
    ")"
   ],
   "id": "a8e608a70f29e9bf",
   "outputs": [
    {
     "name": "stdout",
     "output_type": "stream",
     "text": [
      "View the pairwise evaluation results at:\n",
      "https://smith.langchain.com/o/bf0fc575-5ea9-4d25-adae-f03518e40c65/datasets/f8d994fd-dcff-48b1-a75e-1b5c008af3aa/compare?selectedSessions=f451fc6f-579c-4853-ac3a-7f741a2bbcb6%2Cc1692da9-c825-4c21-baa3-11a4021f0198&comparativeExperiment=12e6acba-de47-46ef-af07-075aa02c9509\n",
      "\n",
      "\n"
     ]
    },
    {
     "name": "stderr",
     "output_type": "stream",
     "text": [
      "100%|██████████| 5/5 [00:04<00:00,  1.03it/s]\n"
     ]
    },
    {
     "data": {
      "text/plain": [
       "<langsmith.evaluation._runner.ComparativeExperimentResults at 0x22082ea8c00>"
      ]
     },
     "execution_count": 45,
     "metadata": {},
     "output_type": "execute_result"
    }
   ],
   "execution_count": 45
  },
  {
   "metadata": {
    "ExecuteTime": {
     "end_time": "2025-10-04T15:57:06.461827Z",
     "start_time": "2025-10-04T15:57:06.457216Z"
    }
   },
   "cell_type": "code",
   "source": "",
   "id": "28628560985baf4c",
   "outputs": [],
   "execution_count": null
  }
 ],
 "metadata": {},
 "nbformat": 4,
 "nbformat_minor": 5
}
