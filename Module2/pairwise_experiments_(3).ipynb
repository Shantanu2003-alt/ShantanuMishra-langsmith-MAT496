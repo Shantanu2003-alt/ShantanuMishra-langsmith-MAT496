{
  "cells": [
    {
      "cell_type": "markdown",
      "metadata": {
        "id": "JSCotoZm56s3"
      },
      "source": [
        "# Pairwise Experiments"
      ]
    },
    {
      "cell_type": "markdown",
      "metadata": {
        "id": "WspETFVg56s5"
      },
      "source": [
        "### Setup"
      ]
    },
    {
      "cell_type": "code",
      "execution_count": 1,
      "metadata": {
        "id": "T3aIDfJo56s5"
      },
      "outputs": [],
      "source": [
        "# You can set them inline\n",
        "import os\n",
        "os.environ[\"OPENAI_API_KEY\"] = \"\" # API key is sensitive to share\n",
        "os.environ[\"LANGSMITH_API_KEY\"] = \"\" # API key is sensitive to share\n",
        "os.environ[\"LANGSMITH_TRACING\"] = \"true\"\n",
        "os.environ[\"LANGSMITH_PROJECT\"] = \"langsmith-academy\""
      ]
    },
    {
      "cell_type": "code",
      "execution_count": 2,
      "metadata": {
        "colab": {
          "base_uri": "https://localhost:8080/"
        },
        "id": "ulzuiKit56s6",
        "outputId": "8e4c6de9-7e39-45d8-f4f5-1a7f03419fa5"
      },
      "outputs": [
        {
          "output_type": "execute_result",
          "data": {
            "text/plain": [
              "False"
            ]
          },
          "metadata": {},
          "execution_count": 2
        }
      ],
      "source": [
        "# Or you can use a .env file\n",
        "from dotenv import load_dotenv\n",
        "load_dotenv(dotenv_path=\"../../.env\", override=True)"
      ]
    },
    {
      "cell_type": "markdown",
      "metadata": {
        "id": "tRbp1UF356s6"
      },
      "source": [
        "### Task"
      ]
    },
    {
      "cell_type": "markdown",
      "metadata": {
        "id": "WolqN34856s6"
      },
      "source": [
        "Let's set up a new task! Here, we have a salesperson named Bob. Bob has a lot of deals, so he wants to summarize what happened in this deals based off of some meeting transcripts.\n",
        "\n",
        "Bob is iterating on a few different prompts, that will give him nice, concise transcripts for his deals.\n",
        "\n",
        "Bob has curated a dataset of his deal transcripts, let's go ahead and load that in. You can take a look at the dataset as well if you're curious! Note that this is not a golden dataset, there is no reference output here."
      ]
    },
    {
      "cell_type": "code",
      "execution_count": 3,
      "metadata": {
        "id": "9Pcx_NVD56s6"
      },
      "outputs": [],
      "source": [
        "from langsmith import Client\n",
        "\n",
        "client = Client()\n",
        "dataset = client.clone_public_dataset(\n",
        "  \"https://smith.langchain.com/public/9078d2f1-7bef-4ba7-b795-210a17682ef9/d\"\n",
        ")"
      ]
    },
    {
      "cell_type": "markdown",
      "metadata": {
        "id": "iOOgHARg56s6"
      },
      "source": [
        "### Experiments"
      ]
    },
    {
      "cell_type": "markdown",
      "metadata": {
        "id": "Va2Pd4BO56s6"
      },
      "source": [
        "Now, let's run some experiments on this dataset using two different prompts. Let's add an evaluator that tries to score how good our summaries are!"
      ]
    },
    {
      "cell_type": "code",
      "execution_count": 4,
      "metadata": {
        "id": "ZQnnYDCn56s7"
      },
      "outputs": [],
      "source": [
        "from pydantic import BaseModel, Field\n",
        "from openai import OpenAI\n",
        "\n",
        "openai_client = OpenAI()\n",
        "\n",
        "SUMMARIZATION_SYSTEM_PROMPT = \"\"\"You are a judge, aiming to score how well a summary summarizes the content of a transcript\"\"\"\n",
        "\n",
        "SUMMARIZATION_HUMAN_PROMPT = \"\"\"\n",
        "[The Meeting Transcript] {transcript}\n",
        "[The Start of Summarization] {summary} [The End of Summarization]\"\"\"\n",
        "\n",
        "class SummarizationScore(BaseModel):\n",
        "    score: int = Field(description=\"\"\"A score from 1-5 ranking how good the summarization is for the provided transcript, with 1 being a bad summary, and 5 being a great summary\"\"\")\n",
        "\n",
        "def summary_score_evaluator(inputs: dict, outputs: dict) -> list:\n",
        "    completion = openai_client.beta.chat.completions.parse(\n",
        "        model=\"gpt-4o\",\n",
        "        messages=[\n",
        "            {\n",
        "                \"role\": \"system\",\n",
        "                \"content\": SUMMARIZATION_SYSTEM_PROMPT,\n",
        "            },\n",
        "            {\n",
        "                \"role\": \"user\",\n",
        "                \"content\": SUMMARIZATION_HUMAN_PROMPT.format(\n",
        "                    transcript=inputs[\"transcript\"],\n",
        "                    summary=outputs.get(\"output\", \"N/A\"),\n",
        "                )}\n",
        "        ],\n",
        "        response_format=SummarizationScore,\n",
        "    )\n",
        "\n",
        "    summary_score = completion.choices[0].message.parsed.score\n",
        "    return {\"key\": \"summary_score\", \"score\": summary_score}"
      ]
    },
    {
      "cell_type": "markdown",
      "metadata": {
        "id": "r8MHUZxK56s7"
      },
      "source": [
        "First, we'll run our experiment with a good version of our prompt!"
      ]
    },
    {
      "cell_type": "code",
      "execution_count": 5,
      "metadata": {
        "colab": {
          "base_uri": "https://localhost:8080/",
          "height": 383,
          "referenced_widgets": [
            "80d8fa93be4148a7bf2400352c9760cb",
            "1458bf7fd3aa43e59014e34c4df594d6",
            "86ac7c60c09e4aaab8fc23febbfcc193",
            "787a117d29614bbcb73f24f4eecbab4d",
            "aff00d1bb4014629bcb8d245a8556e64",
            "cd9eedda3edc40e09a979fe3a767921f",
            "79a1a145f075430c8153b3bd49355021",
            "f7527d92a823495686af911f9ace18b6",
            "2355b36396814e788ff8b6af36bdb9ff",
            "0ffe34630c13406785c8bd8ceeef5b4b",
            "e6ac2fe6bbd348c78b17bdf478fcce20"
          ]
        },
        "id": "N4E2FFc856s7",
        "outputId": "a1f3224b-9343-4ee5-923e-43f24d20ec31"
      },
      "outputs": [
        {
          "output_type": "stream",
          "name": "stdout",
          "text": [
            "View the evaluation results for experiment: 'Good Summarizer-a9ba2be6' at:\n",
            "https://smith.langchain.com/o/c1b67c13-bec2-4f98-8bbf-502c78449186/datasets/5925bc48-4e25-427a-9231-dfdbd04387ec/compare?selectedSessions=225eec7b-46c0-4a07-b97b-f1fb778b693b\n",
            "\n",
            "\n"
          ]
        },
        {
          "output_type": "display_data",
          "data": {
            "text/plain": [
              "0it [00:00, ?it/s]"
            ],
            "application/vnd.jupyter.widget-view+json": {
              "version_major": 2,
              "version_minor": 0,
              "model_id": "80d8fa93be4148a7bf2400352c9760cb"
            }
          },
          "metadata": {}
        },
        {
          "output_type": "execute_result",
          "data": {
            "text/plain": [
              "<ExperimentResults Good Summarizer-a9ba2be6>"
            ],
            "text/html": [
              "<div>\n",
              "<style scoped>\n",
              "    .dataframe tbody tr th:only-of-type {\n",
              "        vertical-align: middle;\n",
              "    }\n",
              "\n",
              "    .dataframe tbody tr th {\n",
              "        vertical-align: top;\n",
              "    }\n",
              "\n",
              "    .dataframe thead th {\n",
              "        text-align: right;\n",
              "    }\n",
              "</style>\n",
              "<table border=\"1\" class=\"dataframe\">\n",
              "  <thead>\n",
              "    <tr style=\"text-align: right;\">\n",
              "      <th></th>\n",
              "      <th>inputs.transcript</th>\n",
              "      <th>outputs.output</th>\n",
              "      <th>error</th>\n",
              "      <th>feedback.summary_score</th>\n",
              "      <th>execution_time</th>\n",
              "      <th>example_id</th>\n",
              "      <th>id</th>\n",
              "    </tr>\n",
              "  </thead>\n",
              "  <tbody>\n",
              "    <tr>\n",
              "      <th>0</th>\n",
              "      <td>Bob and Mr. Patel (CLOSED DEAL): Bob: Hello, M...</td>\n",
              "      <td>Bob introduced Mr. Patel to the Ford Fusion Hy...</td>\n",
              "      <td>None</td>\n",
              "      <td>5</td>\n",
              "      <td>2.918464</td>\n",
              "      <td>4f803b9f-c605-4e41-99fc-3cb062d00587</td>\n",
              "      <td>149d5b73-feb4-45f8-a865-0bbf5d32a78a</td>\n",
              "    </tr>\n",
              "    <tr>\n",
              "      <th>1</th>\n",
              "      <td>Bob and Ms. Thompson (NO DEAL): Bob: Hi, Ms. T...</td>\n",
              "      <td>In the meeting, Bob welcomed Ms. Thompson to F...</td>\n",
              "      <td>None</td>\n",
              "      <td>5</td>\n",
              "      <td>2.476310</td>\n",
              "      <td>55dc1cad-8516-4d80-b16c-634d8cacf72b</td>\n",
              "      <td>fc015d18-4085-427f-932b-2d969bf184cd</td>\n",
              "    </tr>\n",
              "    <tr>\n",
              "      <th>2</th>\n",
              "      <td>Bob and Mr. Johnson (CLOSED DEAL): Bob: Good m...</td>\n",
              "      <td>Bob met with Mr. Johnson at Ford Motors to dis...</td>\n",
              "      <td>None</td>\n",
              "      <td>5</td>\n",
              "      <td>2.345595</td>\n",
              "      <td>6211725a-f93b-4d98-8b09-a6c89e421078</td>\n",
              "      <td>7d9ff491-f4ed-4386-95a7-3f620f997a4a</td>\n",
              "    </tr>\n",
              "    <tr>\n",
              "      <th>3</th>\n",
              "      <td>Bob and Mr. Carter (CLOSED DEAL): Bob: Welcome...</td>\n",
              "      <td>Bob welcomed Mr. Carter, who expressed interes...</td>\n",
              "      <td>None</td>\n",
              "      <td>5</td>\n",
              "      <td>1.480838</td>\n",
              "      <td>6efb2329-d624-4468-beba-e41134069113</td>\n",
              "      <td>607c4409-4210-40b4-ae42-2672b5222ef4</td>\n",
              "    </tr>\n",
              "    <tr>\n",
              "      <th>4</th>\n",
              "      <td>Bob and Ms. Nguyen (NO DEAL): Bob: Good aftern...</td>\n",
              "      <td>In the meeting, Ms. Nguyen expressed interest ...</td>\n",
              "      <td>None</td>\n",
              "      <td>5</td>\n",
              "      <td>2.037541</td>\n",
              "      <td>8d1c7d5f-ff17-4fc9-acf6-94bcdfce9fee</td>\n",
              "      <td>a3700f35-2f76-4339-9ef0-70fc0b45ba67</td>\n",
              "    </tr>\n",
              "  </tbody>\n",
              "</table>\n",
              "</div>"
            ]
          },
          "metadata": {},
          "execution_count": 5
        }
      ],
      "source": [
        "# Prompt One: Good Prompt!\n",
        "def good_summarizer(inputs: dict):\n",
        "    response = openai_client.chat.completions.create(\n",
        "        model=\"gpt-4o\",\n",
        "        messages=[\n",
        "            {\n",
        "                \"role\": \"user\",\n",
        "                \"content\": f\"Concisely summarize this meeting in 3 sentences. Make sure to include all of the important events. Meeting: {inputs['transcript']}\"\n",
        "            }\n",
        "        ],\n",
        "    )\n",
        "    return response.choices[0].message.content\n",
        "\n",
        "client.evaluate(\n",
        "    good_summarizer,\n",
        "    data=dataset,\n",
        "    evaluators=[summary_score_evaluator],\n",
        "    experiment_prefix=\"Good Summarizer\"\n",
        ")"
      ]
    },
    {
      "cell_type": "markdown",
      "metadata": {
        "id": "4MRuDE4156s7"
      },
      "source": [
        "Now, we'll run an experiment with a worse version of our prompt, to highlight the difference."
      ]
    },
    {
      "cell_type": "code",
      "execution_count": 6,
      "metadata": {
        "colab": {
          "base_uri": "https://localhost:8080/",
          "height": 400,
          "referenced_widgets": [
            "2040fa7277184bbfba182a0663054367",
            "5f474653194a4e1a9fae9c42e25e9cca",
            "457c26d8edba4b9baf6d9786ece684da",
            "443a24d7dfa04b6b8d3fb02e09429241",
            "e4158a3864aa487bb22806aa28f155f5",
            "f1058969bd8f4f9fab3c0792f09090f3",
            "98c969198adb4a3f951fc25a5ef30d9b",
            "7d360a1497de482cae89c7d100880833",
            "ffdca9d4bb414d0aa1341c20b40ca850",
            "ec97f8f0284b478b95500b85b4fbde66",
            "9d917be518574e4fb8794514cb681bca"
          ]
        },
        "id": "-qS4ruJo56s8",
        "outputId": "0b02811a-9406-4750-a879-ef7fbc9c1e94"
      },
      "outputs": [
        {
          "output_type": "stream",
          "name": "stdout",
          "text": [
            "View the evaluation results for experiment: 'Bad Summarizer-ca5aec3a' at:\n",
            "https://smith.langchain.com/o/c1b67c13-bec2-4f98-8bbf-502c78449186/datasets/5925bc48-4e25-427a-9231-dfdbd04387ec/compare?selectedSessions=b367e9ce-945e-4581-9f76-ad74d0471d42\n",
            "\n",
            "\n"
          ]
        },
        {
          "output_type": "display_data",
          "data": {
            "text/plain": [
              "0it [00:00, ?it/s]"
            ],
            "application/vnd.jupyter.widget-view+json": {
              "version_major": 2,
              "version_minor": 0,
              "model_id": "2040fa7277184bbfba182a0663054367"
            }
          },
          "metadata": {}
        },
        {
          "output_type": "execute_result",
          "data": {
            "text/plain": [
              "<ExperimentResults Bad Summarizer-ca5aec3a>"
            ],
            "text/html": [
              "<div>\n",
              "<style scoped>\n",
              "    .dataframe tbody tr th:only-of-type {\n",
              "        vertical-align: middle;\n",
              "    }\n",
              "\n",
              "    .dataframe tbody tr th {\n",
              "        vertical-align: top;\n",
              "    }\n",
              "\n",
              "    .dataframe thead th {\n",
              "        text-align: right;\n",
              "    }\n",
              "</style>\n",
              "<table border=\"1\" class=\"dataframe\">\n",
              "  <thead>\n",
              "    <tr style=\"text-align: right;\">\n",
              "      <th></th>\n",
              "      <th>inputs.transcript</th>\n",
              "      <th>outputs.output</th>\n",
              "      <th>error</th>\n",
              "      <th>feedback.summary_score</th>\n",
              "      <th>execution_time</th>\n",
              "      <th>example_id</th>\n",
              "      <th>id</th>\n",
              "    </tr>\n",
              "  </thead>\n",
              "  <tbody>\n",
              "    <tr>\n",
              "      <th>0</th>\n",
              "      <td>Bob and Mr. Patel (CLOSED DEAL): Bob: Hello, M...</td>\n",
              "      <td>Bob successfully closed a deal with Mr. Patel,...</td>\n",
              "      <td>None</td>\n",
              "      <td>5</td>\n",
              "      <td>1.135246</td>\n",
              "      <td>4f803b9f-c605-4e41-99fc-3cb062d00587</td>\n",
              "      <td>a46bf1c2-efcd-4ca6-b685-5101d7ecbfe0</td>\n",
              "    </tr>\n",
              "    <tr>\n",
              "      <th>1</th>\n",
              "      <td>Bob and Ms. Thompson (NO DEAL): Bob: Hi, Ms. T...</td>\n",
              "      <td>Bob and Ms. Thompson discussed her potential i...</td>\n",
              "      <td>None</td>\n",
              "      <td>4</td>\n",
              "      <td>1.141563</td>\n",
              "      <td>55dc1cad-8516-4d80-b16c-634d8cacf72b</td>\n",
              "      <td>ff3aac16-ae64-4bee-ba20-33955784ad94</td>\n",
              "    </tr>\n",
              "    <tr>\n",
              "      <th>2</th>\n",
              "      <td>Bob and Mr. Johnson (CLOSED DEAL): Bob: Good m...</td>\n",
              "      <td>Bob successfully sold a Ford Explorer to Mr. J...</td>\n",
              "      <td>None</td>\n",
              "      <td>5</td>\n",
              "      <td>1.080503</td>\n",
              "      <td>6211725a-f93b-4d98-8b09-a6c89e421078</td>\n",
              "      <td>07dce3db-bea8-4e49-8259-52d37b14bdea</td>\n",
              "    </tr>\n",
              "    <tr>\n",
              "      <th>3</th>\n",
              "      <td>Bob and Mr. Carter (CLOSED DEAL): Bob: Welcome...</td>\n",
              "      <td>Bob successfully closed a deal with Mr. Carter...</td>\n",
              "      <td>None</td>\n",
              "      <td>5</td>\n",
              "      <td>1.297309</td>\n",
              "      <td>6efb2329-d624-4468-beba-e41134069113</td>\n",
              "      <td>3c59e8a9-395b-4c90-83b8-3b1bf3d3b3a7</td>\n",
              "    </tr>\n",
              "    <tr>\n",
              "      <th>4</th>\n",
              "      <td>Bob and Ms. Nguyen (NO DEAL): Bob: Good aftern...</td>\n",
              "      <td>Bob and Ms. Nguyen discussed various vehicle o...</td>\n",
              "      <td>None</td>\n",
              "      <td>5</td>\n",
              "      <td>1.404429</td>\n",
              "      <td>8d1c7d5f-ff17-4fc9-acf6-94bcdfce9fee</td>\n",
              "      <td>2145ccf1-5ac1-430f-ac19-5d9c6b6871ac</td>\n",
              "    </tr>\n",
              "  </tbody>\n",
              "</table>\n",
              "</div>"
            ]
          },
          "metadata": {},
          "execution_count": 6
        }
      ],
      "source": [
        "# Prompt Two: Worse Prompt!\n",
        "def bad_summarizer(inputs: dict):\n",
        "    response = openai_client.chat.completions.create(\n",
        "        model=\"gpt-4o\",\n",
        "        messages=[\n",
        "            {\n",
        "                \"role\": \"user\",\n",
        "                \"content\": f\"Summarize this in one sentence. {inputs['transcript']}\"\n",
        "            }\n",
        "        ],\n",
        "    )\n",
        "    return response.choices[0].message.content\n",
        "\n",
        "client.evaluate(\n",
        "    bad_summarizer,\n",
        "    data=dataset,\n",
        "    evaluators=[summary_score_evaluator],\n",
        "    experiment_prefix=\"Bad Summarizer\"\n",
        ")"
      ]
    },
    {
      "cell_type": "markdown",
      "metadata": {
        "id": "UAWBGJ9O56s8"
      },
      "source": [
        "### Pairwise Experiment"
      ]
    },
    {
      "cell_type": "markdown",
      "metadata": {
        "id": "cqbtKphz56s8"
      },
      "source": [
        "Let's define a function that will compare our two experiments. These are the fields that pairwise evaluator functions get access to:\n",
        "- `inputs: dict`: A dictionary of the inputs corresponding to a single example in a dataset.\n",
        "- `outputs: list[dict]`: A list of the dict outputs produced by each experiment on the given inputs.\n",
        "- `reference_outputs: dict`: A dictionary of the reference outputs associated with the example, if available.\n",
        "- `runs: list[Run]`: A list of the full Run objects generated by the experiments on the given example. Use this if you need access to intermediate steps or metadata about each run.\n",
        "- `example: Example`: The full dataset Example, including the example inputs, outputs (if available), and metdata (if available)."
      ]
    },
    {
      "cell_type": "markdown",
      "metadata": {
        "id": "_3GInuaz56s8"
      },
      "source": [
        "First, let's give our LLM-as-Judge some instructions. In our case, we're just going to directly use LLM-as-judge to grade which of the summarizers is the most helpful.\n",
        "\n",
        "It might be hard to grade our summarizers without a ground truth reference, but here, comparing different prompts head to head will give us a sense of which is better!"
      ]
    },
    {
      "cell_type": "code",
      "execution_count": 7,
      "metadata": {
        "id": "yoz8Oa-r56s8"
      },
      "outputs": [],
      "source": [
        "JUDGE_SYSTEM_PROMPT = \"\"\"\n",
        "Please act as an impartial judge and evaluate the quality of the summarizations provided by two AI summarizers to the meeting transcript below.\n",
        "Your evaluation should consider factors such as the helpfulness, relevance, accuracy, depth, creativity, and level of detail of their summarizations.\n",
        "Begin your evaluation by comparing the two summarizations and provide a short explanation.\n",
        "Avoid any position biases and ensure that the order in which the responses were presented does not influence your decision.\n",
        "Do not favor certain names of the assistants.\n",
        "Be as objective as possible. \"\"\"\n",
        "\n",
        "JUDGE_HUMAN_PROMPT = \"\"\"\n",
        "[The Meeting Transcript] {transcript}\n",
        "\n",
        "[The Start of Assistant A's Summarization] {answer_a} [The End of Assistant A's Summarization]\n",
        "\n",
        "[The Start of Assistant B's Summarization] {answer_b} [The End of Assistant B's Summarization]\"\"\""
      ]
    },
    {
      "cell_type": "markdown",
      "metadata": {
        "id": "RITDJSBG56s8"
      },
      "source": [
        "Our function will take in an `inputs` dictionary, and a list of `outputs` dictionaries for the different experiments that we want to compare."
      ]
    },
    {
      "cell_type": "code",
      "execution_count": 8,
      "metadata": {
        "id": "v_opOC1a56s8"
      },
      "outputs": [],
      "source": [
        "from pydantic import BaseModel, Field\n",
        "\n",
        "class Preference(BaseModel):\n",
        "    preference: int = Field(description=\"\"\"1 if Assistant A answer is better based upon the factors above.\n",
        "2 if Assistant B answer is better based upon the factors above.\n",
        "Output 0 if it is a tie.\"\"\")\n",
        "\n",
        "def ranked_preference(inputs: dict, outputs: list[dict]) -> list:\n",
        "    completion = openai_client.beta.chat.completions.parse(\n",
        "        model=\"gpt-4o\",\n",
        "        messages=[\n",
        "            {\n",
        "                \"role\": \"system\",\n",
        "                \"content\": JUDGE_SYSTEM_PROMPT,\n",
        "            },\n",
        "            {\n",
        "                \"role\": \"user\",\n",
        "                \"content\": JUDGE_HUMAN_PROMPT.format(\n",
        "                    transcript=inputs[\"transcript\"],\n",
        "                    answer_a=outputs[0].get(\"output\", \"N/A\"),\n",
        "                    answer_b=outputs[1].get(\"output\", \"N/A\")\n",
        "                )}\n",
        "        ],\n",
        "        response_format=Preference,\n",
        "    )\n",
        "\n",
        "    preference_score = completion.choices[0].message.parsed.preference\n",
        "\n",
        "    if preference_score == 1:\n",
        "        scores = [1, 0]\n",
        "    elif preference_score == 2:\n",
        "        scores = [0, 1]\n",
        "    else:\n",
        "        scores = [0, 0]\n",
        "    return scores"
      ]
    },
    {
      "cell_type": "markdown",
      "metadata": {
        "id": "fH7fuO7R56s9"
      },
      "source": [
        "Now let's run our pairwise experiment with `evaluate()`"
      ]
    },
    {
      "cell_type": "code",
      "execution_count": 10,
      "metadata": {
        "colab": {
          "base_uri": "https://localhost:8080/",
          "height": 163,
          "referenced_widgets": [
            "0697c008044a42c296c86b87730a2800",
            "826524f5cb434036830398692f897c33",
            "1a74a843032e4ff09e85e44b148e0e57",
            "cee61d8f0d104b91ab6e7186d8d25f49",
            "ee15d46bc47c49d7b0084049beb9b76a",
            "bf3fbc09bc524c0a80723acf126efca2",
            "8c9cde65799448df9644bb8c790e52bc",
            "a601ad88c572403fb5d11a6d57b395cc",
            "f000aa11677746a4bebfb01ee94cc80f",
            "1aa7148848514eefbc2921d957d52655",
            "5bf478ce85f944e587229d33b1896318"
          ]
        },
        "id": "lEZiTunH56s9",
        "outputId": "af92bca8-f8e0-484c-fd63-55de91c171e9"
      },
      "outputs": [
        {
          "output_type": "stream",
          "name": "stdout",
          "text": [
            "View the pairwise evaluation results at:\n",
            "https://smith.langchain.com/o/c1b67c13-bec2-4f98-8bbf-502c78449186/datasets/5925bc48-4e25-427a-9231-dfdbd04387ec/compare?selectedSessions=225eec7b-46c0-4a07-b97b-f1fb778b693b%2Cb367e9ce-945e-4581-9f76-ad74d0471d42&comparativeExperiment=10cfcb99-5437-45fb-bfb4-a8aba5ef2145\n",
            "\n",
            "\n"
          ]
        },
        {
          "output_type": "display_data",
          "data": {
            "text/plain": [
              "  0%|          | 0/5 [00:00<?, ?it/s]"
            ],
            "application/vnd.jupyter.widget-view+json": {
              "version_major": 2,
              "version_minor": 0,
              "model_id": "0697c008044a42c296c86b87730a2800"
            }
          },
          "metadata": {}
        },
        {
          "output_type": "execute_result",
          "data": {
            "text/plain": [
              "<langsmith.evaluation._runner.ComparativeExperimentResults at 0x7c0e5f443e60>"
            ]
          },
          "metadata": {},
          "execution_count": 10
        }
      ],
      "source": [
        "from langsmith import evaluate\n",
        "\n",
        "evaluate(\n",
        "    (\"Good Summarizer-a9ba2be6\", \"Bad Summarizer-ca5aec3a\"),  # TODO: Replace with the names/IDs of your experiments\n",
        "    evaluators=[ranked_preference]\n",
        ")"
      ]
    }
  ],
  "metadata": {
    "kernelspec": {
      "display_name": "ls-academy",
      "language": "python",
      "name": "python3"
    },
    "language_info": {
      "codemirror_mode": {
        "name": "ipython",
        "version": 3
      },
      "file_extension": ".py",
      "mimetype": "text/x-python",
      "name": "python",
      "nbconvert_exporter": "python",
      "pygments_lexer": "ipython3",
      "version": "3.9.6"
    },
    "colab": {
      "provenance": []
    },
    "widgets": {
      "application/vnd.jupyter.widget-state+json": {
        "80d8fa93be4148a7bf2400352c9760cb": {
          "model_module": "@jupyter-widgets/controls",
          "model_name": "HBoxModel",
          "model_module_version": "1.5.0",
          "state": {
            "_dom_classes": [],
            "_model_module": "@jupyter-widgets/controls",
            "_model_module_version": "1.5.0",
            "_model_name": "HBoxModel",
            "_view_count": null,
            "_view_module": "@jupyter-widgets/controls",
            "_view_module_version": "1.5.0",
            "_view_name": "HBoxView",
            "box_style": "",
            "children": [
              "IPY_MODEL_1458bf7fd3aa43e59014e34c4df594d6",
              "IPY_MODEL_86ac7c60c09e4aaab8fc23febbfcc193",
              "IPY_MODEL_787a117d29614bbcb73f24f4eecbab4d"
            ],
            "layout": "IPY_MODEL_aff00d1bb4014629bcb8d245a8556e64"
          }
        },
        "1458bf7fd3aa43e59014e34c4df594d6": {
          "model_module": "@jupyter-widgets/controls",
          "model_name": "HTMLModel",
          "model_module_version": "1.5.0",
          "state": {
            "_dom_classes": [],
            "_model_module": "@jupyter-widgets/controls",
            "_model_module_version": "1.5.0",
            "_model_name": "HTMLModel",
            "_view_count": null,
            "_view_module": "@jupyter-widgets/controls",
            "_view_module_version": "1.5.0",
            "_view_name": "HTMLView",
            "description": "",
            "description_tooltip": null,
            "layout": "IPY_MODEL_cd9eedda3edc40e09a979fe3a767921f",
            "placeholder": "​",
            "style": "IPY_MODEL_79a1a145f075430c8153b3bd49355021",
            "value": ""
          }
        },
        "86ac7c60c09e4aaab8fc23febbfcc193": {
          "model_module": "@jupyter-widgets/controls",
          "model_name": "FloatProgressModel",
          "model_module_version": "1.5.0",
          "state": {
            "_dom_classes": [],
            "_model_module": "@jupyter-widgets/controls",
            "_model_module_version": "1.5.0",
            "_model_name": "FloatProgressModel",
            "_view_count": null,
            "_view_module": "@jupyter-widgets/controls",
            "_view_module_version": "1.5.0",
            "_view_name": "ProgressView",
            "bar_style": "success",
            "description": "",
            "description_tooltip": null,
            "layout": "IPY_MODEL_f7527d92a823495686af911f9ace18b6",
            "max": 1,
            "min": 0,
            "orientation": "horizontal",
            "style": "IPY_MODEL_2355b36396814e788ff8b6af36bdb9ff",
            "value": 1
          }
        },
        "787a117d29614bbcb73f24f4eecbab4d": {
          "model_module": "@jupyter-widgets/controls",
          "model_name": "HTMLModel",
          "model_module_version": "1.5.0",
          "state": {
            "_dom_classes": [],
            "_model_module": "@jupyter-widgets/controls",
            "_model_module_version": "1.5.0",
            "_model_name": "HTMLModel",
            "_view_count": null,
            "_view_module": "@jupyter-widgets/controls",
            "_view_module_version": "1.5.0",
            "_view_name": "HTMLView",
            "description": "",
            "description_tooltip": null,
            "layout": "IPY_MODEL_0ffe34630c13406785c8bd8ceeef5b4b",
            "placeholder": "​",
            "style": "IPY_MODEL_e6ac2fe6bbd348c78b17bdf478fcce20",
            "value": " 5/? [00:15&lt;00:00,  2.88s/it]"
          }
        },
        "aff00d1bb4014629bcb8d245a8556e64": {
          "model_module": "@jupyter-widgets/base",
          "model_name": "LayoutModel",
          "model_module_version": "1.2.0",
          "state": {
            "_model_module": "@jupyter-widgets/base",
            "_model_module_version": "1.2.0",
            "_model_name": "LayoutModel",
            "_view_count": null,
            "_view_module": "@jupyter-widgets/base",
            "_view_module_version": "1.2.0",
            "_view_name": "LayoutView",
            "align_content": null,
            "align_items": null,
            "align_self": null,
            "border": null,
            "bottom": null,
            "display": null,
            "flex": null,
            "flex_flow": null,
            "grid_area": null,
            "grid_auto_columns": null,
            "grid_auto_flow": null,
            "grid_auto_rows": null,
            "grid_column": null,
            "grid_gap": null,
            "grid_row": null,
            "grid_template_areas": null,
            "grid_template_columns": null,
            "grid_template_rows": null,
            "height": null,
            "justify_content": null,
            "justify_items": null,
            "left": null,
            "margin": null,
            "max_height": null,
            "max_width": null,
            "min_height": null,
            "min_width": null,
            "object_fit": null,
            "object_position": null,
            "order": null,
            "overflow": null,
            "overflow_x": null,
            "overflow_y": null,
            "padding": null,
            "right": null,
            "top": null,
            "visibility": null,
            "width": null
          }
        },
        "cd9eedda3edc40e09a979fe3a767921f": {
          "model_module": "@jupyter-widgets/base",
          "model_name": "LayoutModel",
          "model_module_version": "1.2.0",
          "state": {
            "_model_module": "@jupyter-widgets/base",
            "_model_module_version": "1.2.0",
            "_model_name": "LayoutModel",
            "_view_count": null,
            "_view_module": "@jupyter-widgets/base",
            "_view_module_version": "1.2.0",
            "_view_name": "LayoutView",
            "align_content": null,
            "align_items": null,
            "align_self": null,
            "border": null,
            "bottom": null,
            "display": null,
            "flex": null,
            "flex_flow": null,
            "grid_area": null,
            "grid_auto_columns": null,
            "grid_auto_flow": null,
            "grid_auto_rows": null,
            "grid_column": null,
            "grid_gap": null,
            "grid_row": null,
            "grid_template_areas": null,
            "grid_template_columns": null,
            "grid_template_rows": null,
            "height": null,
            "justify_content": null,
            "justify_items": null,
            "left": null,
            "margin": null,
            "max_height": null,
            "max_width": null,
            "min_height": null,
            "min_width": null,
            "object_fit": null,
            "object_position": null,
            "order": null,
            "overflow": null,
            "overflow_x": null,
            "overflow_y": null,
            "padding": null,
            "right": null,
            "top": null,
            "visibility": null,
            "width": null
          }
        },
        "79a1a145f075430c8153b3bd49355021": {
          "model_module": "@jupyter-widgets/controls",
          "model_name": "DescriptionStyleModel",
          "model_module_version": "1.5.0",
          "state": {
            "_model_module": "@jupyter-widgets/controls",
            "_model_module_version": "1.5.0",
            "_model_name": "DescriptionStyleModel",
            "_view_count": null,
            "_view_module": "@jupyter-widgets/base",
            "_view_module_version": "1.2.0",
            "_view_name": "StyleView",
            "description_width": ""
          }
        },
        "f7527d92a823495686af911f9ace18b6": {
          "model_module": "@jupyter-widgets/base",
          "model_name": "LayoutModel",
          "model_module_version": "1.2.0",
          "state": {
            "_model_module": "@jupyter-widgets/base",
            "_model_module_version": "1.2.0",
            "_model_name": "LayoutModel",
            "_view_count": null,
            "_view_module": "@jupyter-widgets/base",
            "_view_module_version": "1.2.0",
            "_view_name": "LayoutView",
            "align_content": null,
            "align_items": null,
            "align_self": null,
            "border": null,
            "bottom": null,
            "display": null,
            "flex": null,
            "flex_flow": null,
            "grid_area": null,
            "grid_auto_columns": null,
            "grid_auto_flow": null,
            "grid_auto_rows": null,
            "grid_column": null,
            "grid_gap": null,
            "grid_row": null,
            "grid_template_areas": null,
            "grid_template_columns": null,
            "grid_template_rows": null,
            "height": null,
            "justify_content": null,
            "justify_items": null,
            "left": null,
            "margin": null,
            "max_height": null,
            "max_width": null,
            "min_height": null,
            "min_width": null,
            "object_fit": null,
            "object_position": null,
            "order": null,
            "overflow": null,
            "overflow_x": null,
            "overflow_y": null,
            "padding": null,
            "right": null,
            "top": null,
            "visibility": null,
            "width": "20px"
          }
        },
        "2355b36396814e788ff8b6af36bdb9ff": {
          "model_module": "@jupyter-widgets/controls",
          "model_name": "ProgressStyleModel",
          "model_module_version": "1.5.0",
          "state": {
            "_model_module": "@jupyter-widgets/controls",
            "_model_module_version": "1.5.0",
            "_model_name": "ProgressStyleModel",
            "_view_count": null,
            "_view_module": "@jupyter-widgets/base",
            "_view_module_version": "1.2.0",
            "_view_name": "StyleView",
            "bar_color": null,
            "description_width": ""
          }
        },
        "0ffe34630c13406785c8bd8ceeef5b4b": {
          "model_module": "@jupyter-widgets/base",
          "model_name": "LayoutModel",
          "model_module_version": "1.2.0",
          "state": {
            "_model_module": "@jupyter-widgets/base",
            "_model_module_version": "1.2.0",
            "_model_name": "LayoutModel",
            "_view_count": null,
            "_view_module": "@jupyter-widgets/base",
            "_view_module_version": "1.2.0",
            "_view_name": "LayoutView",
            "align_content": null,
            "align_items": null,
            "align_self": null,
            "border": null,
            "bottom": null,
            "display": null,
            "flex": null,
            "flex_flow": null,
            "grid_area": null,
            "grid_auto_columns": null,
            "grid_auto_flow": null,
            "grid_auto_rows": null,
            "grid_column": null,
            "grid_gap": null,
            "grid_row": null,
            "grid_template_areas": null,
            "grid_template_columns": null,
            "grid_template_rows": null,
            "height": null,
            "justify_content": null,
            "justify_items": null,
            "left": null,
            "margin": null,
            "max_height": null,
            "max_width": null,
            "min_height": null,
            "min_width": null,
            "object_fit": null,
            "object_position": null,
            "order": null,
            "overflow": null,
            "overflow_x": null,
            "overflow_y": null,
            "padding": null,
            "right": null,
            "top": null,
            "visibility": null,
            "width": null
          }
        },
        "e6ac2fe6bbd348c78b17bdf478fcce20": {
          "model_module": "@jupyter-widgets/controls",
          "model_name": "DescriptionStyleModel",
          "model_module_version": "1.5.0",
          "state": {
            "_model_module": "@jupyter-widgets/controls",
            "_model_module_version": "1.5.0",
            "_model_name": "DescriptionStyleModel",
            "_view_count": null,
            "_view_module": "@jupyter-widgets/base",
            "_view_module_version": "1.2.0",
            "_view_name": "StyleView",
            "description_width": ""
          }
        },
        "2040fa7277184bbfba182a0663054367": {
          "model_module": "@jupyter-widgets/controls",
          "model_name": "HBoxModel",
          "model_module_version": "1.5.0",
          "state": {
            "_dom_classes": [],
            "_model_module": "@jupyter-widgets/controls",
            "_model_module_version": "1.5.0",
            "_model_name": "HBoxModel",
            "_view_count": null,
            "_view_module": "@jupyter-widgets/controls",
            "_view_module_version": "1.5.0",
            "_view_name": "HBoxView",
            "box_style": "",
            "children": [
              "IPY_MODEL_5f474653194a4e1a9fae9c42e25e9cca",
              "IPY_MODEL_457c26d8edba4b9baf6d9786ece684da",
              "IPY_MODEL_443a24d7dfa04b6b8d3fb02e09429241"
            ],
            "layout": "IPY_MODEL_e4158a3864aa487bb22806aa28f155f5"
          }
        },
        "5f474653194a4e1a9fae9c42e25e9cca": {
          "model_module": "@jupyter-widgets/controls",
          "model_name": "HTMLModel",
          "model_module_version": "1.5.0",
          "state": {
            "_dom_classes": [],
            "_model_module": "@jupyter-widgets/controls",
            "_model_module_version": "1.5.0",
            "_model_name": "HTMLModel",
            "_view_count": null,
            "_view_module": "@jupyter-widgets/controls",
            "_view_module_version": "1.5.0",
            "_view_name": "HTMLView",
            "description": "",
            "description_tooltip": null,
            "layout": "IPY_MODEL_f1058969bd8f4f9fab3c0792f09090f3",
            "placeholder": "​",
            "style": "IPY_MODEL_98c969198adb4a3f951fc25a5ef30d9b",
            "value": ""
          }
        },
        "457c26d8edba4b9baf6d9786ece684da": {
          "model_module": "@jupyter-widgets/controls",
          "model_name": "FloatProgressModel",
          "model_module_version": "1.5.0",
          "state": {
            "_dom_classes": [],
            "_model_module": "@jupyter-widgets/controls",
            "_model_module_version": "1.5.0",
            "_model_name": "FloatProgressModel",
            "_view_count": null,
            "_view_module": "@jupyter-widgets/controls",
            "_view_module_version": "1.5.0",
            "_view_name": "ProgressView",
            "bar_style": "success",
            "description": "",
            "description_tooltip": null,
            "layout": "IPY_MODEL_7d360a1497de482cae89c7d100880833",
            "max": 1,
            "min": 0,
            "orientation": "horizontal",
            "style": "IPY_MODEL_ffdca9d4bb414d0aa1341c20b40ca850",
            "value": 1
          }
        },
        "443a24d7dfa04b6b8d3fb02e09429241": {
          "model_module": "@jupyter-widgets/controls",
          "model_name": "HTMLModel",
          "model_module_version": "1.5.0",
          "state": {
            "_dom_classes": [],
            "_model_module": "@jupyter-widgets/controls",
            "_model_module_version": "1.5.0",
            "_model_name": "HTMLModel",
            "_view_count": null,
            "_view_module": "@jupyter-widgets/controls",
            "_view_module_version": "1.5.0",
            "_view_name": "HTMLView",
            "description": "",
            "description_tooltip": null,
            "layout": "IPY_MODEL_ec97f8f0284b478b95500b85b4fbde66",
            "placeholder": "​",
            "style": "IPY_MODEL_9d917be518574e4fb8794514cb681bca",
            "value": " 5/? [00:09&lt;00:00,  1.96s/it]"
          }
        },
        "e4158a3864aa487bb22806aa28f155f5": {
          "model_module": "@jupyter-widgets/base",
          "model_name": "LayoutModel",
          "model_module_version": "1.2.0",
          "state": {
            "_model_module": "@jupyter-widgets/base",
            "_model_module_version": "1.2.0",
            "_model_name": "LayoutModel",
            "_view_count": null,
            "_view_module": "@jupyter-widgets/base",
            "_view_module_version": "1.2.0",
            "_view_name": "LayoutView",
            "align_content": null,
            "align_items": null,
            "align_self": null,
            "border": null,
            "bottom": null,
            "display": null,
            "flex": null,
            "flex_flow": null,
            "grid_area": null,
            "grid_auto_columns": null,
            "grid_auto_flow": null,
            "grid_auto_rows": null,
            "grid_column": null,
            "grid_gap": null,
            "grid_row": null,
            "grid_template_areas": null,
            "grid_template_columns": null,
            "grid_template_rows": null,
            "height": null,
            "justify_content": null,
            "justify_items": null,
            "left": null,
            "margin": null,
            "max_height": null,
            "max_width": null,
            "min_height": null,
            "min_width": null,
            "object_fit": null,
            "object_position": null,
            "order": null,
            "overflow": null,
            "overflow_x": null,
            "overflow_y": null,
            "padding": null,
            "right": null,
            "top": null,
            "visibility": null,
            "width": null
          }
        },
        "f1058969bd8f4f9fab3c0792f09090f3": {
          "model_module": "@jupyter-widgets/base",
          "model_name": "LayoutModel",
          "model_module_version": "1.2.0",
          "state": {
            "_model_module": "@jupyter-widgets/base",
            "_model_module_version": "1.2.0",
            "_model_name": "LayoutModel",
            "_view_count": null,
            "_view_module": "@jupyter-widgets/base",
            "_view_module_version": "1.2.0",
            "_view_name": "LayoutView",
            "align_content": null,
            "align_items": null,
            "align_self": null,
            "border": null,
            "bottom": null,
            "display": null,
            "flex": null,
            "flex_flow": null,
            "grid_area": null,
            "grid_auto_columns": null,
            "grid_auto_flow": null,
            "grid_auto_rows": null,
            "grid_column": null,
            "grid_gap": null,
            "grid_row": null,
            "grid_template_areas": null,
            "grid_template_columns": null,
            "grid_template_rows": null,
            "height": null,
            "justify_content": null,
            "justify_items": null,
            "left": null,
            "margin": null,
            "max_height": null,
            "max_width": null,
            "min_height": null,
            "min_width": null,
            "object_fit": null,
            "object_position": null,
            "order": null,
            "overflow": null,
            "overflow_x": null,
            "overflow_y": null,
            "padding": null,
            "right": null,
            "top": null,
            "visibility": null,
            "width": null
          }
        },
        "98c969198adb4a3f951fc25a5ef30d9b": {
          "model_module": "@jupyter-widgets/controls",
          "model_name": "DescriptionStyleModel",
          "model_module_version": "1.5.0",
          "state": {
            "_model_module": "@jupyter-widgets/controls",
            "_model_module_version": "1.5.0",
            "_model_name": "DescriptionStyleModel",
            "_view_count": null,
            "_view_module": "@jupyter-widgets/base",
            "_view_module_version": "1.2.0",
            "_view_name": "StyleView",
            "description_width": ""
          }
        },
        "7d360a1497de482cae89c7d100880833": {
          "model_module": "@jupyter-widgets/base",
          "model_name": "LayoutModel",
          "model_module_version": "1.2.0",
          "state": {
            "_model_module": "@jupyter-widgets/base",
            "_model_module_version": "1.2.0",
            "_model_name": "LayoutModel",
            "_view_count": null,
            "_view_module": "@jupyter-widgets/base",
            "_view_module_version": "1.2.0",
            "_view_name": "LayoutView",
            "align_content": null,
            "align_items": null,
            "align_self": null,
            "border": null,
            "bottom": null,
            "display": null,
            "flex": null,
            "flex_flow": null,
            "grid_area": null,
            "grid_auto_columns": null,
            "grid_auto_flow": null,
            "grid_auto_rows": null,
            "grid_column": null,
            "grid_gap": null,
            "grid_row": null,
            "grid_template_areas": null,
            "grid_template_columns": null,
            "grid_template_rows": null,
            "height": null,
            "justify_content": null,
            "justify_items": null,
            "left": null,
            "margin": null,
            "max_height": null,
            "max_width": null,
            "min_height": null,
            "min_width": null,
            "object_fit": null,
            "object_position": null,
            "order": null,
            "overflow": null,
            "overflow_x": null,
            "overflow_y": null,
            "padding": null,
            "right": null,
            "top": null,
            "visibility": null,
            "width": "20px"
          }
        },
        "ffdca9d4bb414d0aa1341c20b40ca850": {
          "model_module": "@jupyter-widgets/controls",
          "model_name": "ProgressStyleModel",
          "model_module_version": "1.5.0",
          "state": {
            "_model_module": "@jupyter-widgets/controls",
            "_model_module_version": "1.5.0",
            "_model_name": "ProgressStyleModel",
            "_view_count": null,
            "_view_module": "@jupyter-widgets/base",
            "_view_module_version": "1.2.0",
            "_view_name": "StyleView",
            "bar_color": null,
            "description_width": ""
          }
        },
        "ec97f8f0284b478b95500b85b4fbde66": {
          "model_module": "@jupyter-widgets/base",
          "model_name": "LayoutModel",
          "model_module_version": "1.2.0",
          "state": {
            "_model_module": "@jupyter-widgets/base",
            "_model_module_version": "1.2.0",
            "_model_name": "LayoutModel",
            "_view_count": null,
            "_view_module": "@jupyter-widgets/base",
            "_view_module_version": "1.2.0",
            "_view_name": "LayoutView",
            "align_content": null,
            "align_items": null,
            "align_self": null,
            "border": null,
            "bottom": null,
            "display": null,
            "flex": null,
            "flex_flow": null,
            "grid_area": null,
            "grid_auto_columns": null,
            "grid_auto_flow": null,
            "grid_auto_rows": null,
            "grid_column": null,
            "grid_gap": null,
            "grid_row": null,
            "grid_template_areas": null,
            "grid_template_columns": null,
            "grid_template_rows": null,
            "height": null,
            "justify_content": null,
            "justify_items": null,
            "left": null,
            "margin": null,
            "max_height": null,
            "max_width": null,
            "min_height": null,
            "min_width": null,
            "object_fit": null,
            "object_position": null,
            "order": null,
            "overflow": null,
            "overflow_x": null,
            "overflow_y": null,
            "padding": null,
            "right": null,
            "top": null,
            "visibility": null,
            "width": null
          }
        },
        "9d917be518574e4fb8794514cb681bca": {
          "model_module": "@jupyter-widgets/controls",
          "model_name": "DescriptionStyleModel",
          "model_module_version": "1.5.0",
          "state": {
            "_model_module": "@jupyter-widgets/controls",
            "_model_module_version": "1.5.0",
            "_model_name": "DescriptionStyleModel",
            "_view_count": null,
            "_view_module": "@jupyter-widgets/base",
            "_view_module_version": "1.2.0",
            "_view_name": "StyleView",
            "description_width": ""
          }
        },
        "0697c008044a42c296c86b87730a2800": {
          "model_module": "@jupyter-widgets/controls",
          "model_name": "HBoxModel",
          "model_module_version": "1.5.0",
          "state": {
            "_dom_classes": [],
            "_model_module": "@jupyter-widgets/controls",
            "_model_module_version": "1.5.0",
            "_model_name": "HBoxModel",
            "_view_count": null,
            "_view_module": "@jupyter-widgets/controls",
            "_view_module_version": "1.5.0",
            "_view_name": "HBoxView",
            "box_style": "",
            "children": [
              "IPY_MODEL_826524f5cb434036830398692f897c33",
              "IPY_MODEL_1a74a843032e4ff09e85e44b148e0e57",
              "IPY_MODEL_cee61d8f0d104b91ab6e7186d8d25f49"
            ],
            "layout": "IPY_MODEL_ee15d46bc47c49d7b0084049beb9b76a"
          }
        },
        "826524f5cb434036830398692f897c33": {
          "model_module": "@jupyter-widgets/controls",
          "model_name": "HTMLModel",
          "model_module_version": "1.5.0",
          "state": {
            "_dom_classes": [],
            "_model_module": "@jupyter-widgets/controls",
            "_model_module_version": "1.5.0",
            "_model_name": "HTMLModel",
            "_view_count": null,
            "_view_module": "@jupyter-widgets/controls",
            "_view_module_version": "1.5.0",
            "_view_name": "HTMLView",
            "description": "",
            "description_tooltip": null,
            "layout": "IPY_MODEL_bf3fbc09bc524c0a80723acf126efca2",
            "placeholder": "​",
            "style": "IPY_MODEL_8c9cde65799448df9644bb8c790e52bc",
            "value": "100%"
          }
        },
        "1a74a843032e4ff09e85e44b148e0e57": {
          "model_module": "@jupyter-widgets/controls",
          "model_name": "FloatProgressModel",
          "model_module_version": "1.5.0",
          "state": {
            "_dom_classes": [],
            "_model_module": "@jupyter-widgets/controls",
            "_model_module_version": "1.5.0",
            "_model_name": "FloatProgressModel",
            "_view_count": null,
            "_view_module": "@jupyter-widgets/controls",
            "_view_module_version": "1.5.0",
            "_view_name": "ProgressView",
            "bar_style": "success",
            "description": "",
            "description_tooltip": null,
            "layout": "IPY_MODEL_a601ad88c572403fb5d11a6d57b395cc",
            "max": 5,
            "min": 0,
            "orientation": "horizontal",
            "style": "IPY_MODEL_f000aa11677746a4bebfb01ee94cc80f",
            "value": 5
          }
        },
        "cee61d8f0d104b91ab6e7186d8d25f49": {
          "model_module": "@jupyter-widgets/controls",
          "model_name": "HTMLModel",
          "model_module_version": "1.5.0",
          "state": {
            "_dom_classes": [],
            "_model_module": "@jupyter-widgets/controls",
            "_model_module_version": "1.5.0",
            "_model_name": "HTMLModel",
            "_view_count": null,
            "_view_module": "@jupyter-widgets/controls",
            "_view_module_version": "1.5.0",
            "_view_name": "HTMLView",
            "description": "",
            "description_tooltip": null,
            "layout": "IPY_MODEL_1aa7148848514eefbc2921d957d52655",
            "placeholder": "​",
            "style": "IPY_MODEL_5bf478ce85f944e587229d33b1896318",
            "value": " 5/5 [00:02&lt;00:00,  1.73it/s]"
          }
        },
        "ee15d46bc47c49d7b0084049beb9b76a": {
          "model_module": "@jupyter-widgets/base",
          "model_name": "LayoutModel",
          "model_module_version": "1.2.0",
          "state": {
            "_model_module": "@jupyter-widgets/base",
            "_model_module_version": "1.2.0",
            "_model_name": "LayoutModel",
            "_view_count": null,
            "_view_module": "@jupyter-widgets/base",
            "_view_module_version": "1.2.0",
            "_view_name": "LayoutView",
            "align_content": null,
            "align_items": null,
            "align_self": null,
            "border": null,
            "bottom": null,
            "display": null,
            "flex": null,
            "flex_flow": null,
            "grid_area": null,
            "grid_auto_columns": null,
            "grid_auto_flow": null,
            "grid_auto_rows": null,
            "grid_column": null,
            "grid_gap": null,
            "grid_row": null,
            "grid_template_areas": null,
            "grid_template_columns": null,
            "grid_template_rows": null,
            "height": null,
            "justify_content": null,
            "justify_items": null,
            "left": null,
            "margin": null,
            "max_height": null,
            "max_width": null,
            "min_height": null,
            "min_width": null,
            "object_fit": null,
            "object_position": null,
            "order": null,
            "overflow": null,
            "overflow_x": null,
            "overflow_y": null,
            "padding": null,
            "right": null,
            "top": null,
            "visibility": null,
            "width": null
          }
        },
        "bf3fbc09bc524c0a80723acf126efca2": {
          "model_module": "@jupyter-widgets/base",
          "model_name": "LayoutModel",
          "model_module_version": "1.2.0",
          "state": {
            "_model_module": "@jupyter-widgets/base",
            "_model_module_version": "1.2.0",
            "_model_name": "LayoutModel",
            "_view_count": null,
            "_view_module": "@jupyter-widgets/base",
            "_view_module_version": "1.2.0",
            "_view_name": "LayoutView",
            "align_content": null,
            "align_items": null,
            "align_self": null,
            "border": null,
            "bottom": null,
            "display": null,
            "flex": null,
            "flex_flow": null,
            "grid_area": null,
            "grid_auto_columns": null,
            "grid_auto_flow": null,
            "grid_auto_rows": null,
            "grid_column": null,
            "grid_gap": null,
            "grid_row": null,
            "grid_template_areas": null,
            "grid_template_columns": null,
            "grid_template_rows": null,
            "height": null,
            "justify_content": null,
            "justify_items": null,
            "left": null,
            "margin": null,
            "max_height": null,
            "max_width": null,
            "min_height": null,
            "min_width": null,
            "object_fit": null,
            "object_position": null,
            "order": null,
            "overflow": null,
            "overflow_x": null,
            "overflow_y": null,
            "padding": null,
            "right": null,
            "top": null,
            "visibility": null,
            "width": null
          }
        },
        "8c9cde65799448df9644bb8c790e52bc": {
          "model_module": "@jupyter-widgets/controls",
          "model_name": "DescriptionStyleModel",
          "model_module_version": "1.5.0",
          "state": {
            "_model_module": "@jupyter-widgets/controls",
            "_model_module_version": "1.5.0",
            "_model_name": "DescriptionStyleModel",
            "_view_count": null,
            "_view_module": "@jupyter-widgets/base",
            "_view_module_version": "1.2.0",
            "_view_name": "StyleView",
            "description_width": ""
          }
        },
        "a601ad88c572403fb5d11a6d57b395cc": {
          "model_module": "@jupyter-widgets/base",
          "model_name": "LayoutModel",
          "model_module_version": "1.2.0",
          "state": {
            "_model_module": "@jupyter-widgets/base",
            "_model_module_version": "1.2.0",
            "_model_name": "LayoutModel",
            "_view_count": null,
            "_view_module": "@jupyter-widgets/base",
            "_view_module_version": "1.2.0",
            "_view_name": "LayoutView",
            "align_content": null,
            "align_items": null,
            "align_self": null,
            "border": null,
            "bottom": null,
            "display": null,
            "flex": null,
            "flex_flow": null,
            "grid_area": null,
            "grid_auto_columns": null,
            "grid_auto_flow": null,
            "grid_auto_rows": null,
            "grid_column": null,
            "grid_gap": null,
            "grid_row": null,
            "grid_template_areas": null,
            "grid_template_columns": null,
            "grid_template_rows": null,
            "height": null,
            "justify_content": null,
            "justify_items": null,
            "left": null,
            "margin": null,
            "max_height": null,
            "max_width": null,
            "min_height": null,
            "min_width": null,
            "object_fit": null,
            "object_position": null,
            "order": null,
            "overflow": null,
            "overflow_x": null,
            "overflow_y": null,
            "padding": null,
            "right": null,
            "top": null,
            "visibility": null,
            "width": null
          }
        },
        "f000aa11677746a4bebfb01ee94cc80f": {
          "model_module": "@jupyter-widgets/controls",
          "model_name": "ProgressStyleModel",
          "model_module_version": "1.5.0",
          "state": {
            "_model_module": "@jupyter-widgets/controls",
            "_model_module_version": "1.5.0",
            "_model_name": "ProgressStyleModel",
            "_view_count": null,
            "_view_module": "@jupyter-widgets/base",
            "_view_module_version": "1.2.0",
            "_view_name": "StyleView",
            "bar_color": null,
            "description_width": ""
          }
        },
        "1aa7148848514eefbc2921d957d52655": {
          "model_module": "@jupyter-widgets/base",
          "model_name": "LayoutModel",
          "model_module_version": "1.2.0",
          "state": {
            "_model_module": "@jupyter-widgets/base",
            "_model_module_version": "1.2.0",
            "_model_name": "LayoutModel",
            "_view_count": null,
            "_view_module": "@jupyter-widgets/base",
            "_view_module_version": "1.2.0",
            "_view_name": "LayoutView",
            "align_content": null,
            "align_items": null,
            "align_self": null,
            "border": null,
            "bottom": null,
            "display": null,
            "flex": null,
            "flex_flow": null,
            "grid_area": null,
            "grid_auto_columns": null,
            "grid_auto_flow": null,
            "grid_auto_rows": null,
            "grid_column": null,
            "grid_gap": null,
            "grid_row": null,
            "grid_template_areas": null,
            "grid_template_columns": null,
            "grid_template_rows": null,
            "height": null,
            "justify_content": null,
            "justify_items": null,
            "left": null,
            "margin": null,
            "max_height": null,
            "max_width": null,
            "min_height": null,
            "min_width": null,
            "object_fit": null,
            "object_position": null,
            "order": null,
            "overflow": null,
            "overflow_x": null,
            "overflow_y": null,
            "padding": null,
            "right": null,
            "top": null,
            "visibility": null,
            "width": null
          }
        },
        "5bf478ce85f944e587229d33b1896318": {
          "model_module": "@jupyter-widgets/controls",
          "model_name": "DescriptionStyleModel",
          "model_module_version": "1.5.0",
          "state": {
            "_model_module": "@jupyter-widgets/controls",
            "_model_module_version": "1.5.0",
            "_model_name": "DescriptionStyleModel",
            "_view_count": null,
            "_view_module": "@jupyter-widgets/base",
            "_view_module_version": "1.2.0",
            "_view_name": "StyleView",
            "description_width": ""
          }
        }
      }
    }
  },
  "nbformat": 4,
  "nbformat_minor": 0
}